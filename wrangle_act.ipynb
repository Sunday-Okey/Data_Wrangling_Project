{
 "cells": [
  {
   "cell_type": "markdown",
   "id": "d40c51a2",
   "metadata": {},
   "source": [
    "# Project: Wrangle and Analyze Data\n",
    "\n",
    "## Table of Contents\n",
    "<ul>\n",
    "    <li><a href=\"#intro\">Introduction</a></li>\n",
    "    <li><a href=\"#sources\">Data Sources</a></li>\n",
    "    <li><a href=\"#gathering\">Gathering Data </a></li>\n",
    "    <li><a href=\"#assessing\">Assessing Data</a></li>\n",
    "        <li><a href=\"#assessingsum\">Assessing Summary</a></li>\n",
    "    <li><a href=\"#cleaning\">Data Cleaning</a></li>\n",
    "    <li><a href=\"#analysis\">Exploratory Data Analysis</a></li>\n",
    "    <li><a href=\"#conclusion\">Summary and Conclusions</a></li>\n",
    "</ul>"
   ]
  },
  {
   "cell_type": "markdown",
   "id": "eace5f09",
   "metadata": {},
   "source": [
    "<a id='intro'></a>\n",
    "## Introduction\n",
    "> Real-world data rarely comes clean. Using Python and its libraries, the aim of this project is gather data from a variety of sources and in a variety of formats, assess its quality and tidiness and then clean it. This is called data wrangling. I will document my wrangling efforts in a Jupyter Notebook, plus showcase them through stunning analyses and visualizations using Python (and its libraries for data analysis).\n",
    "\n",
    "\n",
    "> In the this project I am going to gather and analyze data from `WeRateDogs` Twitter account <a href = \"https://twitter.com/dog_rates?lang=de\">\"WeRateDogs\"</a>. Data will be gathered through manual download, programmatical downloading and over twitter API. After that I am going to assess the data, define the issues found during the assessment and clean the data to get a final cleaned master dataset which I will analyze to produce interesting and stunning vizualizations. "
   ]
  },
  {
   "cell_type": "markdown",
   "id": "5904cc44",
   "metadata": {},
   "source": [
    "<a id='sources'></a>\n",
    "## Data Sources\n",
    "\n",
    "\n",
    ">1. **Name:** WeRateDogs Twitter Archive (twitter-archive-enhanced.csv)</li>\n",
    "><ul>   \n",
    ">    <li><b>Source:</b> <a href = \"https://d17h27t6h515a5.cloudfront.net/topher/2017/August/59a4e958_twitter-archive-enhanced/twitter-archive-enhanced.csv\">Udacity</a></li>    \n",
    "\n",
    ">    <li><b>Method of gathering:</b> Manual download</li>\n",
    "></ul>\n",
    "\n",
    ">2. **Name:** Tweet image predictions (image_predictions.tsv)</li>\n",
    "><ul>   \n",
    ">    <li><b>Source:</b> <a href=\"https://d17h27t6h515a5.cloudfront.net/topher/2017/August/599fd2ad_image-predictions/image-predictions.tsv\">Udacity</a></li>     \n",
    ">    <li><b>Method of gathering:</b> Programmatical download using Python requests library</li>\n",
    "></ul>\n",
    "\n",
    ">3. **Name:** Additional Twitter data (tweet_json.txt)\n",
    "><ul>   \n",
    ">    <li><b>Source:</b> <a href = \"https://twitter.com/dog_rates\">WeRateDog</a></li>    \n",
    ">    <li><b>Method of gathering:</b> Twitter API via Tweepy</li>\n",
    "></ul>\n"
   ]
  },
  {
   "cell_type": "code",
   "execution_count": 1,
   "id": "96c27db5",
   "metadata": {},
   "outputs": [],
   "source": [
    "#Let's import all packages I will use in this project\n",
    "import pandas as pd \n",
    "import numpy as np\n",
    "import matplotlib.pyplot as plt\n",
    "import seaborn as sns\n",
    "import requests \n",
    "import os\n",
    "import tweepy\n",
    "from tweepy import OAuthHandler\n",
    "import json\n",
    "from timeit import default_timer as timer\n",
    "from functools import reduce\n",
    "from datetime import datetime\n",
    "import json \n",
    "import re\n",
    "\n",
    "# pandas settings\n",
    "pd.set_option('display.max_colwidth', None)\n",
    "pd.set_option('display.max_rows', 500)\n",
    "pd.set_option('display.width', 1000)"
   ]
  },
  {
   "cell_type": "markdown",
   "id": "405d9b94",
   "metadata": {},
   "source": [
    "<a id='gathering'></a>\n",
    "## Gathering Data\n",
    "\n",
    "#### 1. WeRateDogs Twitter Archive (twitter-archive-enhanced-2.csv)\n",
    "\n",
    "> The file \"twitter_archive_enhanced-2.csv\" was downloaded manually from Udacity resources"
   ]
  },
  {
   "cell_type": "code",
   "execution_count": 2,
   "id": "5e4d8ab2",
   "metadata": {
    "scrolled": true
   },
   "outputs": [
    {
     "data": {
      "text/html": [
       "<div>\n",
       "<style scoped>\n",
       "    .dataframe tbody tr th:only-of-type {\n",
       "        vertical-align: middle;\n",
       "    }\n",
       "\n",
       "    .dataframe tbody tr th {\n",
       "        vertical-align: top;\n",
       "    }\n",
       "\n",
       "    .dataframe thead th {\n",
       "        text-align: right;\n",
       "    }\n",
       "</style>\n",
       "<table border=\"1\" class=\"dataframe\">\n",
       "  <thead>\n",
       "    <tr style=\"text-align: right;\">\n",
       "      <th></th>\n",
       "      <th>tweet_id</th>\n",
       "      <th>in_reply_to_status_id</th>\n",
       "      <th>in_reply_to_user_id</th>\n",
       "      <th>timestamp</th>\n",
       "      <th>source</th>\n",
       "      <th>text</th>\n",
       "      <th>retweeted_status_id</th>\n",
       "      <th>retweeted_status_user_id</th>\n",
       "      <th>retweeted_status_timestamp</th>\n",
       "      <th>expanded_urls</th>\n",
       "      <th>rating_numerator</th>\n",
       "      <th>rating_denominator</th>\n",
       "      <th>name</th>\n",
       "      <th>doggo</th>\n",
       "      <th>floofer</th>\n",
       "      <th>pupper</th>\n",
       "      <th>puppo</th>\n",
       "    </tr>\n",
       "  </thead>\n",
       "  <tbody>\n",
       "    <tr>\n",
       "      <th>0</th>\n",
       "      <td>892420643555336193</td>\n",
       "      <td>NaN</td>\n",
       "      <td>NaN</td>\n",
       "      <td>2017-08-01 16:23:56 +0000</td>\n",
       "      <td>&lt;a href=\"http://twitter.com/download/iphone\" rel=\"nofollow\"&gt;Twitter for iPhone&lt;/a&gt;</td>\n",
       "      <td>This is Phineas. He's a mystical boy. Only ever appears in the hole of a donut. 13/10 https://t.co/MgUWQ76dJU</td>\n",
       "      <td>NaN</td>\n",
       "      <td>NaN</td>\n",
       "      <td>NaN</td>\n",
       "      <td>https://twitter.com/dog_rates/status/892420643555336193/photo/1</td>\n",
       "      <td>13</td>\n",
       "      <td>10</td>\n",
       "      <td>Phineas</td>\n",
       "      <td>None</td>\n",
       "      <td>None</td>\n",
       "      <td>None</td>\n",
       "      <td>None</td>\n",
       "    </tr>\n",
       "    <tr>\n",
       "      <th>1</th>\n",
       "      <td>892177421306343426</td>\n",
       "      <td>NaN</td>\n",
       "      <td>NaN</td>\n",
       "      <td>2017-08-01 00:17:27 +0000</td>\n",
       "      <td>&lt;a href=\"http://twitter.com/download/iphone\" rel=\"nofollow\"&gt;Twitter for iPhone&lt;/a&gt;</td>\n",
       "      <td>This is Tilly. She's just checking pup on you. Hopes you're doing ok. If not, she's available for pats, snugs, boops, the whole bit. 13/10 https://t.co/0Xxu71qeIV</td>\n",
       "      <td>NaN</td>\n",
       "      <td>NaN</td>\n",
       "      <td>NaN</td>\n",
       "      <td>https://twitter.com/dog_rates/status/892177421306343426/photo/1</td>\n",
       "      <td>13</td>\n",
       "      <td>10</td>\n",
       "      <td>Tilly</td>\n",
       "      <td>None</td>\n",
       "      <td>None</td>\n",
       "      <td>None</td>\n",
       "      <td>None</td>\n",
       "    </tr>\n",
       "  </tbody>\n",
       "</table>\n",
       "</div>"
      ],
      "text/plain": [
       "             tweet_id  in_reply_to_status_id  in_reply_to_user_id                  timestamp                                                                              source                                                                                                                                                                text  retweeted_status_id  retweeted_status_user_id retweeted_status_timestamp                                                    expanded_urls  rating_numerator  rating_denominator     name doggo floofer pupper puppo\n",
       "0  892420643555336193                    NaN                  NaN  2017-08-01 16:23:56 +0000  <a href=\"http://twitter.com/download/iphone\" rel=\"nofollow\">Twitter for iPhone</a>                                                       This is Phineas. He's a mystical boy. Only ever appears in the hole of a donut. 13/10 https://t.co/MgUWQ76dJU                  NaN                       NaN                        NaN  https://twitter.com/dog_rates/status/892420643555336193/photo/1                13                  10  Phineas  None    None   None  None\n",
       "1  892177421306343426                    NaN                  NaN  2017-08-01 00:17:27 +0000  <a href=\"http://twitter.com/download/iphone\" rel=\"nofollow\">Twitter for iPhone</a>  This is Tilly. She's just checking pup on you. Hopes you're doing ok. If not, she's available for pats, snugs, boops, the whole bit. 13/10 https://t.co/0Xxu71qeIV                  NaN                       NaN                        NaN  https://twitter.com/dog_rates/status/892177421306343426/photo/1                13                  10    Tilly  None    None   None  None"
      ]
     },
     "execution_count": 2,
     "metadata": {},
     "output_type": "execute_result"
    }
   ],
   "source": [
    "# load twitter archive data into pandas dataframe\n",
    "df = pd.read_csv(\"twitter-archive-enhanced-2.csv\")\n",
    "\n",
    "#Let's take a look at the first three rows\n",
    "df.head(2)"
   ]
  },
  {
   "cell_type": "markdown",
   "id": "58148763",
   "metadata": {},
   "source": [
    "#### 2. Tweet image predictions (image_predictions.tsv)\n",
    "\n",
    "The tweet image predictions: i.e., what breed of dog (or other object, animal, etc.) is present in each tweet according to a neural network. This file (image_predictions.tsv) is hosted on Udacity's servers and will be downloaded programmatically using the Pthon requests library and the following URL: https://d17h27t6h515a5.cloudfront.net/topher/2017/August/599fd2ad_image-predictions/image-predictions.tsv\n"
   ]
  },
  {
   "cell_type": "code",
   "execution_count": 3,
   "id": "af5721ea",
   "metadata": {},
   "outputs": [],
   "source": [
    "# let's download image_predictions.tsv programatically\n",
    "\n",
    "url = 'https://d17h27t6h515a5.cloudfront.net/topher/2017/August/599fd2ad_image-predictions/image-predictions.tsv'\n",
    "with open('image-predictions.tsv' , 'wb') as file:\n",
    "    predictions = requests.get(url)\n",
    "    file.write(predictions.content)\n"
   ]
  },
  {
   "cell_type": "code",
   "execution_count": 4,
   "id": "ac240167",
   "metadata": {
    "scrolled": true
   },
   "outputs": [
    {
     "data": {
      "text/html": [
       "<div>\n",
       "<style scoped>\n",
       "    .dataframe tbody tr th:only-of-type {\n",
       "        vertical-align: middle;\n",
       "    }\n",
       "\n",
       "    .dataframe tbody tr th {\n",
       "        vertical-align: top;\n",
       "    }\n",
       "\n",
       "    .dataframe thead th {\n",
       "        text-align: right;\n",
       "    }\n",
       "</style>\n",
       "<table border=\"1\" class=\"dataframe\">\n",
       "  <thead>\n",
       "    <tr style=\"text-align: right;\">\n",
       "      <th></th>\n",
       "      <th>tweet_id</th>\n",
       "      <th>jpg_url</th>\n",
       "      <th>img_num</th>\n",
       "      <th>p1</th>\n",
       "      <th>p1_conf</th>\n",
       "      <th>p1_dog</th>\n",
       "      <th>p2</th>\n",
       "      <th>p2_conf</th>\n",
       "      <th>p2_dog</th>\n",
       "      <th>p3</th>\n",
       "      <th>p3_conf</th>\n",
       "      <th>p3_dog</th>\n",
       "    </tr>\n",
       "  </thead>\n",
       "  <tbody>\n",
       "    <tr>\n",
       "      <th>0</th>\n",
       "      <td>666020888022790149</td>\n",
       "      <td>https://pbs.twimg.com/media/CT4udn0WwAA0aMy.jpg</td>\n",
       "      <td>1</td>\n",
       "      <td>Welsh_springer_spaniel</td>\n",
       "      <td>0.465074</td>\n",
       "      <td>True</td>\n",
       "      <td>collie</td>\n",
       "      <td>0.156665</td>\n",
       "      <td>True</td>\n",
       "      <td>Shetland_sheepdog</td>\n",
       "      <td>0.061428</td>\n",
       "      <td>True</td>\n",
       "    </tr>\n",
       "    <tr>\n",
       "      <th>1</th>\n",
       "      <td>666029285002620928</td>\n",
       "      <td>https://pbs.twimg.com/media/CT42GRgUYAA5iDo.jpg</td>\n",
       "      <td>1</td>\n",
       "      <td>redbone</td>\n",
       "      <td>0.506826</td>\n",
       "      <td>True</td>\n",
       "      <td>miniature_pinscher</td>\n",
       "      <td>0.074192</td>\n",
       "      <td>True</td>\n",
       "      <td>Rhodesian_ridgeback</td>\n",
       "      <td>0.072010</td>\n",
       "      <td>True</td>\n",
       "    </tr>\n",
       "    <tr>\n",
       "      <th>2</th>\n",
       "      <td>666033412701032449</td>\n",
       "      <td>https://pbs.twimg.com/media/CT4521TWwAEvMyu.jpg</td>\n",
       "      <td>1</td>\n",
       "      <td>German_shepherd</td>\n",
       "      <td>0.596461</td>\n",
       "      <td>True</td>\n",
       "      <td>malinois</td>\n",
       "      <td>0.138584</td>\n",
       "      <td>True</td>\n",
       "      <td>bloodhound</td>\n",
       "      <td>0.116197</td>\n",
       "      <td>True</td>\n",
       "    </tr>\n",
       "    <tr>\n",
       "      <th>3</th>\n",
       "      <td>666044226329800704</td>\n",
       "      <td>https://pbs.twimg.com/media/CT5Dr8HUEAA-lEu.jpg</td>\n",
       "      <td>1</td>\n",
       "      <td>Rhodesian_ridgeback</td>\n",
       "      <td>0.408143</td>\n",
       "      <td>True</td>\n",
       "      <td>redbone</td>\n",
       "      <td>0.360687</td>\n",
       "      <td>True</td>\n",
       "      <td>miniature_pinscher</td>\n",
       "      <td>0.222752</td>\n",
       "      <td>True</td>\n",
       "    </tr>\n",
       "    <tr>\n",
       "      <th>4</th>\n",
       "      <td>666049248165822465</td>\n",
       "      <td>https://pbs.twimg.com/media/CT5IQmsXIAAKY4A.jpg</td>\n",
       "      <td>1</td>\n",
       "      <td>miniature_pinscher</td>\n",
       "      <td>0.560311</td>\n",
       "      <td>True</td>\n",
       "      <td>Rottweiler</td>\n",
       "      <td>0.243682</td>\n",
       "      <td>True</td>\n",
       "      <td>Doberman</td>\n",
       "      <td>0.154629</td>\n",
       "      <td>True</td>\n",
       "    </tr>\n",
       "  </tbody>\n",
       "</table>\n",
       "</div>"
      ],
      "text/plain": [
       "             tweet_id                                          jpg_url  img_num                      p1   p1_conf  p1_dog                  p2   p2_conf  p2_dog                   p3   p3_conf  p3_dog\n",
       "0  666020888022790149  https://pbs.twimg.com/media/CT4udn0WwAA0aMy.jpg        1  Welsh_springer_spaniel  0.465074    True              collie  0.156665    True    Shetland_sheepdog  0.061428    True\n",
       "1  666029285002620928  https://pbs.twimg.com/media/CT42GRgUYAA5iDo.jpg        1                 redbone  0.506826    True  miniature_pinscher  0.074192    True  Rhodesian_ridgeback  0.072010    True\n",
       "2  666033412701032449  https://pbs.twimg.com/media/CT4521TWwAEvMyu.jpg        1         German_shepherd  0.596461    True            malinois  0.138584    True           bloodhound  0.116197    True\n",
       "3  666044226329800704  https://pbs.twimg.com/media/CT5Dr8HUEAA-lEu.jpg        1     Rhodesian_ridgeback  0.408143    True             redbone  0.360687    True   miniature_pinscher  0.222752    True\n",
       "4  666049248165822465  https://pbs.twimg.com/media/CT5IQmsXIAAKY4A.jpg        1      miniature_pinscher  0.560311    True          Rottweiler  0.243682    True             Doberman  0.154629    True"
      ]
     },
     "execution_count": 4,
     "metadata": {},
     "output_type": "execute_result"
    }
   ],
   "source": [
    "# Let's load image predictions data into pandas dataframe\n",
    "image_prediction_df = pd.read_csv('image-predictions.tsv', sep = '\\t')\n",
    "\n",
    "# display few five rows\n",
    "image_prediction_df.head()"
   ]
  },
  {
   "cell_type": "markdown",
   "id": "22f441b3",
   "metadata": {},
   "source": [
    "#### 3. Gathering data from twitter API (tweet_json.txt)\n",
    "\n",
    "To gather the data from the Twitter API I created a Twitter developer account and gathered the data via tweepy. This additional data is in a new file  \"tweet_json.txt\". \n",
    "\n",
    "This file contains tweet id, favorite count and retweet count. I used Tweepy to query Twitter's API for this additional data beyond the data included in the WeRateDogs Twitter archive. This additional data includes retweet count and favorite count.\n"
   ]
  },
  {
   "cell_type": "code",
   "execution_count": 5,
   "id": "3b3630ee",
   "metadata": {},
   "outputs": [],
   "source": [
    "# # Query Twitter API for each tweet in the Twitter archive and save JSON in a text file\n",
    "# # These are hidden to comply with Twitter's API terms and conditions\n",
    "# consumer_key = 'gTk5y3dDlWatjO9q1BidA8pl2'\n",
    "# consumer_secret = 'Oumxg4Ex73jkoLvspvTKQbsYkeLT1xgMCC9McMNfMuBXjX9aif'\n",
    "# access_token = '790549754522570753-lDYG528vWoH3RJngde3SK1ntIeoJO38'\n",
    "# access_secret = 'lkBK5QbWHmoD3TgkaicUsEztaDBbKSVqgc2vtCzBX3kRI'\n",
    "\n",
    "# auth = OAuthHandler(consumer_key, consumer_secret)\n",
    "# auth.set_access_token(access_token, access_secret)\n",
    "\n",
    "# api = tweepy.API(auth, wait_on_rate_limit=True)\n",
    "\n",
    "\n",
    "# tweet_ids = df.tweet_id.values\n",
    "# len(tweet_ids)\n",
    "# #get all the twitter ids in the df\n",
    "# twitter_ids = list(df.tweet_id.unique())\n",
    "\n",
    "\n",
    "\n",
    "# # Query Twitter's API for JSON data for each tweet ID in the Twitter archive\n",
    "# count = 0\n",
    "# fails_dict = {}\n",
    "# start = timer()\n",
    "# # Save each tweet's returned JSON as a new line in a .txt file\n",
    "# with open('tweet_json.txt', 'w') as outfile:\n",
    "#     # This loop will likely take 20-30 minutes to run because of Twitter's rate limit\n",
    "#     for tweet_id in tweet_ids:\n",
    "#         count += 1\n",
    "#         print(str(count) + \": \" + str(tweet_id))\n",
    "#         try:\n",
    "#             tweet = api.get_status(tweet_id, tweet_mode='extended')\n",
    "#             print(\"Success\")\n",
    "#             json.dump(tweet._json, outfile)\n",
    "#             outfile.write('\\n')\n",
    "#         except tweepy.errors.TweepyException as e:\n",
    "#             print(\"Fail\")\n",
    "#             fails_dict[tweet_id] = e\n",
    "#             pass\n",
    "# end = timer()\n",
    "# print(end - start)\n",
    "# print(fails_dict)"
   ]
  },
  {
   "cell_type": "code",
   "execution_count": 6,
   "id": "f6034d28",
   "metadata": {},
   "outputs": [],
   "source": [
    "#Reading the data from the tweet_json.txt\n",
    "twitter_api_data = [] #declaring a list for storing lines\n",
    "with open('tweet_json.txt', encoding='utf-8') as json_file:  \n",
    "    for line in json_file:\n",
    "        twitter_api_data.append(json.loads(line))\n",
    "\n",
    "#Gathering data from the tweet_json file\n",
    "retweet_favorite_list = []\n",
    "for each_dict in twitter_api_data:\n",
    "        tweet_id = each_dict['id']\n",
    "        favorite_count = each_dict['favorite_count']\n",
    "        retweet_count = each_dict['retweet_count']\n",
    "        retweet_favorite_list.append({'tweet_id': str(tweet_id),\n",
    "                             'favorite_count': int(favorite_count),\n",
    "                             'retweet_count': int(retweet_count),\n",
    "                            })"
   ]
  },
  {
   "cell_type": "code",
   "execution_count": 7,
   "id": "9d4ac3d7",
   "metadata": {},
   "outputs": [
    {
     "data": {
      "text/html": [
       "<div>\n",
       "<style scoped>\n",
       "    .dataframe tbody tr th:only-of-type {\n",
       "        vertical-align: middle;\n",
       "    }\n",
       "\n",
       "    .dataframe tbody tr th {\n",
       "        vertical-align: top;\n",
       "    }\n",
       "\n",
       "    .dataframe thead th {\n",
       "        text-align: right;\n",
       "    }\n",
       "</style>\n",
       "<table border=\"1\" class=\"dataframe\">\n",
       "  <thead>\n",
       "    <tr style=\"text-align: right;\">\n",
       "      <th></th>\n",
       "      <th>tweet_id</th>\n",
       "      <th>favorite_count</th>\n",
       "      <th>retweet_count</th>\n",
       "    </tr>\n",
       "  </thead>\n",
       "  <tbody>\n",
       "    <tr>\n",
       "      <th>0</th>\n",
       "      <td>892420643555336193</td>\n",
       "      <td>33777</td>\n",
       "      <td>6991</td>\n",
       "    </tr>\n",
       "    <tr>\n",
       "      <th>1</th>\n",
       "      <td>892177421306343426</td>\n",
       "      <td>29293</td>\n",
       "      <td>5293</td>\n",
       "    </tr>\n",
       "    <tr>\n",
       "      <th>2</th>\n",
       "      <td>891815181378084864</td>\n",
       "      <td>22031</td>\n",
       "      <td>3471</td>\n",
       "    </tr>\n",
       "  </tbody>\n",
       "</table>\n",
       "</div>"
      ],
      "text/plain": [
       "             tweet_id  favorite_count  retweet_count\n",
       "0  892420643555336193           33777           6991\n",
       "1  892177421306343426           29293           5293\n",
       "2  891815181378084864           22031           3471"
      ]
     },
     "execution_count": 7,
     "metadata": {},
     "output_type": "execute_result"
    }
   ],
   "source": [
    "#Creating a Data Frame basing on the list of elements gathering form tweet_json2 file\n",
    "api_df = pd.DataFrame(retweet_favorite_list, columns = ['tweet_id', 'favorite_count','retweet_count'])\n",
    "\n",
    "# display the first 3 rows\n",
    "api_df.head(3)"
   ]
  },
  {
   "cell_type": "markdown",
   "id": "5c41da45",
   "metadata": {},
   "source": [
    "## Assessing Data\n",
    "In this step I will assess the data we gathered above and try to detect some common data issues like: quality issue and tidiness issue.\n",
    "I will employ both both visual and programmatical ways of assessing data . Let us now assess data visually and as well as programmatically using pandas to identify quality and tidiness issuesin our data ."
   ]
  },
  {
   "cell_type": "markdown",
   "id": "32182aa0",
   "metadata": {},
   "source": [
    "### df (Twitter archive data)\n",
    "\n",
    "Let's first look for missing data."
   ]
  },
  {
   "cell_type": "code",
   "execution_count": 8,
   "id": "bbc14426",
   "metadata": {},
   "outputs": [
    {
     "name": "stdout",
     "output_type": "stream",
     "text": [
      "<class 'pandas.core.frame.DataFrame'>\n",
      "RangeIndex: 2356 entries, 0 to 2355\n",
      "Data columns (total 17 columns):\n",
      " #   Column                      Non-Null Count  Dtype  \n",
      "---  ------                      --------------  -----  \n",
      " 0   tweet_id                    2356 non-null   int64  \n",
      " 1   in_reply_to_status_id       78 non-null     float64\n",
      " 2   in_reply_to_user_id         78 non-null     float64\n",
      " 3   timestamp                   2356 non-null   object \n",
      " 4   source                      2356 non-null   object \n",
      " 5   text                        2356 non-null   object \n",
      " 6   retweeted_status_id         181 non-null    float64\n",
      " 7   retweeted_status_user_id    181 non-null    float64\n",
      " 8   retweeted_status_timestamp  181 non-null    object \n",
      " 9   expanded_urls               2297 non-null   object \n",
      " 10  rating_numerator            2356 non-null   int64  \n",
      " 11  rating_denominator          2356 non-null   int64  \n",
      " 12  name                        2356 non-null   object \n",
      " 13  doggo                       2356 non-null   object \n",
      " 14  floofer                     2356 non-null   object \n",
      " 15  pupper                      2356 non-null   object \n",
      " 16  puppo                       2356 non-null   object \n",
      "dtypes: float64(4), int64(3), object(10)\n",
      "memory usage: 313.0+ KB\n"
     ]
    }
   ],
   "source": [
    "df.info()"
   ]
  },
  {
   "cell_type": "code",
   "execution_count": 9,
   "id": "690da557",
   "metadata": {
    "scrolled": true
   },
   "outputs": [
    {
     "data": {
      "text/plain": [
       "tweet_id                         0\n",
       "in_reply_to_status_id         2278\n",
       "in_reply_to_user_id           2278\n",
       "timestamp                        0\n",
       "source                           0\n",
       "text                             0\n",
       "retweeted_status_id           2175\n",
       "retweeted_status_user_id      2175\n",
       "retweeted_status_timestamp    2175\n",
       "expanded_urls                   59\n",
       "rating_numerator                 0\n",
       "rating_denominator               0\n",
       "name                             0\n",
       "doggo                            0\n",
       "floofer                          0\n",
       "pupper                           0\n",
       "puppo                            0\n",
       "dtype: int64"
      ]
     },
     "execution_count": 9,
     "metadata": {},
     "output_type": "execute_result"
    }
   ],
   "source": [
    "df.isnull().sum()"
   ]
  },
  {
   "cell_type": "markdown",
   "id": "ae34e62d",
   "metadata": {},
   "source": [
    "We can see that there is a lot of missing data in the reply and the retweeted columns. Since we only want original posts with images, we have to drop these columns later. The missing data in the \"expanded_urls\" column will also be dropped alongside."
   ]
  },
  {
   "cell_type": "code",
   "execution_count": 10,
   "id": "39bde381",
   "metadata": {
    "scrolled": true
   },
   "outputs": [
    {
     "data": {
      "text/html": [
       "<div>\n",
       "<style scoped>\n",
       "    .dataframe tbody tr th:only-of-type {\n",
       "        vertical-align: middle;\n",
       "    }\n",
       "\n",
       "    .dataframe tbody tr th {\n",
       "        vertical-align: top;\n",
       "    }\n",
       "\n",
       "    .dataframe thead th {\n",
       "        text-align: right;\n",
       "    }\n",
       "</style>\n",
       "<table border=\"1\" class=\"dataframe\">\n",
       "  <thead>\n",
       "    <tr style=\"text-align: right;\">\n",
       "      <th></th>\n",
       "      <th>tweet_id</th>\n",
       "      <th>in_reply_to_status_id</th>\n",
       "      <th>in_reply_to_user_id</th>\n",
       "      <th>timestamp</th>\n",
       "      <th>source</th>\n",
       "      <th>text</th>\n",
       "      <th>retweeted_status_id</th>\n",
       "      <th>retweeted_status_user_id</th>\n",
       "      <th>retweeted_status_timestamp</th>\n",
       "      <th>expanded_urls</th>\n",
       "      <th>rating_numerator</th>\n",
       "      <th>rating_denominator</th>\n",
       "      <th>name</th>\n",
       "      <th>doggo</th>\n",
       "      <th>floofer</th>\n",
       "      <th>pupper</th>\n",
       "      <th>puppo</th>\n",
       "    </tr>\n",
       "  </thead>\n",
       "  <tbody>\n",
       "    <tr>\n",
       "      <th>1623</th>\n",
       "      <td>684902183876321280</td>\n",
       "      <td>NaN</td>\n",
       "      <td>NaN</td>\n",
       "      <td>2016-01-07 00:59:40 +0000</td>\n",
       "      <td>&lt;a href=\"http://twitter.com/download/iphone\" rel=\"nofollow\"&gt;Twitter for iPhone&lt;/a&gt;</td>\n",
       "      <td>This is Perry. He's an Augustus Gloopster. Very condescending. Makes up for it with the sneaky tongue slip. 11/10 https://t.co/JVvIrUmTkR</td>\n",
       "      <td>NaN</td>\n",
       "      <td>NaN</td>\n",
       "      <td>NaN</td>\n",
       "      <td>https://twitter.com/dog_rates/status/684902183876321280/photo/1</td>\n",
       "      <td>11</td>\n",
       "      <td>10</td>\n",
       "      <td>Perry</td>\n",
       "      <td>None</td>\n",
       "      <td>None</td>\n",
       "      <td>None</td>\n",
       "      <td>None</td>\n",
       "    </tr>\n",
       "    <tr>\n",
       "      <th>153</th>\n",
       "      <td>862457590147678208</td>\n",
       "      <td>NaN</td>\n",
       "      <td>NaN</td>\n",
       "      <td>2017-05-11 00:01:27 +0000</td>\n",
       "      <td>&lt;a href=\"http://twitter.com/download/iphone\" rel=\"nofollow\"&gt;Twitter for iPhone&lt;/a&gt;</td>\n",
       "      <td>This is Jersey. He likes to watch movies, but only if you watch with him. Enjoys horror films like The Bababork and H*ckraiser. 13/10 https://t.co/jvSNASweNb</td>\n",
       "      <td>NaN</td>\n",
       "      <td>NaN</td>\n",
       "      <td>NaN</td>\n",
       "      <td>https://twitter.com/dog_rates/status/862457590147678208/photo/1,https://twitter.com/dog_rates/status/862457590147678208/photo/1,https://twitter.com/dog_rates/status/862457590147678208/photo/1</td>\n",
       "      <td>13</td>\n",
       "      <td>10</td>\n",
       "      <td>Jersey</td>\n",
       "      <td>None</td>\n",
       "      <td>None</td>\n",
       "      <td>None</td>\n",
       "      <td>None</td>\n",
       "    </tr>\n",
       "  </tbody>\n",
       "</table>\n",
       "</div>"
      ],
      "text/plain": [
       "                tweet_id  in_reply_to_status_id  in_reply_to_user_id                  timestamp                                                                              source                                                                                                                                                           text  retweeted_status_id  retweeted_status_user_id retweeted_status_timestamp                                                                                                                                                                                    expanded_urls  rating_numerator  rating_denominator    name doggo floofer pupper puppo\n",
       "1623  684902183876321280                    NaN                  NaN  2016-01-07 00:59:40 +0000  <a href=\"http://twitter.com/download/iphone\" rel=\"nofollow\">Twitter for iPhone</a>                      This is Perry. He's an Augustus Gloopster. Very condescending. Makes up for it with the sneaky tongue slip. 11/10 https://t.co/JVvIrUmTkR                  NaN                       NaN                        NaN                                                                                                                                  https://twitter.com/dog_rates/status/684902183876321280/photo/1                11                  10   Perry  None    None   None  None\n",
       "153   862457590147678208                    NaN                  NaN  2017-05-11 00:01:27 +0000  <a href=\"http://twitter.com/download/iphone\" rel=\"nofollow\">Twitter for iPhone</a>  This is Jersey. He likes to watch movies, but only if you watch with him. Enjoys horror films like The Bababork and H*ckraiser. 13/10 https://t.co/jvSNASweNb                  NaN                       NaN                        NaN  https://twitter.com/dog_rates/status/862457590147678208/photo/1,https://twitter.com/dog_rates/status/862457590147678208/photo/1,https://twitter.com/dog_rates/status/862457590147678208/photo/1                13                  10  Jersey  None    None   None  None"
      ]
     },
     "execution_count": 10,
     "metadata": {},
     "output_type": "execute_result"
    }
   ],
   "source": [
    "#Check data by visual assessment\n",
    "df.sample(2)"
   ]
  },
  {
   "cell_type": "markdown",
   "id": "5467edd8",
   "metadata": {},
   "source": [
    "From the visual assessment we can see that:\n",
    "- the source contains HTML code which are not necessaary\n",
    "- not all tweets could be classified as doggo, floofer, pupper or puppo and the columns contain \"None\"\n",
    "- there is \"None\" value in the name column"
   ]
  },
  {
   "cell_type": "markdown",
   "id": "12d2e048",
   "metadata": {},
   "source": [
    "- timestamp - columns should be datetime objects not string\n",
    "\n",
    "Now let's see how many wrong names we can find."
   ]
  },
  {
   "cell_type": "code",
   "execution_count": 11,
   "id": "8c50c2e3",
   "metadata": {},
   "outputs": [
    {
     "data": {
      "text/plain": [
       "None        745\n",
       "a            55\n",
       "Charlie      12\n",
       "Cooper       11\n",
       "Lucy         11\n",
       "Oliver       11\n",
       "Tucker       10\n",
       "Penny        10\n",
       "Lola         10\n",
       "Winston       9\n",
       "Bo            9\n",
       "Sadie         8\n",
       "the           8\n",
       "Daisy         7\n",
       "Buddy         7\n",
       "Toby          7\n",
       "an            7\n",
       "Bailey        7\n",
       "Leo           6\n",
       "Oscar         6\n",
       "Stanley       6\n",
       "Rusty         6\n",
       "Bella         6\n",
       "Dave          6\n",
       "Jack          6\n",
       "Koda          6\n",
       "Scout         6\n",
       "Jax           6\n",
       "Milo          6\n",
       "Louis         5\n",
       "Phil          5\n",
       "Sammy         5\n",
       "Gus           5\n",
       "Chester       5\n",
       "Alfie         5\n",
       "Sunny         5\n",
       "Bentley       5\n",
       "very          5\n",
       "Oakley        5\n",
       "Finn          5\n",
       "George        5\n",
       "Larry         5\n",
       "Clarence      4\n",
       "Loki          4\n",
       "Walter        4\n",
       "Reggie        4\n",
       "Hank          4\n",
       "Scooter       4\n",
       "Duke          4\n",
       "quite         4\n",
       "Name: name, dtype: int64"
      ]
     },
     "execution_count": 11,
     "metadata": {},
     "output_type": "execute_result"
    }
   ],
   "source": [
    "#let's check for wrong names in the name columns\n",
    "df.name.value_counts().head(50)"
   ]
  },
  {
   "cell_type": "markdown",
   "id": "029e559a",
   "metadata": {},
   "source": [
    "We can see, the name column contains wrong names like \"None\", \"a\", \"the\", \"an\". We shall remove those in the cleaning section later on\n",
    "\n",
    "Now let's check for duplicates"
   ]
  },
  {
   "cell_type": "code",
   "execution_count": 12,
   "id": "284cddd0",
   "metadata": {
    "scrolled": true
   },
   "outputs": [
    {
     "data": {
      "text/plain": [
       "0"
      ]
     },
     "execution_count": 12,
     "metadata": {},
     "output_type": "execute_result"
    }
   ],
   "source": [
    "sum(df.duplicated())"
   ]
  },
  {
   "cell_type": "markdown",
   "id": "fd00aad9",
   "metadata": {},
   "source": [
    "There are no duplicates in this data, this implies that the number of unique tweet_ids should be the length of the df. Lets check this below"
   ]
  },
  {
   "cell_type": "code",
   "execution_count": 13,
   "id": "30a3e3cd",
   "metadata": {
    "scrolled": true
   },
   "outputs": [
    {
     "data": {
      "text/plain": [
       "True"
      ]
     },
     "execution_count": 13,
     "metadata": {},
     "output_type": "execute_result"
    }
   ],
   "source": [
    "df.tweet_id.nunique() == df.shape[0]"
   ]
  },
  {
   "cell_type": "code",
   "execution_count": 14,
   "id": "dc0db861",
   "metadata": {
    "scrolled": true
   },
   "outputs": [
    {
     "data": {
      "text/plain": [
       "78"
      ]
     },
     "execution_count": 14,
     "metadata": {},
     "output_type": "execute_result"
    }
   ],
   "source": [
    "# check number of replies\n",
    "np.isfinite(df.in_reply_to_status_id).sum()"
   ]
  },
  {
   "cell_type": "code",
   "execution_count": 15,
   "id": "5b0900c8",
   "metadata": {
    "scrolled": false
   },
   "outputs": [
    {
     "data": {
      "text/plain": [
       "181"
      ]
     },
     "execution_count": 15,
     "metadata": {},
     "output_type": "execute_result"
    }
   ],
   "source": [
    "# check number of retweets\n",
    "np.isfinite(df.retweeted_status_id).sum()"
   ]
  },
  {
   "cell_type": "code",
   "execution_count": 16,
   "id": "ac6787b2",
   "metadata": {},
   "outputs": [
    {
     "data": {
      "text/plain": [
       "None        745\n",
       "a            55\n",
       "Charlie      12\n",
       "Cooper       11\n",
       "Lucy         11\n",
       "Oliver       11\n",
       "Tucker       10\n",
       "Penny        10\n",
       "Lola         10\n",
       "Winston       9\n",
       "Bo            9\n",
       "Sadie         8\n",
       "the           8\n",
       "Daisy         7\n",
       "Buddy         7\n",
       "Toby          7\n",
       "an            7\n",
       "Bailey        7\n",
       "Leo           6\n",
       "Oscar         6\n",
       "Stanley       6\n",
       "Rusty         6\n",
       "Bella         6\n",
       "Dave          6\n",
       "Jack          6\n",
       "Koda          6\n",
       "Scout         6\n",
       "Jax           6\n",
       "Milo          6\n",
       "Louis         5\n",
       "Phil          5\n",
       "Sammy         5\n",
       "Gus           5\n",
       "Chester       5\n",
       "Alfie         5\n",
       "Sunny         5\n",
       "Bentley       5\n",
       "very          5\n",
       "Oakley        5\n",
       "Finn          5\n",
       "George        5\n",
       "Larry         5\n",
       "Clarence      4\n",
       "Loki          4\n",
       "Walter        4\n",
       "Reggie        4\n",
       "Hank          4\n",
       "Scooter       4\n",
       "Duke          4\n",
       "quite         4\n",
       "Reginald      4\n",
       "Maggie        4\n",
       "Luna          4\n",
       "Maddie        4\n",
       "Dexter        4\n",
       "Jerry         4\n",
       "Carl          4\n",
       "Ruby          4\n",
       "Riley         4\n",
       "Clark         4\n",
       "Name: name, dtype: int64"
      ]
     },
     "execution_count": 16,
     "metadata": {},
     "output_type": "execute_result"
    }
   ],
   "source": [
    "# check name of dog\n",
    "df.name.value_counts().head(60)"
   ]
  },
  {
   "cell_type": "markdown",
   "id": "8790ad2c",
   "metadata": {},
   "source": [
    "There are irrelevant names such as 'None', 'a', 'an'"
   ]
  },
  {
   "cell_type": "code",
   "execution_count": 17,
   "id": "fbd97b92",
   "metadata": {},
   "outputs": [],
   "source": [
    "# check if dogs have more than one category assigned\n",
    "categories = ['doggo', 'floofer', 'pupper', 'puppo']\n",
    "\n",
    "for category in categories:\n",
    "    df[category] = df[category].apply(lambda x: 0 if x == 'None' else 1)\n",
    "\n",
    "df['number_categories'] = df.loc[:,categories].sum(axis = 1)"
   ]
  },
  {
   "cell_type": "code",
   "execution_count": 18,
   "id": "0d602c4b",
   "metadata": {
    "scrolled": true
   },
   "outputs": [
    {
     "data": {
      "text/plain": [
       "0    1976\n",
       "1     366\n",
       "2      14\n",
       "Name: number_categories, dtype: int64"
      ]
     },
     "execution_count": 18,
     "metadata": {},
     "output_type": "execute_result"
    }
   ],
   "source": [
    "# dogs categories\n",
    "df['number_categories'].value_counts()"
   ]
  },
  {
   "cell_type": "markdown",
   "id": "deb9aed8",
   "metadata": {},
   "source": [
    ">- Clearly we can see that some dogs have more than one category assigned."
   ]
  },
  {
   "cell_type": "markdown",
   "id": "e208e140",
   "metadata": {},
   "source": [
    "Now let's take a look at the ratings. By what we have seen so far, it looks like the ratings have always a format of 13/10 or 12/10 and so on. So we expect a numerator > 10 and denominator = 10."
   ]
  },
  {
   "cell_type": "code",
   "execution_count": 19,
   "id": "6494b306",
   "metadata": {},
   "outputs": [
    {
     "data": {
      "text/plain": [
       "10     2333\n",
       "11        3\n",
       "50        3\n",
       "20        2\n",
       "80        2\n",
       "70        1\n",
       "7         1\n",
       "15        1\n",
       "150       1\n",
       "170       1\n",
       "0         1\n",
       "90        1\n",
       "40        1\n",
       "130       1\n",
       "110       1\n",
       "16        1\n",
       "120       1\n",
       "2         1\n",
       "Name: rating_denominator, dtype: int64"
      ]
     },
     "execution_count": 19,
     "metadata": {},
     "output_type": "execute_result"
    }
   ],
   "source": [
    "# check rating denominator\n",
    "df.rating_denominator.value_counts()"
   ]
  },
  {
   "cell_type": "code",
   "execution_count": 20,
   "id": "dadcfba5",
   "metadata": {
    "scrolled": true
   },
   "outputs": [
    {
     "data": {
      "text/html": [
       "<div>\n",
       "<style scoped>\n",
       "    .dataframe tbody tr th:only-of-type {\n",
       "        vertical-align: middle;\n",
       "    }\n",
       "\n",
       "    .dataframe tbody tr th {\n",
       "        vertical-align: top;\n",
       "    }\n",
       "\n",
       "    .dataframe thead th {\n",
       "        text-align: right;\n",
       "    }\n",
       "</style>\n",
       "<table border=\"1\" class=\"dataframe\">\n",
       "  <thead>\n",
       "    <tr style=\"text-align: right;\">\n",
       "      <th></th>\n",
       "      <th>text</th>\n",
       "      <th>rating_denominator</th>\n",
       "    </tr>\n",
       "  </thead>\n",
       "  <tbody>\n",
       "    <tr>\n",
       "      <th>342</th>\n",
       "      <td>@docmisterio account started on 11/15/15</td>\n",
       "      <td>15</td>\n",
       "    </tr>\n",
       "    <tr>\n",
       "      <th>433</th>\n",
       "      <td>The floofs have been released I repeat the floofs have been released. 84/70 https://t.co/NIYC820tmd</td>\n",
       "      <td>70</td>\n",
       "    </tr>\n",
       "    <tr>\n",
       "      <th>784</th>\n",
       "      <td>RT @dog_rates: After so many requests, this is Bretagne. She was the last surviving 9/11 search dog, and our second ever 14/10. RIP https:/…</td>\n",
       "      <td>11</td>\n",
       "    </tr>\n",
       "    <tr>\n",
       "      <th>902</th>\n",
       "      <td>Why does this never happen at my front door... 165/150 https://t.co/HmwrdfEfUE</td>\n",
       "      <td>150</td>\n",
       "    </tr>\n",
       "    <tr>\n",
       "      <th>1068</th>\n",
       "      <td>After so many requests, this is Bretagne. She was the last surviving 9/11 search dog, and our second ever 14/10. RIP https://t.co/XAVDNDaVgQ</td>\n",
       "      <td>11</td>\n",
       "    </tr>\n",
       "    <tr>\n",
       "      <th>1120</th>\n",
       "      <td>Say hello to this unbelievably well behaved squad of doggos. 204/170 would try to pet all at once https://t.co/yGQI3He3xv</td>\n",
       "      <td>170</td>\n",
       "    </tr>\n",
       "    <tr>\n",
       "      <th>1165</th>\n",
       "      <td>Happy 4/20 from the squad! 13/10 for all https://t.co/eV1diwds8a</td>\n",
       "      <td>20</td>\n",
       "    </tr>\n",
       "    <tr>\n",
       "      <th>1202</th>\n",
       "      <td>This is Bluebert. He just saw that both #FinalFur match ups are split 50/50. Amazed af. 11/10 https://t.co/Kky1DPG4iq</td>\n",
       "      <td>50</td>\n",
       "    </tr>\n",
       "    <tr>\n",
       "      <th>1228</th>\n",
       "      <td>Happy Saturday here's 9 puppers on a bench. 99/90 good work everybody https://t.co/mpvaVxKmc1</td>\n",
       "      <td>90</td>\n",
       "    </tr>\n",
       "    <tr>\n",
       "      <th>1254</th>\n",
       "      <td>Here's a brigade of puppers. All look very prepared for whatever happens next. 80/80 https://t.co/0eb7R1Om12</td>\n",
       "      <td>80</td>\n",
       "    </tr>\n",
       "    <tr>\n",
       "      <th>1274</th>\n",
       "      <td>From left to right:\\nCletus, Jerome, Alejandro, Burp, &amp;amp; Titson\\nNone know where camera is. 45/50 would hug all at once https://t.co/sedre1ivTK</td>\n",
       "      <td>50</td>\n",
       "    </tr>\n",
       "    <tr>\n",
       "      <th>1351</th>\n",
       "      <td>Here is a whole flock of puppers.  60/50 I'll take the lot https://t.co/9dpcw6MdWa</td>\n",
       "      <td>50</td>\n",
       "    </tr>\n",
       "    <tr>\n",
       "      <th>1433</th>\n",
       "      <td>Happy Wednesday here's a bucket of pups. 44/40 would pet all at once https://t.co/HppvrYuamZ</td>\n",
       "      <td>40</td>\n",
       "    </tr>\n",
       "    <tr>\n",
       "      <th>1598</th>\n",
       "      <td>Yes I do realize a rating of 4/20 would've been fitting. However, it would be unjust to give these cooperative pups that low of a rating</td>\n",
       "      <td>20</td>\n",
       "    </tr>\n",
       "    <tr>\n",
       "      <th>1634</th>\n",
       "      <td>Two sneaky puppers were not initially seen, moving the rating to 143/130. Please forgive us. Thank you https://t.co/kRK51Y5ac3</td>\n",
       "      <td>130</td>\n",
       "    </tr>\n",
       "    <tr>\n",
       "      <th>1635</th>\n",
       "      <td>Someone help the girl is being mugged. Several are distracting her while two steal her shoes. Clever puppers 121/110 https://t.co/1zfnTJLt55</td>\n",
       "      <td>110</td>\n",
       "    </tr>\n",
       "    <tr>\n",
       "      <th>1662</th>\n",
       "      <td>This is Darrel. He just robbed a 7/11 and is in a high speed police chase. Was just spotted by the helicopter 10/10 https://t.co/7EsP8LmSp5</td>\n",
       "      <td>11</td>\n",
       "    </tr>\n",
       "    <tr>\n",
       "      <th>1663</th>\n",
       "      <td>I'm aware that I could've said 20/16, but here at WeRateDogs we are very professional. An inconsistent rating scale is simply irresponsible</td>\n",
       "      <td>16</td>\n",
       "    </tr>\n",
       "    <tr>\n",
       "      <th>1779</th>\n",
       "      <td>IT'S PUPPERGEDDON. Total of 144/120 ...I think https://t.co/ZanVtAtvIq</td>\n",
       "      <td>120</td>\n",
       "    </tr>\n",
       "    <tr>\n",
       "      <th>1843</th>\n",
       "      <td>Here we have an entire platoon of puppers. Total score: 88/80 would pet all at once https://t.co/y93p6FLvVw</td>\n",
       "      <td>80</td>\n",
       "    </tr>\n",
       "  </tbody>\n",
       "</table>\n",
       "</div>"
      ],
      "text/plain": [
       "                                                                                                                                                    text  rating_denominator\n",
       "342                                                                                                             @docmisterio account started on 11/15/15                  15\n",
       "433                                                  The floofs have been released I repeat the floofs have been released. 84/70 https://t.co/NIYC820tmd                  70\n",
       "784         RT @dog_rates: After so many requests, this is Bretagne. She was the last surviving 9/11 search dog, and our second ever 14/10. RIP https:/…                  11\n",
       "902                                                                       Why does this never happen at my front door... 165/150 https://t.co/HmwrdfEfUE                 150\n",
       "1068        After so many requests, this is Bretagne. She was the last surviving 9/11 search dog, and our second ever 14/10. RIP https://t.co/XAVDNDaVgQ                  11\n",
       "1120                           Say hello to this unbelievably well behaved squad of doggos. 204/170 would try to pet all at once https://t.co/yGQI3He3xv                 170\n",
       "1165                                                                                    Happy 4/20 from the squad! 13/10 for all https://t.co/eV1diwds8a                  20\n",
       "1202                               This is Bluebert. He just saw that both #FinalFur match ups are split 50/50. Amazed af. 11/10 https://t.co/Kky1DPG4iq                  50\n",
       "1228                                                       Happy Saturday here's 9 puppers on a bench. 99/90 good work everybody https://t.co/mpvaVxKmc1                  90\n",
       "1254                                        Here's a brigade of puppers. All look very prepared for whatever happens next. 80/80 https://t.co/0eb7R1Om12                  80\n",
       "1274  From left to right:\\nCletus, Jerome, Alejandro, Burp, &amp; Titson\\nNone know where camera is. 45/50 would hug all at once https://t.co/sedre1ivTK                  50\n",
       "1351                                                                  Here is a whole flock of puppers.  60/50 I'll take the lot https://t.co/9dpcw6MdWa                  50\n",
       "1433                                                        Happy Wednesday here's a bucket of pups. 44/40 would pet all at once https://t.co/HppvrYuamZ                  40\n",
       "1598            Yes I do realize a rating of 4/20 would've been fitting. However, it would be unjust to give these cooperative pups that low of a rating                  20\n",
       "1634                      Two sneaky puppers were not initially seen, moving the rating to 143/130. Please forgive us. Thank you https://t.co/kRK51Y5ac3                 130\n",
       "1635        Someone help the girl is being mugged. Several are distracting her while two steal her shoes. Clever puppers 121/110 https://t.co/1zfnTJLt55                 110\n",
       "1662         This is Darrel. He just robbed a 7/11 and is in a high speed police chase. Was just spotted by the helicopter 10/10 https://t.co/7EsP8LmSp5                  11\n",
       "1663         I'm aware that I could've said 20/16, but here at WeRateDogs we are very professional. An inconsistent rating scale is simply irresponsible                  16\n",
       "1779                                                                              IT'S PUPPERGEDDON. Total of 144/120 ...I think https://t.co/ZanVtAtvIq                 120\n",
       "1843                                         Here we have an entire platoon of puppers. Total score: 88/80 would pet all at once https://t.co/y93p6FLvVw                  80"
      ]
     },
     "execution_count": 20,
     "metadata": {},
     "output_type": "execute_result"
    }
   ],
   "source": [
    "# check ratings with denominator greather than 10\n",
    "df[df.rating_denominator > 10][['text', 'rating_denominator']]"
   ]
  },
  {
   "cell_type": "code",
   "execution_count": 21,
   "id": "aa62d509",
   "metadata": {},
   "outputs": [
    {
     "data": {
      "text/plain": [
       "12      558\n",
       "11      464\n",
       "10      461\n",
       "13      351\n",
       "9       158\n",
       "8       102\n",
       "7        55\n",
       "14       54\n",
       "5        37\n",
       "6        32\n",
       "3        19\n",
       "4        17\n",
       "2         9\n",
       "1         9\n",
       "75        2\n",
       "15        2\n",
       "420       2\n",
       "0         2\n",
       "80        1\n",
       "144       1\n",
       "17        1\n",
       "26        1\n",
       "20        1\n",
       "121       1\n",
       "143       1\n",
       "44        1\n",
       "60        1\n",
       "45        1\n",
       "50        1\n",
       "99        1\n",
       "204       1\n",
       "1776      1\n",
       "165       1\n",
       "666       1\n",
       "27        1\n",
       "182       1\n",
       "24        1\n",
       "960       1\n",
       "84        1\n",
       "88        1\n",
       "Name: rating_numerator, dtype: int64"
      ]
     },
     "execution_count": 21,
     "metadata": {},
     "output_type": "execute_result"
    }
   ],
   "source": [
    "# check rating numerator\n",
    "df.rating_numerator.value_counts()"
   ]
  },
  {
   "cell_type": "markdown",
   "id": "a9794814",
   "metadata": {},
   "source": [
    "We can see that there is a wide range of values for rating_numerator, with a maximum of 1776."
   ]
  },
  {
   "cell_type": "code",
   "execution_count": 22,
   "id": "72e788ee",
   "metadata": {},
   "outputs": [
    {
     "name": "stderr",
     "output_type": "stream",
     "text": [
      "C:\\Users\\User\\AppData\\Local\\Temp/ipykernel_6644/1178108513.py:4: UserWarning: This pattern has match groups. To actually get the groups, use str.extract.\n",
      "  display(df[df['text'].str.contains(r\"(\\d+\\.\\d*\\/\\d+)\")]\n"
     ]
    },
    {
     "data": {
      "text/html": [
       "<div>\n",
       "<style scoped>\n",
       "    .dataframe tbody tr th:only-of-type {\n",
       "        vertical-align: middle;\n",
       "    }\n",
       "\n",
       "    .dataframe tbody tr th {\n",
       "        vertical-align: top;\n",
       "    }\n",
       "\n",
       "    .dataframe thead th {\n",
       "        text-align: right;\n",
       "    }\n",
       "</style>\n",
       "<table border=\"1\" class=\"dataframe\">\n",
       "  <thead>\n",
       "    <tr style=\"text-align: right;\">\n",
       "      <th></th>\n",
       "      <th>text</th>\n",
       "      <th>rating_numerator</th>\n",
       "      <th>rating_denominator</th>\n",
       "    </tr>\n",
       "  </thead>\n",
       "  <tbody>\n",
       "    <tr>\n",
       "      <th>45</th>\n",
       "      <td>This is Bella. She hopes her smile made you smile. If not, she is also offering you her favorite monkey. 13.5/10 https://t.co/qjrljjt948</td>\n",
       "      <td>5</td>\n",
       "      <td>10</td>\n",
       "    </tr>\n",
       "    <tr>\n",
       "      <th>340</th>\n",
       "      <td>RT @dog_rates: This is Logan, the Chow who lived. He solemnly swears he's up to lots of good. H*ckin magical af 9.75/10 https://t.co/yBO5wu…</td>\n",
       "      <td>75</td>\n",
       "      <td>10</td>\n",
       "    </tr>\n",
       "    <tr>\n",
       "      <th>695</th>\n",
       "      <td>This is Logan, the Chow who lived. He solemnly swears he's up to lots of good. H*ckin magical af 9.75/10 https://t.co/yBO5wuqaPS</td>\n",
       "      <td>75</td>\n",
       "      <td>10</td>\n",
       "    </tr>\n",
       "    <tr>\n",
       "      <th>763</th>\n",
       "      <td>This is Sophie. She's a Jubilant Bush Pupper. Super h*ckin rare. Appears at random just to smile at the locals. 11.27/10 would smile back https://t.co/QFaUiIHxHq</td>\n",
       "      <td>27</td>\n",
       "      <td>10</td>\n",
       "    </tr>\n",
       "    <tr>\n",
       "      <th>1689</th>\n",
       "      <td>I've been told there's a slight possibility he's checking his mirror. We'll bump to 9.5/10. Still a menace</td>\n",
       "      <td>5</td>\n",
       "      <td>10</td>\n",
       "    </tr>\n",
       "    <tr>\n",
       "      <th>1712</th>\n",
       "      <td>Here we have uncovered an entire battalion of holiday puppers. Average of 11.26/10 https://t.co/eNm2S6p9BD</td>\n",
       "      <td>26</td>\n",
       "      <td>10</td>\n",
       "    </tr>\n",
       "  </tbody>\n",
       "</table>\n",
       "</div>"
      ],
      "text/plain": [
       "                                                                                                                                                                   text  rating_numerator  rating_denominator\n",
       "45                             This is Bella. She hopes her smile made you smile. If not, she is also offering you her favorite monkey. 13.5/10 https://t.co/qjrljjt948                 5                  10\n",
       "340                        RT @dog_rates: This is Logan, the Chow who lived. He solemnly swears he's up to lots of good. H*ckin magical af 9.75/10 https://t.co/yBO5wu…                75                  10\n",
       "695                                    This is Logan, the Chow who lived. He solemnly swears he's up to lots of good. H*ckin magical af 9.75/10 https://t.co/yBO5wuqaPS                75                  10\n",
       "763   This is Sophie. She's a Jubilant Bush Pupper. Super h*ckin rare. Appears at random just to smile at the locals. 11.27/10 would smile back https://t.co/QFaUiIHxHq                27                  10\n",
       "1689                                                         I've been told there's a slight possibility he's checking his mirror. We'll bump to 9.5/10. Still a menace                 5                  10\n",
       "1712                                                         Here we have uncovered an entire battalion of holiday puppers. Average of 11.26/10 https://t.co/eNm2S6p9BD                26                  10"
      ]
     },
     "metadata": {},
     "output_type": "display_data"
    }
   ],
   "source": [
    "#check for any float ratings in the text column\n",
    "\n",
    "with pd.option_context('max_colwidth', 200):\n",
    "    display(df[df['text'].str.contains(r\"(\\d+\\.\\d*\\/\\d+)\")]\n",
    "            [['text', 'rating_numerator', 'rating_denominator']])"
   ]
  },
  {
   "cell_type": "markdown",
   "id": "6acf4645",
   "metadata": {},
   "source": [
    ">- We can see clearly that some ratings were extracted incorrectly!"
   ]
  },
  {
   "cell_type": "code",
   "execution_count": 23,
   "id": "250271fc",
   "metadata": {},
   "outputs": [
    {
     "data": {
      "text/html": [
       "<div>\n",
       "<style scoped>\n",
       "    .dataframe tbody tr th:only-of-type {\n",
       "        vertical-align: middle;\n",
       "    }\n",
       "\n",
       "    .dataframe tbody tr th {\n",
       "        vertical-align: top;\n",
       "    }\n",
       "\n",
       "    .dataframe thead th {\n",
       "        text-align: right;\n",
       "    }\n",
       "</style>\n",
       "<table border=\"1\" class=\"dataframe\">\n",
       "  <thead>\n",
       "    <tr style=\"text-align: right;\">\n",
       "      <th></th>\n",
       "      <th>text</th>\n",
       "      <th>expanded_urls</th>\n",
       "    </tr>\n",
       "  </thead>\n",
       "  <tbody>\n",
       "    <tr>\n",
       "      <th>126</th>\n",
       "      <td>Say hello to Cooper. His expression is the same wet or dry. Absolute 12/10 but Coop desperately requests your help\\n\\nhttps://t.co/ZMTE4Mr69f https://t.co/7RyeXTYLNi</td>\n",
       "      <td>https://www.gofundme.com/3ti3nps,https://twitter.com/dog_rates/status/868552278524837888/photo/1,https://twitter.com/dog_rates/status/868552278524837888/photo/1</td>\n",
       "    </tr>\n",
       "    <tr>\n",
       "      <th>342</th>\n",
       "      <td>@docmisterio account started on 11/15/15</td>\n",
       "      <td>NaN</td>\n",
       "    </tr>\n",
       "    <tr>\n",
       "      <th>444</th>\n",
       "      <td>Some happy pupper news to share. 10/10 for everyone involved \\nhttps://t.co/MefMAZX2uv</td>\n",
       "      <td>http://us.blastingnews.com/news/2017/01/200-dogs-saved-from-south-korean-dog-meat-industry-001385441.html?sbdht=_pM1QUzk3wsfscF9XF2WEd9KoWDpsQlMUjfh1HxxUq0u5mMbiu2B0kw2_</td>\n",
       "    </tr>\n",
       "  </tbody>\n",
       "</table>\n",
       "</div>"
      ],
      "text/plain": [
       "                                                                                                                                                                      text                                                                                                                                                              expanded_urls\n",
       "126  Say hello to Cooper. His expression is the same wet or dry. Absolute 12/10 but Coop desperately requests your help\\n\\nhttps://t.co/ZMTE4Mr69f https://t.co/7RyeXTYLNi           https://www.gofundme.com/3ti3nps,https://twitter.com/dog_rates/status/868552278524837888/photo/1,https://twitter.com/dog_rates/status/868552278524837888/photo/1\n",
       "342                                                                                                                               @docmisterio account started on 11/15/15                                                                                                                                                                        NaN\n",
       "444                                                                                 Some happy pupper news to share. 10/10 for everyone involved \\nhttps://t.co/MefMAZX2uv  http://us.blastingnews.com/news/2017/01/200-dogs-saved-from-south-korean-dog-meat-industry-001385441.html?sbdht=_pM1QUzk3wsfscF9XF2WEd9KoWDpsQlMUjfh1HxxUq0u5mMbiu2B0kw2_"
      ]
     },
     "execution_count": 23,
     "metadata": {},
     "output_type": "execute_result"
    }
   ],
   "source": [
    "# check expanded urls\n",
    "df[~df.expanded_urls.str.startswith(('https://twitter.com','http://twitter.com', 'https://vine.co'), na=False)].sample(3)[['text','expanded_urls']]"
   ]
  },
  {
   "cell_type": "markdown",
   "id": "8c130b8c",
   "metadata": {},
   "source": [
    ">- There are expanded urls which contain more than one url address."
   ]
  },
  {
   "cell_type": "code",
   "execution_count": 24,
   "id": "eb686eed",
   "metadata": {},
   "outputs": [
    {
     "data": {
      "text/plain": [
       "639"
      ]
     },
     "execution_count": 24,
     "metadata": {},
     "output_type": "execute_result"
    }
   ],
   "source": [
    "# check for two or more urls in the expanded urls\n",
    "df[df.expanded_urls.str.contains(',', na = False)].expanded_urls.count()"
   ]
  },
  {
   "cell_type": "markdown",
   "id": "39e0d80c",
   "metadata": {},
   "source": [
    ">- We have 639 expanded urls which contain more than one url address."
   ]
  },
  {
   "cell_type": "markdown",
   "id": "1353881c",
   "metadata": {},
   "source": [
    "#### Let us try to assess further data with high rating_numerator and low rating_numerator"
   ]
  },
  {
   "cell_type": "code",
   "execution_count": 25,
   "id": "fb264787",
   "metadata": {
    "scrolled": false
   },
   "outputs": [
    {
     "name": "stdout",
     "output_type": "stream",
     "text": [
      "979    This is Atticus. He's quite simply America af. 1776/10 https://t.co/GRXwMxLBkh\n",
      "Name: text, dtype: object\n"
     ]
    }
   ],
   "source": [
    "print(df.query(\"rating_numerator == 1776\").text)"
   ]
  },
  {
   "cell_type": "code",
   "execution_count": 26,
   "id": "9befa14f",
   "metadata": {},
   "outputs": [
    {
     "name": "stdout",
     "output_type": "stream",
     "text": [
      "605     RT @dog_rates: Not familiar with this breed. No tail (weird). Only 2 legs. Doesn't bark. Surprisingly quick. Shits eggs. 1/10 https://t.co/…\n",
      "1446                                           After reading the comments I may have overestimated this pup. Downgraded to a 1/10. Please forgive me\n",
      "1869                       What kind of person sends in a picture without a dog in it? 1/10 just because that's a nice table https://t.co/RDXCfk8hK0\n",
      "1940                                                        The millennials have spoken and we've decided to immediately demote to a 1/10. Thank you\n",
      "2038         After 22 minutes of careful deliberation this dog is being demoted to a 1/10. The longer you look at him the more terrifying he becomes\n",
      "2091        Flamboyant pup here. Probably poisonous. Won't eat kibble. Doesn't bark. Slow af. Petting doesn't look fun. 1/10 https://t.co/jxukeh2BeO\n",
      "2261    Never seen dog like this. Breathes heavy. Tilts head in a pattern. No bark. Shitty at fetch. Not even cordless. 1/10 https://t.co/i9iSGNn3fx\n",
      "2335        This is an Albanian 3 1/2 legged  Episcopalian. Loves well-polished hardwood flooring. Penis on the collar. 9/10 https://t.co/d9NcXFKwLv\n",
      "2338          Not familiar with this breed. No tail (weird). Only 2 legs. Doesn't bark. Surprisingly quick. Shits eggs. 1/10 https://t.co/Asgdc6kuLX\n",
      "Name: text, dtype: object\n"
     ]
    }
   ],
   "source": [
    "print(df.query(\"rating_numerator == 1\").text)"
   ]
  },
  {
   "cell_type": "markdown",
   "id": "688f8c6d",
   "metadata": {},
   "source": [
    "The entry with index 605 shows, that these tweets contain pictures that don't contain any dogs. Also in the entry with index 2335 the rating got extracted wrongly (misinterpreted the 1/2 of 3 1/2 as the rating)."
   ]
  },
  {
   "cell_type": "code",
   "execution_count": 27,
   "id": "a27fac63",
   "metadata": {
    "scrolled": true
   },
   "outputs": [
    {
     "name": "stdout",
     "output_type": "stream",
     "text": [
      "315           When you're so blinded by your systematic plagiarism that you forget what day it is. 0/10 https://t.co/YbEJPkg4Ag\n",
      "1016    PUPDATE: can't see any. Even if I could, I couldn't reach them to pet. 0/10 much disappointment https://t.co/c7WXaB2nqX\n",
      "Name: text, dtype: object\n"
     ]
    }
   ],
   "source": [
    "print(df.query(\"rating_numerator == 0\").text)"
   ]
  },
  {
   "cell_type": "markdown",
   "id": "98ebde0e",
   "metadata": {},
   "source": [
    "No clear dog photos again. Let's make the same check for the denominator."
   ]
  },
  {
   "cell_type": "code",
   "execution_count": 28,
   "id": "4a73a25a",
   "metadata": {
    "scrolled": true
   },
   "outputs": [
    {
     "data": {
      "text/plain": [
       "10     2333\n",
       "11        3\n",
       "50        3\n",
       "20        2\n",
       "80        2\n",
       "70        1\n",
       "7         1\n",
       "15        1\n",
       "150       1\n",
       "170       1\n",
       "0         1\n",
       "90        1\n",
       "40        1\n",
       "130       1\n",
       "110       1\n",
       "16        1\n",
       "120       1\n",
       "2         1\n",
       "Name: rating_denominator, dtype: int64"
      ]
     },
     "execution_count": 28,
     "metadata": {},
     "output_type": "execute_result"
    }
   ],
   "source": [
    "df.rating_denominator.value_counts()"
   ]
  },
  {
   "cell_type": "code",
   "execution_count": 29,
   "id": "7008cc1b",
   "metadata": {
    "scrolled": true
   },
   "outputs": [
    {
     "name": "stdout",
     "output_type": "stream",
     "text": [
      "1120    Say hello to this unbelievably well behaved squad of doggos. 204/170 would try to pet all at once https://t.co/yGQI3He3xv\n",
      "Name: text, dtype: object\n"
     ]
    }
   ],
   "source": [
    "print(df.query(\"rating_denominator == 170\").text)"
   ]
  },
  {
   "cell_type": "code",
   "execution_count": 30,
   "id": "d067f051",
   "metadata": {
    "scrolled": true
   },
   "outputs": [
    {
     "name": "stdout",
     "output_type": "stream",
     "text": [
      "313    @jonnysun @Lin_Manuel ok jomny I know you're excited but 960/00 isn't a valid rating, 13/10 is tho\n",
      "Name: text, dtype: object\n"
     ]
    }
   ],
   "source": [
    "print(df.query(\"rating_denominator == 0\").text)"
   ]
  },
  {
   "cell_type": "code",
   "execution_count": 31,
   "id": "f7069430",
   "metadata": {
    "scrolled": true
   },
   "outputs": [
    {
     "name": "stdout",
     "output_type": "stream",
     "text": [
      "516    Meet Sam. She smiles 24/7 &amp; secretly aspires to be a reindeer. \\nKeep Sam smiling by clicking and sharing this link:\\nhttps://t.co/98tB8y7y7t https://t.co/LouL5vdvxx\n",
      "Name: text, dtype: object\n"
     ]
    }
   ],
   "source": [
    "print(df.query(\"rating_denominator == 7\").text)"
   ]
  },
  {
   "cell_type": "markdown",
   "id": "e20f8983",
   "metadata": {},
   "source": [
    "The same problems as for the numerator. Multiple Dogs or multiple occurences of the pattern \\d+/\\d+. Lets extract this by our self and see what we get.\n",
    "\n",
    "Now let's create a copy of the twitter archive df dataframe for further assessment. "
   ]
  },
  {
   "cell_type": "code",
   "execution_count": 32,
   "id": "55750525",
   "metadata": {},
   "outputs": [],
   "source": [
    "df_twitter = df.copy()"
   ]
  },
  {
   "cell_type": "code",
   "execution_count": 33,
   "id": "1eed5daa",
   "metadata": {},
   "outputs": [],
   "source": [
    "pattern = \"(\\d+(\\.\\d+)?\\/\\d+(\\.\\d+)?)\""
   ]
  },
  {
   "cell_type": "code",
   "execution_count": 34,
   "id": "6cab137e",
   "metadata": {},
   "outputs": [],
   "source": [
    "df_twitter[\"rating\"] = df_twitter.text.str.extract(pattern, expand = True)[0]\n",
    "\n",
    "df_twitter[['num', 'denom']] = df_twitter['rating'].str.split('/', n=1, expand=True)"
   ]
  },
  {
   "cell_type": "code",
   "execution_count": 35,
   "id": "ab9dfd9d",
   "metadata": {},
   "outputs": [],
   "source": [
    "df_twitter.rating_numerator = df_twitter.rating_numerator.astype(\"str\")\n",
    "df_twitter.rating_denominator = df_twitter.rating_denominator.astype(\"str\")"
   ]
  },
  {
   "cell_type": "code",
   "execution_count": 36,
   "id": "08dcd458",
   "metadata": {},
   "outputs": [
    {
     "data": {
      "text/plain": [
       "0       True\n",
       "1       True\n",
       "2       True\n",
       "3       True\n",
       "4       True\n",
       "        ... \n",
       "2351    True\n",
       "2352    True\n",
       "2353    True\n",
       "2354    True\n",
       "2355    True\n",
       "Name: check_num, Length: 2356, dtype: bool"
      ]
     },
     "execution_count": 36,
     "metadata": {},
     "output_type": "execute_result"
    }
   ],
   "source": [
    "#look for differences in the original numerator and the newe extract\n",
    "df_twitter[\"check_num\"] = df_twitter[[\"rating_numerator\", \"num\"]].apply(lambda x: False if (x[0] != x[1]) else True, axis = 1)\n",
    "df_twitter[\"check_num\"]"
   ]
  },
  {
   "cell_type": "code",
   "execution_count": 37,
   "id": "cbee0601",
   "metadata": {
    "scrolled": true
   },
   "outputs": [
    {
     "data": {
      "text/plain": [
       "True     2349\n",
       "False       7\n",
       "Name: check_num, dtype: int64"
      ]
     },
     "execution_count": 37,
     "metadata": {},
     "output_type": "execute_result"
    }
   ],
   "source": [
    "df_twitter.check_num.value_counts()"
   ]
  },
  {
   "cell_type": "code",
   "execution_count": 38,
   "id": "37b6ed06",
   "metadata": {
    "scrolled": true
   },
   "outputs": [
    {
     "data": {
      "text/html": [
       "<div>\n",
       "<style scoped>\n",
       "    .dataframe tbody tr th:only-of-type {\n",
       "        vertical-align: middle;\n",
       "    }\n",
       "\n",
       "    .dataframe tbody tr th {\n",
       "        vertical-align: top;\n",
       "    }\n",
       "\n",
       "    .dataframe thead th {\n",
       "        text-align: right;\n",
       "    }\n",
       "</style>\n",
       "<table border=\"1\" class=\"dataframe\">\n",
       "  <thead>\n",
       "    <tr style=\"text-align: right;\">\n",
       "      <th></th>\n",
       "      <th>rating_numerator</th>\n",
       "      <th>num</th>\n",
       "      <th>check_num</th>\n",
       "    </tr>\n",
       "  </thead>\n",
       "  <tbody>\n",
       "    <tr>\n",
       "      <th>45</th>\n",
       "      <td>5</td>\n",
       "      <td>13.5</td>\n",
       "      <td>False</td>\n",
       "    </tr>\n",
       "    <tr>\n",
       "      <th>340</th>\n",
       "      <td>75</td>\n",
       "      <td>9.75</td>\n",
       "      <td>False</td>\n",
       "    </tr>\n",
       "    <tr>\n",
       "      <th>387</th>\n",
       "      <td>7</td>\n",
       "      <td>007</td>\n",
       "      <td>False</td>\n",
       "    </tr>\n",
       "    <tr>\n",
       "      <th>695</th>\n",
       "      <td>75</td>\n",
       "      <td>9.75</td>\n",
       "      <td>False</td>\n",
       "    </tr>\n",
       "    <tr>\n",
       "      <th>763</th>\n",
       "      <td>27</td>\n",
       "      <td>11.27</td>\n",
       "      <td>False</td>\n",
       "    </tr>\n",
       "    <tr>\n",
       "      <th>1689</th>\n",
       "      <td>5</td>\n",
       "      <td>9.5</td>\n",
       "      <td>False</td>\n",
       "    </tr>\n",
       "    <tr>\n",
       "      <th>1712</th>\n",
       "      <td>26</td>\n",
       "      <td>11.26</td>\n",
       "      <td>False</td>\n",
       "    </tr>\n",
       "  </tbody>\n",
       "</table>\n",
       "</div>"
      ],
      "text/plain": [
       "     rating_numerator    num  check_num\n",
       "45                  5   13.5      False\n",
       "340                75   9.75      False\n",
       "387                 7    007      False\n",
       "695                75   9.75      False\n",
       "763                27  11.27      False\n",
       "1689                5    9.5      False\n",
       "1712               26  11.26      False"
      ]
     },
     "execution_count": 38,
     "metadata": {},
     "output_type": "execute_result"
    }
   ],
   "source": [
    "df_twitter.query(\"check_num == False\")[[\"rating_numerator\", \"num\",\"check_num\"]]"
   ]
  },
  {
   "cell_type": "markdown",
   "id": "2a398c15",
   "metadata": {},
   "source": [
    "These are the differences we found by extracting the first occurrence of the pattern. These ratings got transformed to integers and are therefore wrong."
   ]
  },
  {
   "cell_type": "code",
   "execution_count": 39,
   "id": "b4673ef8",
   "metadata": {
    "scrolled": true
   },
   "outputs": [
    {
     "data": {
      "text/html": [
       "<div>\n",
       "<style scoped>\n",
       "    .dataframe tbody tr th:only-of-type {\n",
       "        vertical-align: middle;\n",
       "    }\n",
       "\n",
       "    .dataframe tbody tr th {\n",
       "        vertical-align: top;\n",
       "    }\n",
       "\n",
       "    .dataframe thead th {\n",
       "        text-align: right;\n",
       "    }\n",
       "</style>\n",
       "<table border=\"1\" class=\"dataframe\">\n",
       "  <thead>\n",
       "    <tr style=\"text-align: right;\">\n",
       "      <th></th>\n",
       "      <th>rating_numerator</th>\n",
       "      <th>num</th>\n",
       "      <th>check_num</th>\n",
       "    </tr>\n",
       "  </thead>\n",
       "  <tbody>\n",
       "    <tr>\n",
       "      <th>2194</th>\n",
       "      <td>11</td>\n",
       "      <td>11</td>\n",
       "      <td>True</td>\n",
       "    </tr>\n",
       "    <tr>\n",
       "      <th>1584</th>\n",
       "      <td>11</td>\n",
       "      <td>11</td>\n",
       "      <td>True</td>\n",
       "    </tr>\n",
       "    <tr>\n",
       "      <th>1831</th>\n",
       "      <td>9</td>\n",
       "      <td>9</td>\n",
       "      <td>True</td>\n",
       "    </tr>\n",
       "    <tr>\n",
       "      <th>2242</th>\n",
       "      <td>5</td>\n",
       "      <td>5</td>\n",
       "      <td>True</td>\n",
       "    </tr>\n",
       "    <tr>\n",
       "      <th>571</th>\n",
       "      <td>12</td>\n",
       "      <td>12</td>\n",
       "      <td>True</td>\n",
       "    </tr>\n",
       "    <tr>\n",
       "      <th>1719</th>\n",
       "      <td>12</td>\n",
       "      <td>12</td>\n",
       "      <td>True</td>\n",
       "    </tr>\n",
       "    <tr>\n",
       "      <th>2082</th>\n",
       "      <td>10</td>\n",
       "      <td>10</td>\n",
       "      <td>True</td>\n",
       "    </tr>\n",
       "    <tr>\n",
       "      <th>586</th>\n",
       "      <td>13</td>\n",
       "      <td>13</td>\n",
       "      <td>True</td>\n",
       "    </tr>\n",
       "    <tr>\n",
       "      <th>1755</th>\n",
       "      <td>11</td>\n",
       "      <td>11</td>\n",
       "      <td>True</td>\n",
       "    </tr>\n",
       "    <tr>\n",
       "      <th>739</th>\n",
       "      <td>12</td>\n",
       "      <td>12</td>\n",
       "      <td>True</td>\n",
       "    </tr>\n",
       "    <tr>\n",
       "      <th>625</th>\n",
       "      <td>12</td>\n",
       "      <td>12</td>\n",
       "      <td>True</td>\n",
       "    </tr>\n",
       "    <tr>\n",
       "      <th>1774</th>\n",
       "      <td>13</td>\n",
       "      <td>13</td>\n",
       "      <td>True</td>\n",
       "    </tr>\n",
       "    <tr>\n",
       "      <th>127</th>\n",
       "      <td>12</td>\n",
       "      <td>12</td>\n",
       "      <td>True</td>\n",
       "    </tr>\n",
       "    <tr>\n",
       "      <th>17</th>\n",
       "      <td>13</td>\n",
       "      <td>13</td>\n",
       "      <td>True</td>\n",
       "    </tr>\n",
       "    <tr>\n",
       "      <th>1919</th>\n",
       "      <td>8</td>\n",
       "      <td>8</td>\n",
       "      <td>True</td>\n",
       "    </tr>\n",
       "  </tbody>\n",
       "</table>\n",
       "</div>"
      ],
      "text/plain": [
       "     rating_numerator num  check_num\n",
       "2194               11  11       True\n",
       "1584               11  11       True\n",
       "1831                9   9       True\n",
       "2242                5   5       True\n",
       "571                12  12       True\n",
       "1719               12  12       True\n",
       "2082               10  10       True\n",
       "586                13  13       True\n",
       "1755               11  11       True\n",
       "739                12  12       True\n",
       "625                12  12       True\n",
       "1774               13  13       True\n",
       "127                12  12       True\n",
       "17                 13  13       True\n",
       "1919                8   8       True"
      ]
     },
     "execution_count": 39,
     "metadata": {},
     "output_type": "execute_result"
    }
   ],
   "source": [
    "df_twitter[[\"rating_numerator\", \"num\", \"check_num\"]].sample(15)"
   ]
  },
  {
   "cell_type": "markdown",
   "id": "18cc5689",
   "metadata": {},
   "source": [
    "Let's repeat this for the denominator."
   ]
  },
  {
   "cell_type": "code",
   "execution_count": 40,
   "id": "808eefee",
   "metadata": {},
   "outputs": [],
   "source": [
    "df_twitter[\"check_denom\"] = df_twitter[[\"rating_denominator\", \"denom\"]].apply(lambda x: False if (x[0] != x[1]) else True, axis = 1)"
   ]
  },
  {
   "cell_type": "code",
   "execution_count": 41,
   "id": "4ed5484c",
   "metadata": {
    "scrolled": true
   },
   "outputs": [
    {
     "data": {
      "text/plain": [
       "True     2355\n",
       "False       1\n",
       "Name: check_denom, dtype: int64"
      ]
     },
     "execution_count": 41,
     "metadata": {},
     "output_type": "execute_result"
    }
   ],
   "source": [
    "df_twitter.check_denom.value_counts()"
   ]
  },
  {
   "cell_type": "code",
   "execution_count": 42,
   "id": "51dde2f7",
   "metadata": {},
   "outputs": [
    {
     "data": {
      "text/html": [
       "<div>\n",
       "<style scoped>\n",
       "    .dataframe tbody tr th:only-of-type {\n",
       "        vertical-align: middle;\n",
       "    }\n",
       "\n",
       "    .dataframe tbody tr th {\n",
       "        vertical-align: top;\n",
       "    }\n",
       "\n",
       "    .dataframe thead th {\n",
       "        text-align: right;\n",
       "    }\n",
       "</style>\n",
       "<table border=\"1\" class=\"dataframe\">\n",
       "  <thead>\n",
       "    <tr style=\"text-align: right;\">\n",
       "      <th></th>\n",
       "      <th>rating_denominator</th>\n",
       "      <th>denom</th>\n",
       "      <th>check_denom</th>\n",
       "    </tr>\n",
       "  </thead>\n",
       "  <tbody>\n",
       "    <tr>\n",
       "      <th>313</th>\n",
       "      <td>0</td>\n",
       "      <td>00</td>\n",
       "      <td>False</td>\n",
       "    </tr>\n",
       "  </tbody>\n",
       "</table>\n",
       "</div>"
      ],
      "text/plain": [
       "    rating_denominator denom  check_denom\n",
       "313                  0    00        False"
      ]
     },
     "execution_count": 42,
     "metadata": {},
     "output_type": "execute_result"
    }
   ],
   "source": [
    "df_twitter.query(\"check_denom == False\")[[\"rating_denominator\", \"denom\",\"check_denom\"]] #problem with integer, maybe also floats?"
   ]
  },
  {
   "cell_type": "markdown",
   "id": "a2fc10b9",
   "metadata": {},
   "source": [
    "This seems like it is no problem that we have to worry about."
   ]
  },
  {
   "cell_type": "code",
   "execution_count": 43,
   "id": "250b05f9",
   "metadata": {
    "scrolled": true
   },
   "outputs": [
    {
     "data": {
      "text/html": [
       "<div>\n",
       "<style scoped>\n",
       "    .dataframe tbody tr th:only-of-type {\n",
       "        vertical-align: middle;\n",
       "    }\n",
       "\n",
       "    .dataframe tbody tr th {\n",
       "        vertical-align: top;\n",
       "    }\n",
       "\n",
       "    .dataframe thead th {\n",
       "        text-align: right;\n",
       "    }\n",
       "</style>\n",
       "<table border=\"1\" class=\"dataframe\">\n",
       "  <thead>\n",
       "    <tr style=\"text-align: right;\">\n",
       "      <th></th>\n",
       "      <th>rating_denominator</th>\n",
       "      <th>denom</th>\n",
       "      <th>check_denom</th>\n",
       "    </tr>\n",
       "  </thead>\n",
       "  <tbody>\n",
       "    <tr>\n",
       "      <th>1345</th>\n",
       "      <td>10</td>\n",
       "      <td>10</td>\n",
       "      <td>True</td>\n",
       "    </tr>\n",
       "    <tr>\n",
       "      <th>858</th>\n",
       "      <td>10</td>\n",
       "      <td>10</td>\n",
       "      <td>True</td>\n",
       "    </tr>\n",
       "    <tr>\n",
       "      <th>1365</th>\n",
       "      <td>10</td>\n",
       "      <td>10</td>\n",
       "      <td>True</td>\n",
       "    </tr>\n",
       "    <tr>\n",
       "      <th>297</th>\n",
       "      <td>10</td>\n",
       "      <td>10</td>\n",
       "      <td>True</td>\n",
       "    </tr>\n",
       "    <tr>\n",
       "      <th>217</th>\n",
       "      <td>10</td>\n",
       "      <td>10</td>\n",
       "      <td>True</td>\n",
       "    </tr>\n",
       "  </tbody>\n",
       "</table>\n",
       "</div>"
      ],
      "text/plain": [
       "     rating_denominator denom  check_denom\n",
       "1345                 10    10         True\n",
       "858                  10    10         True\n",
       "1365                 10    10         True\n",
       "297                  10    10         True\n",
       "217                  10    10         True"
      ]
     },
     "execution_count": 43,
     "metadata": {},
     "output_type": "execute_result"
    }
   ],
   "source": [
    "df_twitter[[\"rating_denominator\", \"denom\", \"check_denom\"]].sample(5)"
   ]
  },
  {
   "cell_type": "markdown",
   "id": "deee9e44",
   "metadata": {},
   "source": [
    "Now we should assess how often there are multiple occurences of the \"rating pattern\" in one tweet."
   ]
  },
  {
   "cell_type": "code",
   "execution_count": 44,
   "id": "71f3e357",
   "metadata": {},
   "outputs": [],
   "source": [
    "df_twitter[\"count\"] = df_twitter.text.str.count(pattern)"
   ]
  },
  {
   "cell_type": "code",
   "execution_count": 45,
   "id": "c9979710",
   "metadata": {
    "scrolled": true
   },
   "outputs": [
    {
     "data": {
      "text/plain": [
       "1    2323\n",
       "2      32\n",
       "3       1\n",
       "Name: count, dtype: int64"
      ]
     },
     "execution_count": 45,
     "metadata": {},
     "output_type": "execute_result"
    }
   ],
   "source": [
    "df_twitter[\"count\"].value_counts()"
   ]
  },
  {
   "cell_type": "code",
   "execution_count": 46,
   "id": "54022de3",
   "metadata": {
    "scrolled": true
   },
   "outputs": [
    {
     "data": {
      "text/html": [
       "<div>\n",
       "<style scoped>\n",
       "    .dataframe tbody tr th:only-of-type {\n",
       "        vertical-align: middle;\n",
       "    }\n",
       "\n",
       "    .dataframe tbody tr th {\n",
       "        vertical-align: top;\n",
       "    }\n",
       "\n",
       "    .dataframe thead th {\n",
       "        text-align: right;\n",
       "    }\n",
       "</style>\n",
       "<table border=\"1\" class=\"dataframe\">\n",
       "  <thead>\n",
       "    <tr style=\"text-align: right;\">\n",
       "      <th></th>\n",
       "      <th>text</th>\n",
       "      <th>count</th>\n",
       "    </tr>\n",
       "  </thead>\n",
       "  <tbody>\n",
       "    <tr>\n",
       "      <th>55</th>\n",
       "      <td>@roushfenway These are good dogs but 17/10 is an emotional impulse rating. More like 13/10s</td>\n",
       "      <td>2</td>\n",
       "    </tr>\n",
       "    <tr>\n",
       "      <th>313</th>\n",
       "      <td>@jonnysun @Lin_Manuel ok jomny I know you're excited but 960/00 isn't a valid rating, 13/10 is tho</td>\n",
       "      <td>2</td>\n",
       "    </tr>\n",
       "    <tr>\n",
       "      <th>561</th>\n",
       "      <td>RT @dog_rates: \"Yep... just as I suspected. You're not flossing.\" 12/10 and 11/10 for the pup not flossing https://t.co/SuXcI9B7pQ</td>\n",
       "      <td>2</td>\n",
       "    </tr>\n",
       "    <tr>\n",
       "      <th>766</th>\n",
       "      <td>\"Yep... just as I suspected. You're not flossing.\" 12/10 and 11/10 for the pup not flossing https://t.co/SuXcI9B7pQ</td>\n",
       "      <td>2</td>\n",
       "    </tr>\n",
       "    <tr>\n",
       "      <th>784</th>\n",
       "      <td>RT @dog_rates: After so many requests, this is Bretagne. She was the last surviving 9/11 search dog, and our second ever 14/10. RIP https:/…</td>\n",
       "      <td>2</td>\n",
       "    </tr>\n",
       "    <tr>\n",
       "      <th>860</th>\n",
       "      <td>RT @dog_rates: Meet Eve. She's a raging alcoholic 8/10 (would b 11/10 but pupper alcoholism is a tragic issue that I can't condone) https:/…</td>\n",
       "      <td>2</td>\n",
       "    </tr>\n",
       "    <tr>\n",
       "      <th>1007</th>\n",
       "      <td>This is Bookstore and Seaweed. Bookstore is tired and Seaweed is an asshole. 10/10 and 7/10 respectively https://t.co/eUGjGjjFVJ</td>\n",
       "      <td>2</td>\n",
       "    </tr>\n",
       "    <tr>\n",
       "      <th>1068</th>\n",
       "      <td>After so many requests, this is Bretagne. She was the last surviving 9/11 search dog, and our second ever 14/10. RIP https://t.co/XAVDNDaVgQ</td>\n",
       "      <td>2</td>\n",
       "    </tr>\n",
       "    <tr>\n",
       "      <th>1165</th>\n",
       "      <td>Happy 4/20 from the squad! 13/10 for all https://t.co/eV1diwds8a</td>\n",
       "      <td>2</td>\n",
       "    </tr>\n",
       "    <tr>\n",
       "      <th>1202</th>\n",
       "      <td>This is Bluebert. He just saw that both #FinalFur match ups are split 50/50. Amazed af. 11/10 https://t.co/Kky1DPG4iq</td>\n",
       "      <td>2</td>\n",
       "    </tr>\n",
       "    <tr>\n",
       "      <th>1222</th>\n",
       "      <td>Meet Travis and Flurp. Travis is pretty chill but Flurp can't lie down properly. 10/10 &amp;amp; 8/10\\nget it together Flurp https://t.co/Akzl5ynMmE</td>\n",
       "      <td>2</td>\n",
       "    </tr>\n",
       "    <tr>\n",
       "      <th>1359</th>\n",
       "      <td>This is Socks. That water pup w the super legs just splashed him. Socks did not appreciate that. 9/10 and 2/10 https://t.co/8rc5I22bBf</td>\n",
       "      <td>2</td>\n",
       "    </tr>\n",
       "    <tr>\n",
       "      <th>1459</th>\n",
       "      <td>This may be the greatest video I've ever been sent. 4/10 for Charles the puppy, 13/10 overall. (Vid by @stevenxx_) https://t.co/uaJmNgXR2P</td>\n",
       "      <td>2</td>\n",
       "    </tr>\n",
       "    <tr>\n",
       "      <th>1465</th>\n",
       "      <td>Meet Oliviér. He takes killer selfies. Has a dog of his own. It leaps at random &amp;amp; can't bark for shit. 10/10 &amp;amp; 5/10 https://t.co/6NgsQJuSBJ</td>\n",
       "      <td>2</td>\n",
       "    </tr>\n",
       "    <tr>\n",
       "      <th>1508</th>\n",
       "      <td>When bae says they can't go out but you see them with someone else that same night. 5/10 &amp;amp; 10/10 for heartbroken pup https://t.co/aenk0KpoWM</td>\n",
       "      <td>2</td>\n",
       "    </tr>\n",
       "    <tr>\n",
       "      <th>1525</th>\n",
       "      <td>This is Eriq. His friend just reminded him of last year's super bowl. Not cool friend\\n10/10 for Eriq\\n6/10 for friend https://t.co/PlEXTofdpf</td>\n",
       "      <td>2</td>\n",
       "    </tr>\n",
       "    <tr>\n",
       "      <th>1538</th>\n",
       "      <td>Meet Fynn &amp;amp; Taco. Fynn is an all-powerful leaf lord and Taco is in the wrong place at the wrong time. 11/10 &amp;amp; 10/10 https://t.co/MuqHPvtL8c</td>\n",
       "      <td>2</td>\n",
       "    </tr>\n",
       "    <tr>\n",
       "      <th>1662</th>\n",
       "      <td>This is Darrel. He just robbed a 7/11 and is in a high speed police chase. Was just spotted by the helicopter 10/10 https://t.co/7EsP8LmSp5</td>\n",
       "      <td>2</td>\n",
       "    </tr>\n",
       "    <tr>\n",
       "      <th>1795</th>\n",
       "      <td>Meet Tassy &amp;amp; Bee. Tassy is pretty chill, but Bee is convinced the Ruffles are haunted. 10/10 &amp;amp; 11/10 respectively https://t.co/fgORpmTN9C</td>\n",
       "      <td>2</td>\n",
       "    </tr>\n",
       "    <tr>\n",
       "      <th>1832</th>\n",
       "      <td>These two pups just met and have instantly bonded. Spectacular scene. Mesmerizing af. 10/10 and 7/10 for blue dog https://t.co/gwryaJO4tC</td>\n",
       "      <td>2</td>\n",
       "    </tr>\n",
       "    <tr>\n",
       "      <th>1897</th>\n",
       "      <td>Meet Rufio. He is unaware of the pink legless pupper wrapped around him. Might want to get that checked 10/10 &amp;amp; 4/10 https://t.co/KNfLnYPmYh</td>\n",
       "      <td>2</td>\n",
       "    </tr>\n",
       "    <tr>\n",
       "      <th>1901</th>\n",
       "      <td>Two gorgeous dogs here. Little waddling dog is a rebel. Refuses to look at camera. Must be a preteen. 5/10 &amp;amp; 8/10 https://t.co/YPfw7oahbD</td>\n",
       "      <td>2</td>\n",
       "    </tr>\n",
       "    <tr>\n",
       "      <th>1970</th>\n",
       "      <td>Meet Eve. She's a raging alcoholic 8/10 (would b 11/10 but pupper alcoholism is a tragic issue that I can't condone) https://t.co/U36HYQIijg</td>\n",
       "      <td>2</td>\n",
       "    </tr>\n",
       "    <tr>\n",
       "      <th>2010</th>\n",
       "      <td>10/10 for dog. 7/10 for cat. 12/10 for human. Much skill. Would pet all https://t.co/uhx5gfpx5k</td>\n",
       "      <td>3</td>\n",
       "    </tr>\n",
       "    <tr>\n",
       "      <th>2064</th>\n",
       "      <td>Meet Holly. She's trying to teach small human-like pup about blocks but he's not paying attention smh. 11/10 &amp;amp; 8/10 https://t.co/RcksaUrGNu</td>\n",
       "      <td>2</td>\n",
       "    </tr>\n",
       "    <tr>\n",
       "      <th>2113</th>\n",
       "      <td>Meet Hank and Sully. Hank is very proud of the pumpkin they found and Sully doesn't give a shit. 11/10 and 8/10 https://t.co/cwoP1ftbrj</td>\n",
       "      <td>2</td>\n",
       "    </tr>\n",
       "    <tr>\n",
       "      <th>2177</th>\n",
       "      <td>Here we have Pancho and Peaches. Pancho is a Condoleezza Gryffindor, and Peaches is just an asshole. 10/10 &amp;amp; 7/10 https://t.co/Lh1BsJrWPp</td>\n",
       "      <td>2</td>\n",
       "    </tr>\n",
       "    <tr>\n",
       "      <th>2216</th>\n",
       "      <td>This is Spark. He's nervous. Other dog hasn't moved in a while. Won't come when called. Doesn't fetch well 8/10&amp;amp;1/10 https://t.co/stEodX9Aba</td>\n",
       "      <td>2</td>\n",
       "    </tr>\n",
       "    <tr>\n",
       "      <th>2263</th>\n",
       "      <td>This is Kial. Kial is either wearing a cape, which would be rad, or flashing us, which would be rude. 10/10 or 4/10 https://t.co/8zcwIoiuqR</td>\n",
       "      <td>2</td>\n",
       "    </tr>\n",
       "    <tr>\n",
       "      <th>2272</th>\n",
       "      <td>Two dogs in this one. Both are rare Jujitsu Pythagoreans. One slightly whiter than other. Long legs. 7/10 and 8/10 https://t.co/ITxxcc4v9y</td>\n",
       "      <td>2</td>\n",
       "    </tr>\n",
       "    <tr>\n",
       "      <th>2298</th>\n",
       "      <td>After much debate this dog is being upgraded to 10/10. I repeat 10/10</td>\n",
       "      <td>2</td>\n",
       "    </tr>\n",
       "    <tr>\n",
       "      <th>2306</th>\n",
       "      <td>These are Peruvian Feldspars. Their names are Cupit and Prencer. Both resemble Rand Paul. Sick outfits 10/10 &amp;amp; 10/10 https://t.co/ZnEMHBsAs1</td>\n",
       "      <td>2</td>\n",
       "    </tr>\n",
       "    <tr>\n",
       "      <th>2335</th>\n",
       "      <td>This is an Albanian 3 1/2 legged  Episcopalian. Loves well-polished hardwood flooring. Penis on the collar. 9/10 https://t.co/d9NcXFKwLv</td>\n",
       "      <td>2</td>\n",
       "    </tr>\n",
       "  </tbody>\n",
       "</table>\n",
       "</div>"
      ],
      "text/plain": [
       "                                                                                                                                                     text  count\n",
       "55                                                            @roushfenway These are good dogs but 17/10 is an emotional impulse rating. More like 13/10s      2\n",
       "313                                                    @jonnysun @Lin_Manuel ok jomny I know you're excited but 960/00 isn't a valid rating, 13/10 is tho      2\n",
       "561                    RT @dog_rates: \"Yep... just as I suspected. You're not flossing.\" 12/10 and 11/10 for the pup not flossing https://t.co/SuXcI9B7pQ      2\n",
       "766                                   \"Yep... just as I suspected. You're not flossing.\" 12/10 and 11/10 for the pup not flossing https://t.co/SuXcI9B7pQ      2\n",
       "784          RT @dog_rates: After so many requests, this is Bretagne. She was the last surviving 9/11 search dog, and our second ever 14/10. RIP https:/…      2\n",
       "860          RT @dog_rates: Meet Eve. She's a raging alcoholic 8/10 (would b 11/10 but pupper alcoholism is a tragic issue that I can't condone) https:/…      2\n",
       "1007                     This is Bookstore and Seaweed. Bookstore is tired and Seaweed is an asshole. 10/10 and 7/10 respectively https://t.co/eUGjGjjFVJ      2\n",
       "1068         After so many requests, this is Bretagne. She was the last surviving 9/11 search dog, and our second ever 14/10. RIP https://t.co/XAVDNDaVgQ      2\n",
       "1165                                                                                     Happy 4/20 from the squad! 13/10 for all https://t.co/eV1diwds8a      2\n",
       "1202                                This is Bluebert. He just saw that both #FinalFur match ups are split 50/50. Amazed af. 11/10 https://t.co/Kky1DPG4iq      2\n",
       "1222     Meet Travis and Flurp. Travis is pretty chill but Flurp can't lie down properly. 10/10 &amp; 8/10\\nget it together Flurp https://t.co/Akzl5ynMmE      2\n",
       "1359               This is Socks. That water pup w the super legs just splashed him. Socks did not appreciate that. 9/10 and 2/10 https://t.co/8rc5I22bBf      2\n",
       "1459           This may be the greatest video I've ever been sent. 4/10 for Charles the puppy, 13/10 overall. (Vid by @stevenxx_) https://t.co/uaJmNgXR2P      2\n",
       "1465  Meet Oliviér. He takes killer selfies. Has a dog of his own. It leaps at random &amp; can't bark for shit. 10/10 &amp; 5/10 https://t.co/6NgsQJuSBJ      2\n",
       "1508     When bae says they can't go out but you see them with someone else that same night. 5/10 &amp; 10/10 for heartbroken pup https://t.co/aenk0KpoWM      2\n",
       "1525       This is Eriq. His friend just reminded him of last year's super bowl. Not cool friend\\n10/10 for Eriq\\n6/10 for friend https://t.co/PlEXTofdpf      2\n",
       "1538  Meet Fynn &amp; Taco. Fynn is an all-powerful leaf lord and Taco is in the wrong place at the wrong time. 11/10 &amp; 10/10 https://t.co/MuqHPvtL8c      2\n",
       "1662          This is Darrel. He just robbed a 7/11 and is in a high speed police chase. Was just spotted by the helicopter 10/10 https://t.co/7EsP8LmSp5      2\n",
       "1795    Meet Tassy &amp; Bee. Tassy is pretty chill, but Bee is convinced the Ruffles are haunted. 10/10 &amp; 11/10 respectively https://t.co/fgORpmTN9C      2\n",
       "1832            These two pups just met and have instantly bonded. Spectacular scene. Mesmerizing af. 10/10 and 7/10 for blue dog https://t.co/gwryaJO4tC      2\n",
       "1897     Meet Rufio. He is unaware of the pink legless pupper wrapped around him. Might want to get that checked 10/10 &amp; 4/10 https://t.co/KNfLnYPmYh      2\n",
       "1901        Two gorgeous dogs here. Little waddling dog is a rebel. Refuses to look at camera. Must be a preteen. 5/10 &amp; 8/10 https://t.co/YPfw7oahbD      2\n",
       "1970         Meet Eve. She's a raging alcoholic 8/10 (would b 11/10 but pupper alcoholism is a tragic issue that I can't condone) https://t.co/U36HYQIijg      2\n",
       "2010                                                      10/10 for dog. 7/10 for cat. 12/10 for human. Much skill. Would pet all https://t.co/uhx5gfpx5k      3\n",
       "2064      Meet Holly. She's trying to teach small human-like pup about blocks but he's not paying attention smh. 11/10 &amp; 8/10 https://t.co/RcksaUrGNu      2\n",
       "2113              Meet Hank and Sully. Hank is very proud of the pumpkin they found and Sully doesn't give a shit. 11/10 and 8/10 https://t.co/cwoP1ftbrj      2\n",
       "2177        Here we have Pancho and Peaches. Pancho is a Condoleezza Gryffindor, and Peaches is just an asshole. 10/10 &amp; 7/10 https://t.co/Lh1BsJrWPp      2\n",
       "2216     This is Spark. He's nervous. Other dog hasn't moved in a while. Won't come when called. Doesn't fetch well 8/10&amp;1/10 https://t.co/stEodX9Aba      2\n",
       "2263          This is Kial. Kial is either wearing a cape, which would be rad, or flashing us, which would be rude. 10/10 or 4/10 https://t.co/8zcwIoiuqR      2\n",
       "2272           Two dogs in this one. Both are rare Jujitsu Pythagoreans. One slightly whiter than other. Long legs. 7/10 and 8/10 https://t.co/ITxxcc4v9y      2\n",
       "2298                                                                                After much debate this dog is being upgraded to 10/10. I repeat 10/10      2\n",
       "2306     These are Peruvian Feldspars. Their names are Cupit and Prencer. Both resemble Rand Paul. Sick outfits 10/10 &amp; 10/10 https://t.co/ZnEMHBsAs1      2\n",
       "2335             This is an Albanian 3 1/2 legged  Episcopalian. Loves well-polished hardwood flooring. Penis on the collar. 9/10 https://t.co/d9NcXFKwLv      2"
      ]
     },
     "execution_count": 46,
     "metadata": {},
     "output_type": "execute_result"
    }
   ],
   "source": [
    "#show the full text\n",
    "pd.set_option('display.max_columns', 500)\n",
    "pd.set_option('display.max_colwidth', 4000)\n",
    "\n",
    "df_twitter[[\"text\", \"count\"]].query(\"count != 1\")"
   ]
  },
  {
   "cell_type": "markdown",
   "id": "951cab6b",
   "metadata": {},
   "source": [
    "We can see that:\n",
    "- this data contains retweets (as mentioned before)\n",
    "- sometimes there are multiple dogs/cats or else in one picture\n",
    "- some of these ratings are not clear"
   ]
  },
  {
   "cell_type": "markdown",
   "id": "3112bf8f",
   "metadata": {},
   "source": [
    "#### image_prediction_df"
   ]
  },
  {
   "cell_type": "markdown",
   "id": "ddae6c95",
   "metadata": {},
   "source": [
    "Let's also begin with the missing data first."
   ]
  },
  {
   "cell_type": "code",
   "execution_count": 47,
   "id": "14f8ab69",
   "metadata": {},
   "outputs": [
    {
     "data": {
      "text/html": [
       "<div>\n",
       "<style scoped>\n",
       "    .dataframe tbody tr th:only-of-type {\n",
       "        vertical-align: middle;\n",
       "    }\n",
       "\n",
       "    .dataframe tbody tr th {\n",
       "        vertical-align: top;\n",
       "    }\n",
       "\n",
       "    .dataframe thead th {\n",
       "        text-align: right;\n",
       "    }\n",
       "</style>\n",
       "<table border=\"1\" class=\"dataframe\">\n",
       "  <thead>\n",
       "    <tr style=\"text-align: right;\">\n",
       "      <th></th>\n",
       "      <th>tweet_id</th>\n",
       "      <th>jpg_url</th>\n",
       "      <th>img_num</th>\n",
       "      <th>p1</th>\n",
       "      <th>p1_conf</th>\n",
       "      <th>p1_dog</th>\n",
       "      <th>p2</th>\n",
       "      <th>p2_conf</th>\n",
       "      <th>p2_dog</th>\n",
       "      <th>p3</th>\n",
       "      <th>p3_conf</th>\n",
       "      <th>p3_dog</th>\n",
       "    </tr>\n",
       "  </thead>\n",
       "  <tbody>\n",
       "    <tr>\n",
       "      <th>794</th>\n",
       "      <td>690932576555528194</td>\n",
       "      <td>https://pbs.twimg.com/media/CZavgf4WkAARpFM.jpg</td>\n",
       "      <td>1</td>\n",
       "      <td>snorkel</td>\n",
       "      <td>0.526536</td>\n",
       "      <td>False</td>\n",
       "      <td>muzzle</td>\n",
       "      <td>0.048089</td>\n",
       "      <td>False</td>\n",
       "      <td>scuba_diver</td>\n",
       "      <td>0.034226</td>\n",
       "      <td>False</td>\n",
       "    </tr>\n",
       "    <tr>\n",
       "      <th>234</th>\n",
       "      <td>670421925039075328</td>\n",
       "      <td>https://pbs.twimg.com/media/CU3RLqfW4AE0pbA.jpg</td>\n",
       "      <td>1</td>\n",
       "      <td>Chihuahua</td>\n",
       "      <td>0.275793</td>\n",
       "      <td>True</td>\n",
       "      <td>corn</td>\n",
       "      <td>0.073596</td>\n",
       "      <td>False</td>\n",
       "      <td>bolete</td>\n",
       "      <td>0.054905</td>\n",
       "      <td>False</td>\n",
       "    </tr>\n",
       "    <tr>\n",
       "      <th>548</th>\n",
       "      <td>677334615166730240</td>\n",
       "      <td>https://pbs.twimg.com/media/CWZgPPUWUAAUOvu.jpg</td>\n",
       "      <td>2</td>\n",
       "      <td>Lakeland_terrier</td>\n",
       "      <td>0.859392</td>\n",
       "      <td>True</td>\n",
       "      <td>Airedale</td>\n",
       "      <td>0.067292</td>\n",
       "      <td>True</td>\n",
       "      <td>Irish_water_spaniel</td>\n",
       "      <td>0.049531</td>\n",
       "      <td>True</td>\n",
       "    </tr>\n",
       "    <tr>\n",
       "      <th>1954</th>\n",
       "      <td>864197398364647424</td>\n",
       "      <td>https://pbs.twimg.com/media/C_4-8iPV0AA1Twg.jpg</td>\n",
       "      <td>4</td>\n",
       "      <td>golden_retriever</td>\n",
       "      <td>0.945905</td>\n",
       "      <td>True</td>\n",
       "      <td>Labrador_retriever</td>\n",
       "      <td>0.021264</td>\n",
       "      <td>True</td>\n",
       "      <td>Tibetan_mastiff</td>\n",
       "      <td>0.020493</td>\n",
       "      <td>True</td>\n",
       "    </tr>\n",
       "    <tr>\n",
       "      <th>1599</th>\n",
       "      <td>799422933579902976</td>\n",
       "      <td>https://pbs.twimg.com/media/Cxge6AdUQAAvXLB.jpg</td>\n",
       "      <td>1</td>\n",
       "      <td>miniature_pinscher</td>\n",
       "      <td>0.583630</td>\n",
       "      <td>True</td>\n",
       "      <td>redbone</td>\n",
       "      <td>0.276095</td>\n",
       "      <td>True</td>\n",
       "      <td>toy_terrier</td>\n",
       "      <td>0.018550</td>\n",
       "      <td>True</td>\n",
       "    </tr>\n",
       "  </tbody>\n",
       "</table>\n",
       "</div>"
      ],
      "text/plain": [
       "                tweet_id                                          jpg_url  img_num                  p1   p1_conf  p1_dog                  p2   p2_conf  p2_dog                   p3   p3_conf  p3_dog\n",
       "794   690932576555528194  https://pbs.twimg.com/media/CZavgf4WkAARpFM.jpg        1             snorkel  0.526536   False              muzzle  0.048089   False          scuba_diver  0.034226   False\n",
       "234   670421925039075328  https://pbs.twimg.com/media/CU3RLqfW4AE0pbA.jpg        1           Chihuahua  0.275793    True                corn  0.073596   False               bolete  0.054905   False\n",
       "548   677334615166730240  https://pbs.twimg.com/media/CWZgPPUWUAAUOvu.jpg        2    Lakeland_terrier  0.859392    True            Airedale  0.067292    True  Irish_water_spaniel  0.049531    True\n",
       "1954  864197398364647424  https://pbs.twimg.com/media/C_4-8iPV0AA1Twg.jpg        4    golden_retriever  0.945905    True  Labrador_retriever  0.021264    True      Tibetan_mastiff  0.020493    True\n",
       "1599  799422933579902976  https://pbs.twimg.com/media/Cxge6AdUQAAvXLB.jpg        1  miniature_pinscher  0.583630    True             redbone  0.276095    True          toy_terrier  0.018550    True"
      ]
     },
     "execution_count": 47,
     "metadata": {},
     "output_type": "execute_result"
    }
   ],
   "source": [
    "# display sample of data\n",
    "image_prediction_df.sample(5)"
   ]
  },
  {
   "cell_type": "code",
   "execution_count": 48,
   "id": "ac6fced1",
   "metadata": {
    "scrolled": true
   },
   "outputs": [
    {
     "name": "stdout",
     "output_type": "stream",
     "text": [
      "<class 'pandas.core.frame.DataFrame'>\n",
      "RangeIndex: 2075 entries, 0 to 2074\n",
      "Data columns (total 12 columns):\n",
      " #   Column    Non-Null Count  Dtype  \n",
      "---  ------    --------------  -----  \n",
      " 0   tweet_id  2075 non-null   int64  \n",
      " 1   jpg_url   2075 non-null   object \n",
      " 2   img_num   2075 non-null   int64  \n",
      " 3   p1        2075 non-null   object \n",
      " 4   p1_conf   2075 non-null   float64\n",
      " 5   p1_dog    2075 non-null   bool   \n",
      " 6   p2        2075 non-null   object \n",
      " 7   p2_conf   2075 non-null   float64\n",
      " 8   p2_dog    2075 non-null   bool   \n",
      " 9   p3        2075 non-null   object \n",
      " 10  p3_conf   2075 non-null   float64\n",
      " 11  p3_dog    2075 non-null   bool   \n",
      "dtypes: bool(3), float64(3), int64(2), object(4)\n",
      "memory usage: 152.1+ KB\n"
     ]
    }
   ],
   "source": [
    "# Display a summary of a DataFrame\n",
    "image_prediction_df.info()"
   ]
  },
  {
   "cell_type": "markdown",
   "id": "bcc88f0c",
   "metadata": {},
   "source": [
    "There is no null value in the data. Let's confirm this below"
   ]
  },
  {
   "cell_type": "code",
   "execution_count": 49,
   "id": "80d07375",
   "metadata": {},
   "outputs": [
    {
     "data": {
      "text/plain": [
       "0"
      ]
     },
     "execution_count": 49,
     "metadata": {},
     "output_type": "execute_result"
    }
   ],
   "source": [
    "# check jpg_url to confirm if it contains only jpg and png images\n",
    "image_prediction_df[~image_prediction_df.jpg_url.str.endswith(('.jpg', '.png'), na = False)].jpg_url.count()"
   ]
  },
  {
   "cell_type": "code",
   "execution_count": 50,
   "id": "322f74d4",
   "metadata": {
    "scrolled": false
   },
   "outputs": [
    {
     "data": {
      "text/plain": [
       "tweet_id    0\n",
       "jpg_url     0\n",
       "img_num     0\n",
       "p1          0\n",
       "p1_conf     0\n",
       "p1_dog      0\n",
       "p2          0\n",
       "p2_conf     0\n",
       "p2_dog      0\n",
       "p3          0\n",
       "p3_conf     0\n",
       "p3_dog      0\n",
       "dtype: int64"
      ]
     },
     "execution_count": 50,
     "metadata": {},
     "output_type": "execute_result"
    }
   ],
   "source": [
    "image_prediction_df.isnull().sum()"
   ]
  },
  {
   "cell_type": "code",
   "execution_count": 51,
   "id": "21c21521",
   "metadata": {},
   "outputs": [
    {
     "data": {
      "text/plain": [
       "2075"
      ]
     },
     "execution_count": 51,
     "metadata": {},
     "output_type": "execute_result"
    }
   ],
   "source": [
    "# check dog predictions\n",
    "image_prediction_df.p1_dog.count()"
   ]
  },
  {
   "cell_type": "markdown",
   "id": "82594de6",
   "metadata": {},
   "source": [
    "Looks fine. Now the visual assessment:"
   ]
  },
  {
   "cell_type": "code",
   "execution_count": 52,
   "id": "1d2247d1",
   "metadata": {
    "scrolled": true
   },
   "outputs": [
    {
     "data": {
      "text/html": [
       "<div>\n",
       "<style scoped>\n",
       "    .dataframe tbody tr th:only-of-type {\n",
       "        vertical-align: middle;\n",
       "    }\n",
       "\n",
       "    .dataframe tbody tr th {\n",
       "        vertical-align: top;\n",
       "    }\n",
       "\n",
       "    .dataframe thead th {\n",
       "        text-align: right;\n",
       "    }\n",
       "</style>\n",
       "<table border=\"1\" class=\"dataframe\">\n",
       "  <thead>\n",
       "    <tr style=\"text-align: right;\">\n",
       "      <th></th>\n",
       "      <th>tweet_id</th>\n",
       "      <th>jpg_url</th>\n",
       "      <th>img_num</th>\n",
       "      <th>p1</th>\n",
       "      <th>p1_conf</th>\n",
       "      <th>p1_dog</th>\n",
       "      <th>p2</th>\n",
       "      <th>p2_conf</th>\n",
       "      <th>p2_dog</th>\n",
       "      <th>p3</th>\n",
       "      <th>p3_conf</th>\n",
       "      <th>p3_dog</th>\n",
       "    </tr>\n",
       "  </thead>\n",
       "  <tbody>\n",
       "    <tr>\n",
       "      <th>1431</th>\n",
       "      <td>773247561583001600</td>\n",
       "      <td>https://pbs.twimg.com/media/Crsgi9dWEAApQd8.jpg</td>\n",
       "      <td>1</td>\n",
       "      <td>seat_belt</td>\n",
       "      <td>0.713588</td>\n",
       "      <td>False</td>\n",
       "      <td>miniature_pinscher</td>\n",
       "      <td>0.083369</td>\n",
       "      <td>True</td>\n",
       "      <td>Brabancon_griffon</td>\n",
       "      <td>0.075696</td>\n",
       "      <td>True</td>\n",
       "    </tr>\n",
       "    <tr>\n",
       "      <th>1087</th>\n",
       "      <td>718939241951195136</td>\n",
       "      <td>https://pbs.twimg.com/media/CfovbK4WIAAkTn3.jpg</td>\n",
       "      <td>1</td>\n",
       "      <td>Pembroke</td>\n",
       "      <td>0.766327</td>\n",
       "      <td>True</td>\n",
       "      <td>Cardigan</td>\n",
       "      <td>0.222126</td>\n",
       "      <td>True</td>\n",
       "      <td>toilet_tissue</td>\n",
       "      <td>0.006757</td>\n",
       "      <td>False</td>\n",
       "    </tr>\n",
       "    <tr>\n",
       "      <th>147</th>\n",
       "      <td>668631377374486528</td>\n",
       "      <td>https://pbs.twimg.com/media/CUd0sSvWsAA85wO.jpg</td>\n",
       "      <td>1</td>\n",
       "      <td>miniature_schnauzer</td>\n",
       "      <td>0.904549</td>\n",
       "      <td>True</td>\n",
       "      <td>Australian_terrier</td>\n",
       "      <td>0.022529</td>\n",
       "      <td>True</td>\n",
       "      <td>silky_terrier</td>\n",
       "      <td>0.015243</td>\n",
       "      <td>True</td>\n",
       "    </tr>\n",
       "    <tr>\n",
       "      <th>89</th>\n",
       "      <td>667534815156183040</td>\n",
       "      <td>https://pbs.twimg.com/media/CUOPYI5UcAAj_nO.jpg</td>\n",
       "      <td>1</td>\n",
       "      <td>Pembroke</td>\n",
       "      <td>0.435254</td>\n",
       "      <td>True</td>\n",
       "      <td>Cardigan</td>\n",
       "      <td>0.307407</td>\n",
       "      <td>True</td>\n",
       "      <td>cocker_spaniel</td>\n",
       "      <td>0.033158</td>\n",
       "      <td>True</td>\n",
       "    </tr>\n",
       "    <tr>\n",
       "      <th>1815</th>\n",
       "      <td>833826103416520705</td>\n",
       "      <td>https://pbs.twimg.com/media/C5JYaYoVYAAcEQw.jpg</td>\n",
       "      <td>1</td>\n",
       "      <td>Chihuahua</td>\n",
       "      <td>0.438054</td>\n",
       "      <td>True</td>\n",
       "      <td>kelpie</td>\n",
       "      <td>0.149706</td>\n",
       "      <td>True</td>\n",
       "      <td>Pembroke</td>\n",
       "      <td>0.096480</td>\n",
       "      <td>True</td>\n",
       "    </tr>\n",
       "    <tr>\n",
       "      <th>971</th>\n",
       "      <td>706593038911545345</td>\n",
       "      <td>https://pbs.twimg.com/media/Cc5Snc7XIAAMidF.jpg</td>\n",
       "      <td>1</td>\n",
       "      <td>four-poster</td>\n",
       "      <td>0.696423</td>\n",
       "      <td>False</td>\n",
       "      <td>quilt</td>\n",
       "      <td>0.189312</td>\n",
       "      <td>False</td>\n",
       "      <td>pillow</td>\n",
       "      <td>0.029409</td>\n",
       "      <td>False</td>\n",
       "    </tr>\n",
       "    <tr>\n",
       "      <th>1715</th>\n",
       "      <td>819004803107983360</td>\n",
       "      <td>https://pbs.twimg.com/media/C12whDoVEAALRxa.jpg</td>\n",
       "      <td>1</td>\n",
       "      <td>standard_poodle</td>\n",
       "      <td>0.351308</td>\n",
       "      <td>True</td>\n",
       "      <td>toy_poodle</td>\n",
       "      <td>0.271929</td>\n",
       "      <td>True</td>\n",
       "      <td>Tibetan_terrier</td>\n",
       "      <td>0.094759</td>\n",
       "      <td>True</td>\n",
       "    </tr>\n",
       "    <tr>\n",
       "      <th>384</th>\n",
       "      <td>673343217010679808</td>\n",
       "      <td>https://pbs.twimg.com/media/CVgyFSyU4AA9p1e.jpg</td>\n",
       "      <td>1</td>\n",
       "      <td>Chihuahua</td>\n",
       "      <td>0.541408</td>\n",
       "      <td>True</td>\n",
       "      <td>Italian_greyhound</td>\n",
       "      <td>0.156891</td>\n",
       "      <td>True</td>\n",
       "      <td>miniature_pinscher</td>\n",
       "      <td>0.069556</td>\n",
       "      <td>True</td>\n",
       "    </tr>\n",
       "    <tr>\n",
       "      <th>1654</th>\n",
       "      <td>810254108431155201</td>\n",
       "      <td>https://pbs.twimg.com/media/Cz6Z0DgWIAAfdvp.jpg</td>\n",
       "      <td>1</td>\n",
       "      <td>Staffordshire_bullterrier</td>\n",
       "      <td>0.292556</td>\n",
       "      <td>True</td>\n",
       "      <td>American_Staffordshire_terrier</td>\n",
       "      <td>0.261233</td>\n",
       "      <td>True</td>\n",
       "      <td>Border_terrier</td>\n",
       "      <td>0.062375</td>\n",
       "      <td>True</td>\n",
       "    </tr>\n",
       "    <tr>\n",
       "      <th>1427</th>\n",
       "      <td>772615324260794368</td>\n",
       "      <td>https://pbs.twimg.com/media/Cp6db4-XYAAMmqL.jpg</td>\n",
       "      <td>1</td>\n",
       "      <td>dalmatian</td>\n",
       "      <td>0.556595</td>\n",
       "      <td>True</td>\n",
       "      <td>whippet</td>\n",
       "      <td>0.151047</td>\n",
       "      <td>True</td>\n",
       "      <td>American_Staffordshire_terrier</td>\n",
       "      <td>0.096435</td>\n",
       "      <td>True</td>\n",
       "    </tr>\n",
       "  </tbody>\n",
       "</table>\n",
       "</div>"
      ],
      "text/plain": [
       "                tweet_id                                          jpg_url  img_num                         p1   p1_conf  p1_dog                              p2   p2_conf  p2_dog                              p3   p3_conf  p3_dog\n",
       "1431  773247561583001600  https://pbs.twimg.com/media/Crsgi9dWEAApQd8.jpg        1                  seat_belt  0.713588   False              miniature_pinscher  0.083369    True               Brabancon_griffon  0.075696    True\n",
       "1087  718939241951195136  https://pbs.twimg.com/media/CfovbK4WIAAkTn3.jpg        1                   Pembroke  0.766327    True                        Cardigan  0.222126    True                   toilet_tissue  0.006757   False\n",
       "147   668631377374486528  https://pbs.twimg.com/media/CUd0sSvWsAA85wO.jpg        1        miniature_schnauzer  0.904549    True              Australian_terrier  0.022529    True                   silky_terrier  0.015243    True\n",
       "89    667534815156183040  https://pbs.twimg.com/media/CUOPYI5UcAAj_nO.jpg        1                   Pembroke  0.435254    True                        Cardigan  0.307407    True                  cocker_spaniel  0.033158    True\n",
       "1815  833826103416520705  https://pbs.twimg.com/media/C5JYaYoVYAAcEQw.jpg        1                  Chihuahua  0.438054    True                          kelpie  0.149706    True                        Pembroke  0.096480    True\n",
       "971   706593038911545345  https://pbs.twimg.com/media/Cc5Snc7XIAAMidF.jpg        1                four-poster  0.696423   False                           quilt  0.189312   False                          pillow  0.029409   False\n",
       "1715  819004803107983360  https://pbs.twimg.com/media/C12whDoVEAALRxa.jpg        1            standard_poodle  0.351308    True                      toy_poodle  0.271929    True                 Tibetan_terrier  0.094759    True\n",
       "384   673343217010679808  https://pbs.twimg.com/media/CVgyFSyU4AA9p1e.jpg        1                  Chihuahua  0.541408    True               Italian_greyhound  0.156891    True              miniature_pinscher  0.069556    True\n",
       "1654  810254108431155201  https://pbs.twimg.com/media/Cz6Z0DgWIAAfdvp.jpg        1  Staffordshire_bullterrier  0.292556    True  American_Staffordshire_terrier  0.261233    True                  Border_terrier  0.062375    True\n",
       "1427  772615324260794368  https://pbs.twimg.com/media/Cp6db4-XYAAMmqL.jpg        1                  dalmatian  0.556595    True                         whippet  0.151047    True  American_Staffordshire_terrier  0.096435    True"
      ]
     },
     "execution_count": 52,
     "metadata": {},
     "output_type": "execute_result"
    }
   ],
   "source": [
    "image_prediction_df.sample(10)"
   ]
  },
  {
   "cell_type": "markdown",
   "id": "cb43e731",
   "metadata": {},
   "source": [
    "We can see that:\n",
    "- there is an underscore instead of a whitespace between the words\n",
    "- the predictions are sometimes lowercase, sometimes uppercase\n",
    "- there are rows with no prediciton of a dog (neither in 1, 2 nor 3)"
   ]
  },
  {
   "cell_type": "markdown",
   "id": "e891ba23",
   "metadata": {},
   "source": [
    "Let's check for duplicates\n",
    "\n",
    "The best way to find duplicates is to look at the jpg - url. If there are value counts > 1, then this data contains duplicates/retweets."
   ]
  },
  {
   "cell_type": "code",
   "execution_count": 53,
   "id": "8c43ac9f",
   "metadata": {
    "scrolled": true
   },
   "outputs": [
    {
     "data": {
      "text/plain": [
       "https://pbs.twimg.com/media/CZhn-QAWwAASQan.jpg                                            2\n",
       "https://pbs.twimg.com/media/Cq9guJ5WgAADfpF.jpg                                            2\n",
       "https://pbs.twimg.com/ext_tw_video_thumb/807106774843039744/pu/img/8XZg1xW35Xp2J6JW.jpg    2\n",
       "https://pbs.twimg.com/media/CU1zsMSUAAAS0qW.jpg                                            2\n",
       "https://pbs.twimg.com/media/CsrjryzWgAAZY00.jpg                                            2\n",
       "https://pbs.twimg.com/media/C12x-JTVIAAzdfl.jpg                                            2\n",
       "https://pbs.twimg.com/media/Cwx99rpW8AMk_Ie.jpg                                            2\n",
       "https://pbs.twimg.com/media/C12whDoVEAALRxa.jpg                                            2\n",
       "https://pbs.twimg.com/media/CYLDikFWEAAIy1y.jpg                                            2\n",
       "https://pbs.twimg.com/media/CwiuEJmW8AAZnit.jpg                                            2\n",
       "Name: jpg_url, dtype: int64"
      ]
     },
     "execution_count": 53,
     "metadata": {},
     "output_type": "execute_result"
    }
   ],
   "source": [
    "image_prediction_df.jpg_url.value_counts().head(10)"
   ]
  },
  {
   "cell_type": "markdown",
   "id": "3a147475",
   "metadata": {},
   "source": [
    "The data clearly contains some retweets"
   ]
  },
  {
   "cell_type": "code",
   "execution_count": 54,
   "id": "4e9b3f15",
   "metadata": {
    "scrolled": true
   },
   "outputs": [
    {
     "data": {
      "text/plain": [
       "66"
      ]
     },
     "execution_count": 54,
     "metadata": {},
     "output_type": "execute_result"
    }
   ],
   "source": [
    "# Check jpg_url for duplicates\n",
    "sum(image_prediction_df.jpg_url.duplicated())\n"
   ]
  },
  {
   "cell_type": "markdown",
   "id": "3f0c9a90",
   "metadata": {},
   "source": [
    "We only want tweets with pictures which contain dogs. Let's see if there are pictures, for which the ML - Algorithm didn't predict any dogs."
   ]
  },
  {
   "cell_type": "code",
   "execution_count": 55,
   "id": "240acbdb",
   "metadata": {
    "scrolled": false
   },
   "outputs": [
    {
     "data": {
      "text/html": [
       "<div>\n",
       "<style scoped>\n",
       "    .dataframe tbody tr th:only-of-type {\n",
       "        vertical-align: middle;\n",
       "    }\n",
       "\n",
       "    .dataframe tbody tr th {\n",
       "        vertical-align: top;\n",
       "    }\n",
       "\n",
       "    .dataframe thead th {\n",
       "        text-align: right;\n",
       "    }\n",
       "</style>\n",
       "<table border=\"1\" class=\"dataframe\">\n",
       "  <thead>\n",
       "    <tr style=\"text-align: right;\">\n",
       "      <th></th>\n",
       "      <th>tweet_id</th>\n",
       "      <th>jpg_url</th>\n",
       "      <th>img_num</th>\n",
       "      <th>p1</th>\n",
       "      <th>p1_conf</th>\n",
       "      <th>p1_dog</th>\n",
       "      <th>p2</th>\n",
       "      <th>p2_conf</th>\n",
       "      <th>p2_dog</th>\n",
       "      <th>p3</th>\n",
       "      <th>p3_conf</th>\n",
       "      <th>p3_dog</th>\n",
       "    </tr>\n",
       "  </thead>\n",
       "  <tbody>\n",
       "    <tr>\n",
       "      <th>6</th>\n",
       "      <td>666051853826850816</td>\n",
       "      <td>https://pbs.twimg.com/media/CT5KoJ1WoAAJash.jpg</td>\n",
       "      <td>1</td>\n",
       "      <td>box_turtle</td>\n",
       "      <td>0.933012</td>\n",
       "      <td>False</td>\n",
       "      <td>mud_turtle</td>\n",
       "      <td>0.045885</td>\n",
       "      <td>False</td>\n",
       "      <td>terrapin</td>\n",
       "      <td>0.017885</td>\n",
       "      <td>False</td>\n",
       "    </tr>\n",
       "    <tr>\n",
       "      <th>17</th>\n",
       "      <td>666104133288665088</td>\n",
       "      <td>https://pbs.twimg.com/media/CT56LSZWoAAlJj2.jpg</td>\n",
       "      <td>1</td>\n",
       "      <td>hen</td>\n",
       "      <td>0.965932</td>\n",
       "      <td>False</td>\n",
       "      <td>cock</td>\n",
       "      <td>0.033919</td>\n",
       "      <td>False</td>\n",
       "      <td>partridge</td>\n",
       "      <td>0.000052</td>\n",
       "      <td>False</td>\n",
       "    </tr>\n",
       "    <tr>\n",
       "      <th>18</th>\n",
       "      <td>666268910803644416</td>\n",
       "      <td>https://pbs.twimg.com/media/CT8QCd1WEAADXws.jpg</td>\n",
       "      <td>1</td>\n",
       "      <td>desktop_computer</td>\n",
       "      <td>0.086502</td>\n",
       "      <td>False</td>\n",
       "      <td>desk</td>\n",
       "      <td>0.085547</td>\n",
       "      <td>False</td>\n",
       "      <td>bookcase</td>\n",
       "      <td>0.079480</td>\n",
       "      <td>False</td>\n",
       "    </tr>\n",
       "    <tr>\n",
       "      <th>21</th>\n",
       "      <td>666293911632134144</td>\n",
       "      <td>https://pbs.twimg.com/media/CT8mx7KW4AEQu8N.jpg</td>\n",
       "      <td>1</td>\n",
       "      <td>three-toed_sloth</td>\n",
       "      <td>0.914671</td>\n",
       "      <td>False</td>\n",
       "      <td>otter</td>\n",
       "      <td>0.015250</td>\n",
       "      <td>False</td>\n",
       "      <td>great_grey_owl</td>\n",
       "      <td>0.013207</td>\n",
       "      <td>False</td>\n",
       "    </tr>\n",
       "    <tr>\n",
       "      <th>25</th>\n",
       "      <td>666362758909284353</td>\n",
       "      <td>https://pbs.twimg.com/media/CT9lXGsUcAAyUFt.jpg</td>\n",
       "      <td>1</td>\n",
       "      <td>guinea_pig</td>\n",
       "      <td>0.996496</td>\n",
       "      <td>False</td>\n",
       "      <td>skunk</td>\n",
       "      <td>0.002402</td>\n",
       "      <td>False</td>\n",
       "      <td>hamster</td>\n",
       "      <td>0.000461</td>\n",
       "      <td>False</td>\n",
       "    </tr>\n",
       "  </tbody>\n",
       "</table>\n",
       "</div>"
      ],
      "text/plain": [
       "              tweet_id                                          jpg_url  img_num                p1   p1_conf  p1_dog          p2   p2_conf  p2_dog              p3   p3_conf  p3_dog\n",
       "6   666051853826850816  https://pbs.twimg.com/media/CT5KoJ1WoAAJash.jpg        1        box_turtle  0.933012   False  mud_turtle  0.045885   False        terrapin  0.017885   False\n",
       "17  666104133288665088  https://pbs.twimg.com/media/CT56LSZWoAAlJj2.jpg        1               hen  0.965932   False        cock  0.033919   False       partridge  0.000052   False\n",
       "18  666268910803644416  https://pbs.twimg.com/media/CT8QCd1WEAADXws.jpg        1  desktop_computer  0.086502   False        desk  0.085547   False        bookcase  0.079480   False\n",
       "21  666293911632134144  https://pbs.twimg.com/media/CT8mx7KW4AEQu8N.jpg        1  three-toed_sloth  0.914671   False       otter  0.015250   False  great_grey_owl  0.013207   False\n",
       "25  666362758909284353  https://pbs.twimg.com/media/CT9lXGsUcAAyUFt.jpg        1        guinea_pig  0.996496   False       skunk  0.002402   False         hamster  0.000461   False"
      ]
     },
     "execution_count": 55,
     "metadata": {},
     "output_type": "execute_result"
    }
   ],
   "source": [
    "image_prediction_df.query(\"p1_dog == False and p2_dog == False and p3_dog == False\").head()"
   ]
  },
  {
   "cell_type": "code",
   "execution_count": 56,
   "id": "59ed6593",
   "metadata": {
    "scrolled": false
   },
   "outputs": [
    {
     "data": {
      "text/html": [
       "<div>\n",
       "<style scoped>\n",
       "    .dataframe tbody tr th:only-of-type {\n",
       "        vertical-align: middle;\n",
       "    }\n",
       "\n",
       "    .dataframe tbody tr th {\n",
       "        vertical-align: top;\n",
       "    }\n",
       "\n",
       "    .dataframe thead th {\n",
       "        text-align: right;\n",
       "    }\n",
       "</style>\n",
       "<table border=\"1\" class=\"dataframe\">\n",
       "  <thead>\n",
       "    <tr style=\"text-align: right;\">\n",
       "      <th></th>\n",
       "      <th>tweet_id</th>\n",
       "      <th>jpg_url</th>\n",
       "      <th>img_num</th>\n",
       "      <th>p1</th>\n",
       "      <th>p1_conf</th>\n",
       "      <th>p1_dog</th>\n",
       "      <th>p2</th>\n",
       "      <th>p2_conf</th>\n",
       "      <th>p2_dog</th>\n",
       "      <th>p3</th>\n",
       "      <th>p3_conf</th>\n",
       "      <th>p3_dog</th>\n",
       "    </tr>\n",
       "  </thead>\n",
       "  <tbody>\n",
       "    <tr>\n",
       "      <th>8</th>\n",
       "      <td>666057090499244032</td>\n",
       "      <td>https://pbs.twimg.com/media/CT5PY90WoAAQGLo.jpg</td>\n",
       "      <td>1</td>\n",
       "      <td>shopping_cart</td>\n",
       "      <td>0.962465</td>\n",
       "      <td>False</td>\n",
       "      <td>shopping_basket</td>\n",
       "      <td>0.014594</td>\n",
       "      <td>False</td>\n",
       "      <td>golden_retriever</td>\n",
       "      <td>0.007959</td>\n",
       "      <td>True</td>\n",
       "    </tr>\n",
       "    <tr>\n",
       "      <th>22</th>\n",
       "      <td>666337882303524864</td>\n",
       "      <td>https://pbs.twimg.com/media/CT9OwFIWEAMuRje.jpg</td>\n",
       "      <td>1</td>\n",
       "      <td>ox</td>\n",
       "      <td>0.416669</td>\n",
       "      <td>False</td>\n",
       "      <td>Newfoundland</td>\n",
       "      <td>0.278407</td>\n",
       "      <td>True</td>\n",
       "      <td>groenendael</td>\n",
       "      <td>0.102643</td>\n",
       "      <td>True</td>\n",
       "    </tr>\n",
       "    <tr>\n",
       "      <th>33</th>\n",
       "      <td>666430724426358785</td>\n",
       "      <td>https://pbs.twimg.com/media/CT-jNYqW4AAPi2M.jpg</td>\n",
       "      <td>1</td>\n",
       "      <td>llama</td>\n",
       "      <td>0.505184</td>\n",
       "      <td>False</td>\n",
       "      <td>Irish_terrier</td>\n",
       "      <td>0.104109</td>\n",
       "      <td>True</td>\n",
       "      <td>dingo</td>\n",
       "      <td>0.062071</td>\n",
       "      <td>False</td>\n",
       "    </tr>\n",
       "    <tr>\n",
       "      <th>43</th>\n",
       "      <td>666776908487630848</td>\n",
       "      <td>https://pbs.twimg.com/media/CUDeDoWUYAAD-EM.jpg</td>\n",
       "      <td>1</td>\n",
       "      <td>seat_belt</td>\n",
       "      <td>0.375057</td>\n",
       "      <td>False</td>\n",
       "      <td>miniature_pinscher</td>\n",
       "      <td>0.167175</td>\n",
       "      <td>True</td>\n",
       "      <td>Chihuahua</td>\n",
       "      <td>0.086951</td>\n",
       "      <td>True</td>\n",
       "    </tr>\n",
       "    <tr>\n",
       "      <th>52</th>\n",
       "      <td>666996132027977728</td>\n",
       "      <td>https://pbs.twimg.com/media/CUGlb6iUwAITEbW.jpg</td>\n",
       "      <td>1</td>\n",
       "      <td>hay</td>\n",
       "      <td>0.507637</td>\n",
       "      <td>False</td>\n",
       "      <td>Rottweiler</td>\n",
       "      <td>0.062490</td>\n",
       "      <td>True</td>\n",
       "      <td>water_buffalo</td>\n",
       "      <td>0.048425</td>\n",
       "      <td>False</td>\n",
       "    </tr>\n",
       "  </tbody>\n",
       "</table>\n",
       "</div>"
      ],
      "text/plain": [
       "              tweet_id                                          jpg_url  img_num             p1   p1_conf  p1_dog                  p2   p2_conf  p2_dog                p3   p3_conf  p3_dog\n",
       "8   666057090499244032  https://pbs.twimg.com/media/CT5PY90WoAAQGLo.jpg        1  shopping_cart  0.962465   False     shopping_basket  0.014594   False  golden_retriever  0.007959    True\n",
       "22  666337882303524864  https://pbs.twimg.com/media/CT9OwFIWEAMuRje.jpg        1             ox  0.416669   False        Newfoundland  0.278407    True       groenendael  0.102643    True\n",
       "33  666430724426358785  https://pbs.twimg.com/media/CT-jNYqW4AAPi2M.jpg        1          llama  0.505184   False       Irish_terrier  0.104109    True             dingo  0.062071   False\n",
       "43  666776908487630848  https://pbs.twimg.com/media/CUDeDoWUYAAD-EM.jpg        1      seat_belt  0.375057   False  miniature_pinscher  0.167175    True         Chihuahua  0.086951    True\n",
       "52  666996132027977728  https://pbs.twimg.com/media/CUGlb6iUwAITEbW.jpg        1            hay  0.507637   False          Rottweiler  0.062490    True     water_buffalo  0.048425   False"
      ]
     },
     "execution_count": 56,
     "metadata": {},
     "output_type": "execute_result"
    }
   ],
   "source": [
    "image_prediction_df.query(\"p1_dog == False and (p2_dog == True or p3_dog == True)\").head()"
   ]
  },
  {
   "cell_type": "markdown",
   "id": "43e4c2b4",
   "metadata": {},
   "source": [
    "After checking some of these pictures it it's clear, that sometimes the doggos are in the background or the pictures doesn't contain any dogs at all."
   ]
  },
  {
   "cell_type": "markdown",
   "id": "82f30d2e",
   "metadata": {},
   "source": [
    "### Assess: Twitter API Data"
   ]
  },
  {
   "cell_type": "code",
   "execution_count": 57,
   "id": "88097ec5",
   "metadata": {
    "scrolled": true
   },
   "outputs": [
    {
     "data": {
      "text/html": [
       "<div>\n",
       "<style scoped>\n",
       "    .dataframe tbody tr th:only-of-type {\n",
       "        vertical-align: middle;\n",
       "    }\n",
       "\n",
       "    .dataframe tbody tr th {\n",
       "        vertical-align: top;\n",
       "    }\n",
       "\n",
       "    .dataframe thead th {\n",
       "        text-align: right;\n",
       "    }\n",
       "</style>\n",
       "<table border=\"1\" class=\"dataframe\">\n",
       "  <thead>\n",
       "    <tr style=\"text-align: right;\">\n",
       "      <th></th>\n",
       "      <th>tweet_id</th>\n",
       "      <th>favorite_count</th>\n",
       "      <th>retweet_count</th>\n",
       "    </tr>\n",
       "  </thead>\n",
       "  <tbody>\n",
       "    <tr>\n",
       "      <th>2311</th>\n",
       "      <td>666094000022159362</td>\n",
       "      <td>142</td>\n",
       "      <td>63</td>\n",
       "    </tr>\n",
       "    <tr>\n",
       "      <th>2062</th>\n",
       "      <td>670782429121134593</td>\n",
       "      <td>1348</td>\n",
       "      <td>658</td>\n",
       "    </tr>\n",
       "    <tr>\n",
       "      <th>421</th>\n",
       "      <td>819952236453363712</td>\n",
       "      <td>5016</td>\n",
       "      <td>1082</td>\n",
       "    </tr>\n",
       "  </tbody>\n",
       "</table>\n",
       "</div>"
      ],
      "text/plain": [
       "                tweet_id  favorite_count  retweet_count\n",
       "2311  666094000022159362             142             63\n",
       "2062  670782429121134593            1348            658\n",
       "421   819952236453363712            5016           1082"
      ]
     },
     "execution_count": 57,
     "metadata": {},
     "output_type": "execute_result"
    }
   ],
   "source": [
    "# display sample of data\n",
    "api_df.sample(3)"
   ]
  },
  {
   "cell_type": "code",
   "execution_count": 58,
   "id": "176e65d6",
   "metadata": {
    "scrolled": true
   },
   "outputs": [
    {
     "name": "stdout",
     "output_type": "stream",
     "text": [
      "<class 'pandas.core.frame.DataFrame'>\n",
      "RangeIndex: 2326 entries, 0 to 2325\n",
      "Data columns (total 3 columns):\n",
      " #   Column          Non-Null Count  Dtype \n",
      "---  ------          --------------  ----- \n",
      " 0   tweet_id        2326 non-null   object\n",
      " 1   favorite_count  2326 non-null   int64 \n",
      " 2   retweet_count   2326 non-null   int64 \n",
      "dtypes: int64(2), object(1)\n",
      "memory usage: 54.6+ KB\n"
     ]
    }
   ],
   "source": [
    "# print a summary of a DataFrame\n",
    "api_df.info()"
   ]
  },
  {
   "cell_type": "code",
   "execution_count": 59,
   "id": "68ba5662",
   "metadata": {
    "scrolled": true
   },
   "outputs": [
    {
     "data": {
      "text/plain": [
       "True"
      ]
     },
     "execution_count": 59,
     "metadata": {},
     "output_type": "execute_result"
    }
   ],
   "source": [
    "# check if ids are unique\n",
    "api_df.index.is_unique"
   ]
  },
  {
   "cell_type": "markdown",
   "id": "6c7fe555",
   "metadata": {},
   "source": [
    "Overall this dataset looks good. There is no missing data."
   ]
  },
  {
   "cell_type": "markdown",
   "id": "04c1e92e",
   "metadata": {},
   "source": [
    "<a id='assessingsum'></a>\n",
    "### Assessing Summary"
   ]
  },
  {
   "cell_type": "markdown",
   "id": "67be8de6",
   "metadata": {},
   "source": [
    "#### Quality\n",
    "##### `df` table\n",
    "\n",
    "- some of the dogs are not classified as one of \"doggo\", \"floofer\", \"pupper\" or \"puppo\" and contain all \"None\" instead\n",
    "- some of the gathered tweets are replies and should be removed.\n",
    "- some of the gathered tweets are retweets.\n",
    "- float ratings have been incorrectly read from the text of tweet.\n",
    "- we have 639 expanded urls which contain more than one url address.\n",
    "- some of the dog names are not correct (None, an, by, a, ...)\n",
    "- contains retweets and should be removed\n",
    "- some of the ratings are not correctly extracted (mostly if there are >1 entries with the pattern \"(\\d+(\\.\\d+)?\\/\\d+(\\.\\d+)?)\"\n",
    "- also transforming the ratings to integer created some mistakes (there are also floats)\n",
    "- the source column contains html code\n",
    "- Delete columns that won't be used for analysis.\n",
    "- The timestamp has an incorrect datatype - is string, should be datetime object.\n",
    "- some dogs have more than one category assigned.\n",
    "- Correct denominators other than 10.\n",
    "- float ratings have been incorrectly read from the text of tweet.\n",
    "\n",
    "\n",
    "##### `image_pridiction_df table\n",
    "\n",
    "- contains retweets (duplicated rows in column `jpg_url`)\n",
    "- there are pictures in this table that are not dogs\n",
    "- the dataset has 2075 entries, while twitter archive dataset has 2356 entries.\n",
    "- column names are confusing and do not give much information about the content.\n",
    "- dog breeds contain underscores, and have different case formatting.\n",
    "- 66 jpg_url duplicates were found.\n",
    "\n",
    "\n",
    "\n",
    "##### `df_api` table\n",
    "- Overall this dataset looks good."
   ]
  },
  {
   "cell_type": "markdown",
   "id": "ebde94b5",
   "metadata": {},
   "source": [
    "#### Tidiness\n",
    "##### `df` table\n",
    "- the columns `doggo`, `floofer`,`pupper` and `puppo` are not easy to analyze and should be in one column\n",
    "\n",
    "##### `image_pridiction_df ` table\n",
    "- dataset should be merged with the twitter archive df dataset.\n",
    "- the prediction and confidence columns should be reduced to two columns - one for the prediction with the highest confidence (dog)\n",
    "\n",
    "##### `api_df` table\n",
    "- None\n",
    "\n",
    "##### `all` tables\n",
    "\n",
    "- All three tables share the column `tweet_id` and should be merged together on `tweet_id`."
   ]
  },
  {
   "cell_type": "markdown",
   "id": "de33fb11",
   "metadata": {},
   "source": [
    "### Cleaning Data\n",
    "Let's use pandas to clean the quality and tidiness issues identified in the Assessing Data section."
   ]
  },
  {
   "cell_type": "markdown",
   "id": "a2bba20e",
   "metadata": {},
   "source": [
    "Cleaning steps:\n",
    "\n",
    "<ol>\n",
    "    <li>Merge the tables together</li>\n",
    "    <li>Drop the replies, retweets and the corresponding columns and also drop the tweets without an image or with images which don't display doggos</li>\n",
    "    <li>Clean the datatypes of the columns</li>\n",
    "    <li>Clean the wrong numerators - the floats on the one hand (replacement), the ones with multiple occurence of the pattern on the other (drop)</li>\n",
    "    <li>Extract the source from html code</li>\n",
    "    <li>Split the text range into two separate columns</li>\n",
    "    <li>Remove the \"None\" out of the doggo, floofer, pupper and puppo column and merge them into one column</li>\n",
    "    <li>Remove the wrong names of name column</li>\n",
    "    <li>Reduce the prediction columns into two - breed and conf</li>\n",
    "    <li>Clean the new breed column by replacing the \"_\" with a whitespace and make them all lowercase</li>\n",
    "</ol>"
   ]
  },
  {
   "cell_type": "markdown",
   "id": "462ab808",
   "metadata": {},
   "source": [
    "**1. Merge the tables together**"
   ]
  },
  {
   "cell_type": "code",
   "execution_count": 60,
   "id": "5b8727e4",
   "metadata": {
    "scrolled": true
   },
   "outputs": [],
   "source": [
    "# Before we merge the tables let's change the datatype of the tweet_id of the api_df to int\n",
    "api_df.tweet_id= api_df.tweet_id.astype(\"int64\")"
   ]
  },
  {
   "cell_type": "code",
   "execution_count": 61,
   "id": "6b758080",
   "metadata": {},
   "outputs": [
    {
     "name": "stdout",
     "output_type": "stream",
     "text": [
      "<class 'pandas.core.frame.DataFrame'>\n",
      "RangeIndex: 2326 entries, 0 to 2325\n",
      "Data columns (total 3 columns):\n",
      " #   Column          Non-Null Count  Dtype\n",
      "---  ------          --------------  -----\n",
      " 0   tweet_id        2326 non-null   int64\n",
      " 1   favorite_count  2326 non-null   int64\n",
      " 2   retweet_count   2326 non-null   int64\n",
      "dtypes: int64(3)\n",
      "memory usage: 54.6 KB\n"
     ]
    }
   ],
   "source": [
    "api_df.info()"
   ]
  },
  {
   "cell_type": "code",
   "execution_count": 62,
   "id": "bdc2b064",
   "metadata": {
    "scrolled": true
   },
   "outputs": [],
   "source": [
    "\n",
    "#left merging df and image_prediction_df on tweet_id\n",
    "df_master1 = pd.merge(df_twitter, image_prediction_df, how = 'left', on = ['tweet_id'])\n",
    "\n",
    "#left merging df_master1 and api_df on tweet_id \n",
    "df_master = pd.merge(df_master1, api_df, how = 'left', on = ['tweet_id'])"
   ]
  },
  {
   "cell_type": "code",
   "execution_count": 63,
   "id": "37fc43a6",
   "metadata": {},
   "outputs": [
    {
     "data": {
      "text/html": [
       "<div>\n",
       "<style scoped>\n",
       "    .dataframe tbody tr th:only-of-type {\n",
       "        vertical-align: middle;\n",
       "    }\n",
       "\n",
       "    .dataframe tbody tr th {\n",
       "        vertical-align: top;\n",
       "    }\n",
       "\n",
       "    .dataframe thead th {\n",
       "        text-align: right;\n",
       "    }\n",
       "</style>\n",
       "<table border=\"1\" class=\"dataframe\">\n",
       "  <thead>\n",
       "    <tr style=\"text-align: right;\">\n",
       "      <th></th>\n",
       "      <th>tweet_id</th>\n",
       "      <th>in_reply_to_status_id</th>\n",
       "      <th>in_reply_to_user_id</th>\n",
       "      <th>timestamp</th>\n",
       "      <th>source</th>\n",
       "      <th>text</th>\n",
       "      <th>retweeted_status_id</th>\n",
       "      <th>retweeted_status_user_id</th>\n",
       "      <th>retweeted_status_timestamp</th>\n",
       "      <th>expanded_urls</th>\n",
       "      <th>rating_numerator</th>\n",
       "      <th>rating_denominator</th>\n",
       "      <th>name</th>\n",
       "      <th>doggo</th>\n",
       "      <th>floofer</th>\n",
       "      <th>pupper</th>\n",
       "      <th>puppo</th>\n",
       "      <th>number_categories</th>\n",
       "      <th>rating</th>\n",
       "      <th>num</th>\n",
       "      <th>denom</th>\n",
       "      <th>check_num</th>\n",
       "      <th>check_denom</th>\n",
       "      <th>count</th>\n",
       "      <th>jpg_url</th>\n",
       "      <th>img_num</th>\n",
       "      <th>p1</th>\n",
       "      <th>p1_conf</th>\n",
       "      <th>p1_dog</th>\n",
       "      <th>p2</th>\n",
       "      <th>p2_conf</th>\n",
       "      <th>p2_dog</th>\n",
       "      <th>p3</th>\n",
       "      <th>p3_conf</th>\n",
       "      <th>p3_dog</th>\n",
       "      <th>favorite_count</th>\n",
       "      <th>retweet_count</th>\n",
       "    </tr>\n",
       "  </thead>\n",
       "  <tbody>\n",
       "    <tr>\n",
       "      <th>0</th>\n",
       "      <td>892420643555336193</td>\n",
       "      <td>NaN</td>\n",
       "      <td>NaN</td>\n",
       "      <td>2017-08-01 16:23:56 +0000</td>\n",
       "      <td>&lt;a href=\"http://twitter.com/download/iphone\" rel=\"nofollow\"&gt;Twitter for iPhone&lt;/a&gt;</td>\n",
       "      <td>This is Phineas. He's a mystical boy. Only ever appears in the hole of a donut. 13/10 https://t.co/MgUWQ76dJU</td>\n",
       "      <td>NaN</td>\n",
       "      <td>NaN</td>\n",
       "      <td>NaN</td>\n",
       "      <td>https://twitter.com/dog_rates/status/892420643555336193/photo/1</td>\n",
       "      <td>13</td>\n",
       "      <td>10</td>\n",
       "      <td>Phineas</td>\n",
       "      <td>0</td>\n",
       "      <td>0</td>\n",
       "      <td>0</td>\n",
       "      <td>0</td>\n",
       "      <td>0</td>\n",
       "      <td>13/10</td>\n",
       "      <td>13</td>\n",
       "      <td>10</td>\n",
       "      <td>True</td>\n",
       "      <td>True</td>\n",
       "      <td>1</td>\n",
       "      <td>https://pbs.twimg.com/media/DGKD1-bXoAAIAUK.jpg</td>\n",
       "      <td>1.0</td>\n",
       "      <td>orange</td>\n",
       "      <td>0.097049</td>\n",
       "      <td>False</td>\n",
       "      <td>bagel</td>\n",
       "      <td>0.085851</td>\n",
       "      <td>False</td>\n",
       "      <td>banana</td>\n",
       "      <td>0.076110</td>\n",
       "      <td>False</td>\n",
       "      <td>33777.0</td>\n",
       "      <td>6991.0</td>\n",
       "    </tr>\n",
       "    <tr>\n",
       "      <th>1</th>\n",
       "      <td>892177421306343426</td>\n",
       "      <td>NaN</td>\n",
       "      <td>NaN</td>\n",
       "      <td>2017-08-01 00:17:27 +0000</td>\n",
       "      <td>&lt;a href=\"http://twitter.com/download/iphone\" rel=\"nofollow\"&gt;Twitter for iPhone&lt;/a&gt;</td>\n",
       "      <td>This is Tilly. She's just checking pup on you. Hopes you're doing ok. If not, she's available for pats, snugs, boops, the whole bit. 13/10 https://t.co/0Xxu71qeIV</td>\n",
       "      <td>NaN</td>\n",
       "      <td>NaN</td>\n",
       "      <td>NaN</td>\n",
       "      <td>https://twitter.com/dog_rates/status/892177421306343426/photo/1</td>\n",
       "      <td>13</td>\n",
       "      <td>10</td>\n",
       "      <td>Tilly</td>\n",
       "      <td>0</td>\n",
       "      <td>0</td>\n",
       "      <td>0</td>\n",
       "      <td>0</td>\n",
       "      <td>0</td>\n",
       "      <td>13/10</td>\n",
       "      <td>13</td>\n",
       "      <td>10</td>\n",
       "      <td>True</td>\n",
       "      <td>True</td>\n",
       "      <td>1</td>\n",
       "      <td>https://pbs.twimg.com/media/DGGmoV4XsAAUL6n.jpg</td>\n",
       "      <td>1.0</td>\n",
       "      <td>Chihuahua</td>\n",
       "      <td>0.323581</td>\n",
       "      <td>True</td>\n",
       "      <td>Pekinese</td>\n",
       "      <td>0.090647</td>\n",
       "      <td>True</td>\n",
       "      <td>papillon</td>\n",
       "      <td>0.068957</td>\n",
       "      <td>True</td>\n",
       "      <td>29293.0</td>\n",
       "      <td>5293.0</td>\n",
       "    </tr>\n",
       "    <tr>\n",
       "      <th>2</th>\n",
       "      <td>891815181378084864</td>\n",
       "      <td>NaN</td>\n",
       "      <td>NaN</td>\n",
       "      <td>2017-07-31 00:18:03 +0000</td>\n",
       "      <td>&lt;a href=\"http://twitter.com/download/iphone\" rel=\"nofollow\"&gt;Twitter for iPhone&lt;/a&gt;</td>\n",
       "      <td>This is Archie. He is a rare Norwegian Pouncing Corgo. Lives in the tall grass. You never know when one may strike. 12/10 https://t.co/wUnZnhtVJB</td>\n",
       "      <td>NaN</td>\n",
       "      <td>NaN</td>\n",
       "      <td>NaN</td>\n",
       "      <td>https://twitter.com/dog_rates/status/891815181378084864/photo/1</td>\n",
       "      <td>12</td>\n",
       "      <td>10</td>\n",
       "      <td>Archie</td>\n",
       "      <td>0</td>\n",
       "      <td>0</td>\n",
       "      <td>0</td>\n",
       "      <td>0</td>\n",
       "      <td>0</td>\n",
       "      <td>12/10</td>\n",
       "      <td>12</td>\n",
       "      <td>10</td>\n",
       "      <td>True</td>\n",
       "      <td>True</td>\n",
       "      <td>1</td>\n",
       "      <td>https://pbs.twimg.com/media/DGBdLU1WsAANxJ9.jpg</td>\n",
       "      <td>1.0</td>\n",
       "      <td>Chihuahua</td>\n",
       "      <td>0.716012</td>\n",
       "      <td>True</td>\n",
       "      <td>malamute</td>\n",
       "      <td>0.078253</td>\n",
       "      <td>True</td>\n",
       "      <td>kelpie</td>\n",
       "      <td>0.031379</td>\n",
       "      <td>True</td>\n",
       "      <td>22031.0</td>\n",
       "      <td>3471.0</td>\n",
       "    </tr>\n",
       "  </tbody>\n",
       "</table>\n",
       "</div>"
      ],
      "text/plain": [
       "             tweet_id  in_reply_to_status_id  in_reply_to_user_id                  timestamp                                                                              source                                                                                                                                                                text  retweeted_status_id  retweeted_status_user_id retweeted_status_timestamp                                                    expanded_urls rating_numerator rating_denominator     name  doggo  floofer  pupper  puppo  number_categories rating num denom  check_num  check_denom  count                                          jpg_url  img_num         p1   p1_conf p1_dog        p2   p2_conf p2_dog        p3   p3_conf p3_dog  favorite_count  retweet_count\n",
       "0  892420643555336193                    NaN                  NaN  2017-08-01 16:23:56 +0000  <a href=\"http://twitter.com/download/iphone\" rel=\"nofollow\">Twitter for iPhone</a>                                                       This is Phineas. He's a mystical boy. Only ever appears in the hole of a donut. 13/10 https://t.co/MgUWQ76dJU                  NaN                       NaN                        NaN  https://twitter.com/dog_rates/status/892420643555336193/photo/1               13                 10  Phineas      0        0       0      0                  0  13/10  13    10       True         True      1  https://pbs.twimg.com/media/DGKD1-bXoAAIAUK.jpg      1.0     orange  0.097049  False     bagel  0.085851  False    banana  0.076110  False         33777.0         6991.0\n",
       "1  892177421306343426                    NaN                  NaN  2017-08-01 00:17:27 +0000  <a href=\"http://twitter.com/download/iphone\" rel=\"nofollow\">Twitter for iPhone</a>  This is Tilly. She's just checking pup on you. Hopes you're doing ok. If not, she's available for pats, snugs, boops, the whole bit. 13/10 https://t.co/0Xxu71qeIV                  NaN                       NaN                        NaN  https://twitter.com/dog_rates/status/892177421306343426/photo/1               13                 10    Tilly      0        0       0      0                  0  13/10  13    10       True         True      1  https://pbs.twimg.com/media/DGGmoV4XsAAUL6n.jpg      1.0  Chihuahua  0.323581   True  Pekinese  0.090647   True  papillon  0.068957   True         29293.0         5293.0\n",
       "2  891815181378084864                    NaN                  NaN  2017-07-31 00:18:03 +0000  <a href=\"http://twitter.com/download/iphone\" rel=\"nofollow\">Twitter for iPhone</a>                   This is Archie. He is a rare Norwegian Pouncing Corgo. Lives in the tall grass. You never know when one may strike. 12/10 https://t.co/wUnZnhtVJB                  NaN                       NaN                        NaN  https://twitter.com/dog_rates/status/891815181378084864/photo/1               12                 10   Archie      0        0       0      0                  0  12/10  12    10       True         True      1  https://pbs.twimg.com/media/DGBdLU1WsAANxJ9.jpg      1.0  Chihuahua  0.716012   True  malamute  0.078253   True    kelpie  0.031379   True         22031.0         3471.0"
      ]
     },
     "execution_count": 63,
     "metadata": {},
     "output_type": "execute_result"
    }
   ],
   "source": [
    "df_master.head(3)"
   ]
  },
  {
   "cell_type": "code",
   "execution_count": 64,
   "id": "06294863",
   "metadata": {},
   "outputs": [],
   "source": [
    "# let's make a copy of the dataset\n",
    "df_master_clean = df_master.copy()"
   ]
  },
  {
   "cell_type": "markdown",
   "id": "9c2eefd2",
   "metadata": {},
   "source": [
    "**2. Drop the replies, retweets and the corresponding columns and also drop the tweets without an image or with images which don't display doggos**"
   ]
  },
  {
   "cell_type": "markdown",
   "id": "b76ded9a",
   "metadata": {},
   "source": [
    "Let's remove the replies, retweets and the tweets withouth an image displaying a dog, because we only want original tweets with images. "
   ]
  },
  {
   "cell_type": "code",
   "execution_count": 65,
   "id": "8a89dae6",
   "metadata": {},
   "outputs": [],
   "source": [
    "#we only want the rows without an entry in \"retweeted_status_id\" in our master dataframe\n",
    "df_master_clean = df_master_clean[df_master_clean[\"retweeted_status_id\"].isnull()]\n"
   ]
  },
  {
   "cell_type": "code",
   "execution_count": 66,
   "id": "4fd7287e",
   "metadata": {},
   "outputs": [
    {
     "name": "stdout",
     "output_type": "stream",
     "text": [
      "0\n"
     ]
    }
   ],
   "source": [
    "# lets check our dataset\n",
    "print(sum(df_master_clean.retweeted_status_user_id.value_counts()))"
   ]
  },
  {
   "cell_type": "code",
   "execution_count": 67,
   "id": "e2f720c9",
   "metadata": {},
   "outputs": [
    {
     "name": "stdout",
     "output_type": "stream",
     "text": [
      "0 tweet_id\n",
      "1 in_reply_to_status_id\n",
      "2 in_reply_to_user_id\n",
      "3 timestamp\n",
      "4 source\n",
      "5 text\n",
      "6 retweeted_status_id\n",
      "7 retweeted_status_user_id\n",
      "8 retweeted_status_timestamp\n",
      "9 expanded_urls\n",
      "10 rating_numerator\n",
      "11 rating_denominator\n",
      "12 name\n",
      "13 doggo\n",
      "14 floofer\n",
      "15 pupper\n",
      "16 puppo\n",
      "17 number_categories\n",
      "18 rating\n",
      "19 num\n",
      "20 denom\n",
      "21 check_num\n",
      "22 check_denom\n",
      "23 count\n",
      "24 jpg_url\n",
      "25 img_num\n",
      "26 p1\n",
      "27 p1_conf\n",
      "28 p1_dog\n",
      "29 p2\n",
      "30 p2_conf\n",
      "31 p2_dog\n",
      "32 p3\n",
      "33 p3_conf\n",
      "34 p3_dog\n",
      "35 favorite_count\n",
      "36 retweet_count\n"
     ]
    }
   ],
   "source": [
    "for i,v in enumerate(df_master_clean.columns):\n",
    "    print(i,v)"
   ]
  },
  {
   "cell_type": "code",
   "execution_count": 68,
   "id": "96a632c1",
   "metadata": {},
   "outputs": [
    {
     "name": "stdout",
     "output_type": "stream",
     "text": [
      "0\n"
     ]
    }
   ],
   "source": [
    "#same as for the retweets, we only want the rows without an entry in \"in_reply_to_status_id\"\n",
    "df_master_clean = df_master_clean[df_master_clean.in_reply_to_status_id.isnull()]\n",
    "\n",
    "#lets check our dataset\n",
    "print(sum(df_master_clean.in_reply_to_status_id.value_counts()))\n"
   ]
  },
  {
   "cell_type": "code",
   "execution_count": 69,
   "id": "bbbe1ed6",
   "metadata": {},
   "outputs": [],
   "source": [
    "#drop the columns that we don't neeed\n",
    "df_master_clean = df_master_clean.drop([\"in_reply_to_status_id\", \"in_reply_to_user_id\",\n",
    "                      \"retweeted_status_id\", \"retweeted_status_user_id\", \n",
    "                      \"retweeted_status_timestamp\"], axis = 1)"
   ]
  },
  {
   "cell_type": "code",
   "execution_count": 70,
   "id": "09a65651",
   "metadata": {
    "scrolled": true
   },
   "outputs": [
    {
     "data": {
      "text/plain": [
       "Index(['tweet_id', 'timestamp', 'source', 'text', 'expanded_urls', 'rating_numerator', 'rating_denominator', 'name', 'doggo', 'floofer', 'pupper', 'puppo', 'number_categories', 'rating', 'num', 'denom', 'check_num', 'check_denom', 'count', 'jpg_url', 'img_num', 'p1', 'p1_conf', 'p1_dog', 'p2', 'p2_conf', 'p2_dog', 'p3', 'p3_conf', 'p3_dog', 'favorite_count', 'retweet_count'], dtype='object')"
      ]
     },
     "execution_count": 70,
     "metadata": {},
     "output_type": "execute_result"
    }
   ],
   "source": [
    "#Let's check the columns again\n",
    "df_master_clean.columns"
   ]
  },
  {
   "cell_type": "markdown",
   "id": "d8f2cf10",
   "metadata": {},
   "source": [
    "Now we want to take a look on the \"jpg_url\" column and drop all the rows, which have NAN  values - since these are the ones without an image."
   ]
  },
  {
   "cell_type": "code",
   "execution_count": 71,
   "id": "89ddb578",
   "metadata": {},
   "outputs": [],
   "source": [
    "df_master_clean.dropna(subset = [\"jpg_url\"], inplace = True)"
   ]
  },
  {
   "cell_type": "markdown",
   "id": "b647dcc1",
   "metadata": {},
   "source": [
    "The last step here is to drop the rows which contain images, that are not displaying any dogs (relying on the top three predictions of the ML algorithm)."
   ]
  },
  {
   "cell_type": "code",
   "execution_count": 72,
   "id": "cb0c29cf",
   "metadata": {},
   "outputs": [],
   "source": [
    "df_master_clean.drop(df_master_clean.query(\"p1_dog == False and p2_dog == False and p3_dog == False\").index, inplace = True)"
   ]
  },
  {
   "cell_type": "code",
   "execution_count": 73,
   "id": "7e6a1c29",
   "metadata": {
    "scrolled": true
   },
   "outputs": [
    {
     "data": {
      "text/html": [
       "<div>\n",
       "<style scoped>\n",
       "    .dataframe tbody tr th:only-of-type {\n",
       "        vertical-align: middle;\n",
       "    }\n",
       "\n",
       "    .dataframe tbody tr th {\n",
       "        vertical-align: top;\n",
       "    }\n",
       "\n",
       "    .dataframe thead th {\n",
       "        text-align: right;\n",
       "    }\n",
       "</style>\n",
       "<table border=\"1\" class=\"dataframe\">\n",
       "  <thead>\n",
       "    <tr style=\"text-align: right;\">\n",
       "      <th></th>\n",
       "      <th>tweet_id</th>\n",
       "      <th>timestamp</th>\n",
       "      <th>source</th>\n",
       "      <th>text</th>\n",
       "      <th>expanded_urls</th>\n",
       "      <th>rating_numerator</th>\n",
       "      <th>rating_denominator</th>\n",
       "      <th>name</th>\n",
       "      <th>doggo</th>\n",
       "      <th>floofer</th>\n",
       "      <th>pupper</th>\n",
       "      <th>puppo</th>\n",
       "      <th>number_categories</th>\n",
       "      <th>rating</th>\n",
       "      <th>num</th>\n",
       "      <th>denom</th>\n",
       "      <th>check_num</th>\n",
       "      <th>check_denom</th>\n",
       "      <th>count</th>\n",
       "      <th>jpg_url</th>\n",
       "      <th>img_num</th>\n",
       "      <th>p1</th>\n",
       "      <th>p1_conf</th>\n",
       "      <th>p1_dog</th>\n",
       "      <th>p2</th>\n",
       "      <th>p2_conf</th>\n",
       "      <th>p2_dog</th>\n",
       "      <th>p3</th>\n",
       "      <th>p3_conf</th>\n",
       "      <th>p3_dog</th>\n",
       "      <th>favorite_count</th>\n",
       "      <th>retweet_count</th>\n",
       "    </tr>\n",
       "  </thead>\n",
       "  <tbody>\n",
       "  </tbody>\n",
       "</table>\n",
       "</div>"
      ],
      "text/plain": [
       "Empty DataFrame\n",
       "Columns: [tweet_id, timestamp, source, text, expanded_urls, rating_numerator, rating_denominator, name, doggo, floofer, pupper, puppo, number_categories, rating, num, denom, check_num, check_denom, count, jpg_url, img_num, p1, p1_conf, p1_dog, p2, p2_conf, p2_dog, p3, p3_conf, p3_dog, favorite_count, retweet_count]\n",
       "Index: []"
      ]
     },
     "execution_count": 73,
     "metadata": {},
     "output_type": "execute_result"
    }
   ],
   "source": [
    "df_master_clean.query(\"p1_dog == False and p2_dog == False and p3_dog == False\")"
   ]
  },
  {
   "cell_type": "code",
   "execution_count": 74,
   "id": "2f4c6ae9",
   "metadata": {
    "scrolled": true
   },
   "outputs": [
    {
     "name": "stdout",
     "output_type": "stream",
     "text": [
      "<class 'pandas.core.frame.DataFrame'>\n",
      "Int64Index: 1666 entries, 1 to 2355\n",
      "Data columns (total 32 columns):\n",
      " #   Column              Non-Null Count  Dtype  \n",
      "---  ------              --------------  -----  \n",
      " 0   tweet_id            1666 non-null   int64  \n",
      " 1   timestamp           1666 non-null   object \n",
      " 2   source              1666 non-null   object \n",
      " 3   text                1666 non-null   object \n",
      " 4   expanded_urls       1666 non-null   object \n",
      " 5   rating_numerator    1666 non-null   object \n",
      " 6   rating_denominator  1666 non-null   object \n",
      " 7   name                1666 non-null   object \n",
      " 8   doggo               1666 non-null   int64  \n",
      " 9   floofer             1666 non-null   int64  \n",
      " 10  pupper              1666 non-null   int64  \n",
      " 11  puppo               1666 non-null   int64  \n",
      " 12  number_categories   1666 non-null   int64  \n",
      " 13  rating              1666 non-null   object \n",
      " 14  num                 1666 non-null   object \n",
      " 15  denom               1666 non-null   object \n",
      " 16  check_num           1666 non-null   bool   \n",
      " 17  check_denom         1666 non-null   bool   \n",
      " 18  count               1666 non-null   int64  \n",
      " 19  jpg_url             1666 non-null   object \n",
      " 20  img_num             1666 non-null   float64\n",
      " 21  p1                  1666 non-null   object \n",
      " 22  p1_conf             1666 non-null   float64\n",
      " 23  p1_dog              1666 non-null   object \n",
      " 24  p2                  1666 non-null   object \n",
      " 25  p2_conf             1666 non-null   float64\n",
      " 26  p2_dog              1666 non-null   object \n",
      " 27  p3                  1666 non-null   object \n",
      " 28  p3_conf             1666 non-null   float64\n",
      " 29  p3_dog              1666 non-null   object \n",
      " 30  favorite_count      1657 non-null   float64\n",
      " 31  retweet_count       1657 non-null   float64\n",
      "dtypes: bool(2), float64(6), int64(7), object(17)\n",
      "memory usage: 406.7+ KB\n"
     ]
    }
   ],
   "source": [
    "df_master_clean.info()"
   ]
  },
  {
   "cell_type": "markdown",
   "id": "f08f4000",
   "metadata": {},
   "source": [
    "**3. Clean the datatypes of the columns**"
   ]
  },
  {
   "cell_type": "code",
   "execution_count": 75,
   "id": "31b51cc6",
   "metadata": {},
   "outputs": [],
   "source": [
    "df_master_clean[\"tweet_id\"] = df_master_clean[\"tweet_id\"].astype(\"str\")"
   ]
  },
  {
   "cell_type": "code",
   "execution_count": 76,
   "id": "8ac4a10a",
   "metadata": {},
   "outputs": [],
   "source": [
    "# Let's drop rows with null values in retweet_count and favorite_count\n",
    "df_master_clean.dropna(inplace=True)\n"
   ]
  },
  {
   "cell_type": "code",
   "execution_count": 77,
   "id": "f07bc1c2",
   "metadata": {},
   "outputs": [
    {
     "data": {
      "text/html": [
       "<div>\n",
       "<style scoped>\n",
       "    .dataframe tbody tr th:only-of-type {\n",
       "        vertical-align: middle;\n",
       "    }\n",
       "\n",
       "    .dataframe tbody tr th {\n",
       "        vertical-align: top;\n",
       "    }\n",
       "\n",
       "    .dataframe thead th {\n",
       "        text-align: right;\n",
       "    }\n",
       "</style>\n",
       "<table border=\"1\" class=\"dataframe\">\n",
       "  <thead>\n",
       "    <tr style=\"text-align: right;\">\n",
       "      <th></th>\n",
       "      <th>tweet_id</th>\n",
       "      <th>timestamp</th>\n",
       "      <th>source</th>\n",
       "      <th>text</th>\n",
       "      <th>expanded_urls</th>\n",
       "      <th>rating_numerator</th>\n",
       "      <th>rating_denominator</th>\n",
       "      <th>name</th>\n",
       "      <th>doggo</th>\n",
       "      <th>floofer</th>\n",
       "      <th>pupper</th>\n",
       "      <th>puppo</th>\n",
       "      <th>number_categories</th>\n",
       "      <th>rating</th>\n",
       "      <th>num</th>\n",
       "      <th>denom</th>\n",
       "      <th>check_num</th>\n",
       "      <th>check_denom</th>\n",
       "      <th>count</th>\n",
       "      <th>jpg_url</th>\n",
       "      <th>img_num</th>\n",
       "      <th>p1</th>\n",
       "      <th>p1_conf</th>\n",
       "      <th>p1_dog</th>\n",
       "      <th>p2</th>\n",
       "      <th>p2_conf</th>\n",
       "      <th>p2_dog</th>\n",
       "      <th>p3</th>\n",
       "      <th>p3_conf</th>\n",
       "      <th>p3_dog</th>\n",
       "      <th>favorite_count</th>\n",
       "      <th>retweet_count</th>\n",
       "    </tr>\n",
       "  </thead>\n",
       "  <tbody>\n",
       "    <tr>\n",
       "      <th>1</th>\n",
       "      <td>892177421306343426</td>\n",
       "      <td>2017-08-01 00:17:27 +0000</td>\n",
       "      <td>&lt;a href=\"http://twitter.com/download/iphone\" rel=\"nofollow\"&gt;Twitter for iPhone&lt;/a&gt;</td>\n",
       "      <td>This is Tilly. She's just checking pup on you. Hopes you're doing ok. If not, she's available for pats, snugs, boops, the whole bit. 13/10 https://t.co/0Xxu71qeIV</td>\n",
       "      <td>https://twitter.com/dog_rates/status/892177421306343426/photo/1</td>\n",
       "      <td>13</td>\n",
       "      <td>10</td>\n",
       "      <td>Tilly</td>\n",
       "      <td>0</td>\n",
       "      <td>0</td>\n",
       "      <td>0</td>\n",
       "      <td>0</td>\n",
       "      <td>0</td>\n",
       "      <td>13/10</td>\n",
       "      <td>13</td>\n",
       "      <td>10</td>\n",
       "      <td>True</td>\n",
       "      <td>True</td>\n",
       "      <td>1</td>\n",
       "      <td>https://pbs.twimg.com/media/DGGmoV4XsAAUL6n.jpg</td>\n",
       "      <td>1.0</td>\n",
       "      <td>Chihuahua</td>\n",
       "      <td>0.323581</td>\n",
       "      <td>True</td>\n",
       "      <td>Pekinese</td>\n",
       "      <td>0.090647</td>\n",
       "      <td>True</td>\n",
       "      <td>papillon</td>\n",
       "      <td>0.068957</td>\n",
       "      <td>True</td>\n",
       "      <td>29293.0</td>\n",
       "      <td>5293.0</td>\n",
       "    </tr>\n",
       "    <tr>\n",
       "      <th>2</th>\n",
       "      <td>891815181378084864</td>\n",
       "      <td>2017-07-31 00:18:03 +0000</td>\n",
       "      <td>&lt;a href=\"http://twitter.com/download/iphone\" rel=\"nofollow\"&gt;Twitter for iPhone&lt;/a&gt;</td>\n",
       "      <td>This is Archie. He is a rare Norwegian Pouncing Corgo. Lives in the tall grass. You never know when one may strike. 12/10 https://t.co/wUnZnhtVJB</td>\n",
       "      <td>https://twitter.com/dog_rates/status/891815181378084864/photo/1</td>\n",
       "      <td>12</td>\n",
       "      <td>10</td>\n",
       "      <td>Archie</td>\n",
       "      <td>0</td>\n",
       "      <td>0</td>\n",
       "      <td>0</td>\n",
       "      <td>0</td>\n",
       "      <td>0</td>\n",
       "      <td>12/10</td>\n",
       "      <td>12</td>\n",
       "      <td>10</td>\n",
       "      <td>True</td>\n",
       "      <td>True</td>\n",
       "      <td>1</td>\n",
       "      <td>https://pbs.twimg.com/media/DGBdLU1WsAANxJ9.jpg</td>\n",
       "      <td>1.0</td>\n",
       "      <td>Chihuahua</td>\n",
       "      <td>0.716012</td>\n",
       "      <td>True</td>\n",
       "      <td>malamute</td>\n",
       "      <td>0.078253</td>\n",
       "      <td>True</td>\n",
       "      <td>kelpie</td>\n",
       "      <td>0.031379</td>\n",
       "      <td>True</td>\n",
       "      <td>22031.0</td>\n",
       "      <td>3471.0</td>\n",
       "    </tr>\n",
       "  </tbody>\n",
       "</table>\n",
       "</div>"
      ],
      "text/plain": [
       "             tweet_id                  timestamp                                                                              source                                                                                                                                                                text                                                    expanded_urls rating_numerator rating_denominator    name  doggo  floofer  pupper  puppo  number_categories rating num denom  check_num  check_denom  count                                          jpg_url  img_num         p1   p1_conf p1_dog        p2   p2_conf p2_dog        p3   p3_conf p3_dog  favorite_count  retweet_count\n",
       "1  892177421306343426  2017-08-01 00:17:27 +0000  <a href=\"http://twitter.com/download/iphone\" rel=\"nofollow\">Twitter for iPhone</a>  This is Tilly. She's just checking pup on you. Hopes you're doing ok. If not, she's available for pats, snugs, boops, the whole bit. 13/10 https://t.co/0Xxu71qeIV  https://twitter.com/dog_rates/status/892177421306343426/photo/1               13                 10   Tilly      0        0       0      0                  0  13/10  13    10       True         True      1  https://pbs.twimg.com/media/DGGmoV4XsAAUL6n.jpg      1.0  Chihuahua  0.323581   True  Pekinese  0.090647   True  papillon  0.068957   True         29293.0         5293.0\n",
       "2  891815181378084864  2017-07-31 00:18:03 +0000  <a href=\"http://twitter.com/download/iphone\" rel=\"nofollow\">Twitter for iPhone</a>                   This is Archie. He is a rare Norwegian Pouncing Corgo. Lives in the tall grass. You never know when one may strike. 12/10 https://t.co/wUnZnhtVJB  https://twitter.com/dog_rates/status/891815181378084864/photo/1               12                 10  Archie      0        0       0      0                  0  12/10  12    10       True         True      1  https://pbs.twimg.com/media/DGBdLU1WsAANxJ9.jpg      1.0  Chihuahua  0.716012   True  malamute  0.078253   True    kelpie  0.031379   True         22031.0         3471.0"
      ]
     },
     "execution_count": 77,
     "metadata": {},
     "output_type": "execute_result"
    }
   ],
   "source": [
    "df_master_clean.head(2)"
   ]
  },
  {
   "cell_type": "code",
   "execution_count": 78,
   "id": "59928144",
   "metadata": {},
   "outputs": [],
   "source": [
    "#change the timestamp from str to datetime object\n",
    "df_master_clean[\"timestamp\"] = pd.to_datetime(df_master_clean.timestamp)"
   ]
  },
  {
   "cell_type": "code",
   "execution_count": 79,
   "id": "f9fdc0df",
   "metadata": {},
   "outputs": [],
   "source": [
    "# Lets change the data type to int\n",
    "for x in [\"retweet_count\", \"favorite_count\", \"img_num\"]:\n",
    "    df_master_clean[x] = df_master_clean[x].astype(\"int64\")"
   ]
  },
  {
   "cell_type": "code",
   "execution_count": 80,
   "id": "fcf793fa",
   "metadata": {
    "scrolled": true
   },
   "outputs": [
    {
     "name": "stdout",
     "output_type": "stream",
     "text": [
      "<class 'pandas.core.frame.DataFrame'>\n",
      "Int64Index: 1657 entries, 1 to 2355\n",
      "Data columns (total 32 columns):\n",
      " #   Column              Non-Null Count  Dtype              \n",
      "---  ------              --------------  -----              \n",
      " 0   tweet_id            1657 non-null   object             \n",
      " 1   timestamp           1657 non-null   datetime64[ns, UTC]\n",
      " 2   source              1657 non-null   object             \n",
      " 3   text                1657 non-null   object             \n",
      " 4   expanded_urls       1657 non-null   object             \n",
      " 5   rating_numerator    1657 non-null   object             \n",
      " 6   rating_denominator  1657 non-null   object             \n",
      " 7   name                1657 non-null   object             \n",
      " 8   doggo               1657 non-null   int64              \n",
      " 9   floofer             1657 non-null   int64              \n",
      " 10  pupper              1657 non-null   int64              \n",
      " 11  puppo               1657 non-null   int64              \n",
      " 12  number_categories   1657 non-null   int64              \n",
      " 13  rating              1657 non-null   object             \n",
      " 14  num                 1657 non-null   object             \n",
      " 15  denom               1657 non-null   object             \n",
      " 16  check_num           1657 non-null   bool               \n",
      " 17  check_denom         1657 non-null   bool               \n",
      " 18  count               1657 non-null   int64              \n",
      " 19  jpg_url             1657 non-null   object             \n",
      " 20  img_num             1657 non-null   int64              \n",
      " 21  p1                  1657 non-null   object             \n",
      " 22  p1_conf             1657 non-null   float64            \n",
      " 23  p1_dog              1657 non-null   object             \n",
      " 24  p2                  1657 non-null   object             \n",
      " 25  p2_conf             1657 non-null   float64            \n",
      " 26  p2_dog              1657 non-null   object             \n",
      " 27  p3                  1657 non-null   object             \n",
      " 28  p3_conf             1657 non-null   float64            \n",
      " 29  p3_dog              1657 non-null   object             \n",
      " 30  favorite_count      1657 non-null   int64              \n",
      " 31  retweet_count       1657 non-null   int64              \n",
      "dtypes: bool(2), datetime64[ns, UTC](1), float64(3), int64(9), object(17)\n",
      "memory usage: 404.5+ KB\n"
     ]
    }
   ],
   "source": [
    "df_master_clean.info()"
   ]
  },
  {
   "cell_type": "markdown",
   "id": "cbbb499a",
   "metadata": {},
   "source": [
    "**4. Clean the wrong numerators - the floats on the one hand, the ones with multiple occurence of the pattern on the other**"
   ]
  },
  {
   "cell_type": "markdown",
   "id": "bd82991a",
   "metadata": {},
   "source": [
    "While assessing the dataset, we found out, that floating numbers got transformed into integers, which lead to loss of information."
   ]
  },
  {
   "cell_type": "code",
   "execution_count": 81,
   "id": "e970e945",
   "metadata": {
    "scrolled": true
   },
   "outputs": [
    {
     "data": {
      "text/html": [
       "<div>\n",
       "<style scoped>\n",
       "    .dataframe tbody tr th:only-of-type {\n",
       "        vertical-align: middle;\n",
       "    }\n",
       "\n",
       "    .dataframe tbody tr th {\n",
       "        vertical-align: top;\n",
       "    }\n",
       "\n",
       "    .dataframe thead th {\n",
       "        text-align: right;\n",
       "    }\n",
       "</style>\n",
       "<table border=\"1\" class=\"dataframe\">\n",
       "  <thead>\n",
       "    <tr style=\"text-align: right;\">\n",
       "      <th></th>\n",
       "      <th>rating_numerator</th>\n",
       "      <th>num</th>\n",
       "      <th>check_num</th>\n",
       "    </tr>\n",
       "  </thead>\n",
       "  <tbody>\n",
       "    <tr>\n",
       "      <th>45</th>\n",
       "      <td>5</td>\n",
       "      <td>13.5</td>\n",
       "      <td>False</td>\n",
       "    </tr>\n",
       "    <tr>\n",
       "      <th>695</th>\n",
       "      <td>75</td>\n",
       "      <td>9.75</td>\n",
       "      <td>False</td>\n",
       "    </tr>\n",
       "    <tr>\n",
       "      <th>763</th>\n",
       "      <td>27</td>\n",
       "      <td>11.27</td>\n",
       "      <td>False</td>\n",
       "    </tr>\n",
       "    <tr>\n",
       "      <th>1712</th>\n",
       "      <td>26</td>\n",
       "      <td>11.26</td>\n",
       "      <td>False</td>\n",
       "    </tr>\n",
       "  </tbody>\n",
       "</table>\n",
       "</div>"
      ],
      "text/plain": [
       "     rating_numerator    num  check_num\n",
       "45                  5   13.5      False\n",
       "695                75   9.75      False\n",
       "763                27  11.27      False\n",
       "1712               26  11.26      False"
      ]
     },
     "execution_count": 81,
     "metadata": {},
     "output_type": "execute_result"
    }
   ],
   "source": [
    "df_master_clean.query(\"check_num == False\")[[\"rating_numerator\", \"num\",\"check_num\"]]"
   ]
  },
  {
   "cell_type": "markdown",
   "id": "7ad12731",
   "metadata": {},
   "source": [
    "We dropped a lot of rows, so we cannot be sure that all of these problems are still in this dataset, so we will extract it again."
   ]
  },
  {
   "cell_type": "code",
   "execution_count": 82,
   "id": "5d6e439b",
   "metadata": {},
   "outputs": [
    {
     "data": {
      "text/plain": [
       "45       13.5/10\n",
       "695      9.75/10\n",
       "763     11.27/10\n",
       "1712    11.26/10\n",
       "Name: 0, dtype: object"
      ]
     },
     "execution_count": 82,
     "metadata": {},
     "output_type": "execute_result"
    }
   ],
   "source": [
    "pattern = \"(\\d+\\.\\d+\\/\\d+)\"\n",
    "\n",
    "df_master_clean.text.str.extract(pattern, expand = True)[0].dropna()"
   ]
  },
  {
   "cell_type": "code",
   "execution_count": 83,
   "id": "4a848ef7",
   "metadata": {},
   "outputs": [],
   "source": [
    "#get the right numerator out of the string\n",
    "df_num_clean = df_master_clean.text.str.extract(pattern, expand = True)[0].dropna().str.split('/', n=1, expand=True)[0]"
   ]
  },
  {
   "cell_type": "code",
   "execution_count": 84,
   "id": "ce91f0af",
   "metadata": {
    "scrolled": true
   },
   "outputs": [
    {
     "data": {
      "text/plain": [
       "45       13.5\n",
       "695      9.75\n",
       "763     11.27\n",
       "1712    11.26\n",
       "Name: 0, dtype: object"
      ]
     },
     "execution_count": 84,
     "metadata": {},
     "output_type": "execute_result"
    }
   ],
   "source": [
    "df_num_clean"
   ]
  },
  {
   "cell_type": "code",
   "execution_count": 85,
   "id": "a3bf7b46",
   "metadata": {},
   "outputs": [],
   "source": [
    "#get the index of the wrong data\n",
    "df_num_clean_index = df_num_clean.index\n",
    "df_num_clean_values = df_num_clean.values.astype(\"float64\")"
   ]
  },
  {
   "cell_type": "markdown",
   "id": "df2ee913",
   "metadata": {},
   "source": [
    "Now that we have our data together, we can impute these values and clean this data."
   ]
  },
  {
   "cell_type": "code",
   "execution_count": 86,
   "id": "e93d3b32",
   "metadata": {
    "scrolled": false
   },
   "outputs": [
    {
     "data": {
      "text/plain": [
       "45      13.50\n",
       "695      9.75\n",
       "763     11.27\n",
       "1712    11.26\n",
       "Name: rating_numerator, dtype: float64"
      ]
     },
     "execution_count": 86,
     "metadata": {},
     "output_type": "execute_result"
    }
   ],
   "source": [
    "#transform the datatypes to float\n",
    "df_master_clean.rating_numerator = df_master_clean.rating_numerator.astype(\"float64\")\n",
    "df_master_clean.rating_denominator = df_master_clean.rating_denominator.astype(\"float64\")\n",
    "#impute the data\n",
    "df_master_clean.loc[df_num_clean_index, \"rating_numerator\"] = df_num_clean_values\n",
    "df_master_clean.loc[df_num_clean_index].rating_numerator"
   ]
  },
  {
   "cell_type": "markdown",
   "id": "5e49ead4",
   "metadata": {},
   "source": [
    "We also have the problem, that there can be multiple occurrences of the pattern. The reason for this is - most of the time - the display of two or more dogs in an image. For this cases we could add the ratings up, because the author of the Twitter account did this in one case that we found. Or we could build the average rating per each picture. For now, we are going to drop them out of the dataframe."
   ]
  },
  {
   "cell_type": "code",
   "execution_count": 87,
   "id": "f473bf1e",
   "metadata": {
    "scrolled": true
   },
   "outputs": [
    {
     "name": "stdout",
     "output_type": "stream",
     "text": [
      "766     2\n",
      "1007    2\n",
      "1068    2\n",
      "1165    2\n",
      "1202    2\n",
      "1222    2\n",
      "1359    2\n",
      "1465    2\n",
      "1508    2\n",
      "1525    2\n",
      "1538    2\n",
      "1662    2\n",
      "1795    2\n",
      "1832    2\n",
      "1897    2\n",
      "1901    2\n",
      "1970    2\n",
      "2010    3\n",
      "2064    2\n",
      "2113    2\n",
      "2177    2\n",
      "2216    2\n",
      "2263    2\n",
      "2272    2\n",
      "2306    2\n",
      "2335    2\n",
      "Name: text, dtype: int64\n"
     ]
    }
   ],
   "source": [
    "pattern = \"(\\d+(\\.\\d+)?\\/\\d+(\\.\\d+)?)\"\n",
    "\n",
    "print(df_master_clean.text.str.count(pattern)[df_master_clean.text.str.count(pattern) != 1])\n",
    "\n",
    "#get the index of the rows which contains the pattern more than once\n",
    "pattern_clean_index = df_master_clean.text.str.count(pattern)[df_master_clean.text.str.count(pattern) != 1].index"
   ]
  },
  {
   "cell_type": "code",
   "execution_count": 88,
   "id": "130d5c04",
   "metadata": {
    "scrolled": true
   },
   "outputs": [
    {
     "name": "stdout",
     "output_type": "stream",
     "text": [
      "<class 'pandas.core.frame.DataFrame'>\n",
      "Int64Index: 1657 entries, 1 to 2355\n",
      "Data columns (total 32 columns):\n",
      " #   Column              Non-Null Count  Dtype              \n",
      "---  ------              --------------  -----              \n",
      " 0   tweet_id            1657 non-null   object             \n",
      " 1   timestamp           1657 non-null   datetime64[ns, UTC]\n",
      " 2   source              1657 non-null   object             \n",
      " 3   text                1657 non-null   object             \n",
      " 4   expanded_urls       1657 non-null   object             \n",
      " 5   rating_numerator    1657 non-null   float64            \n",
      " 6   rating_denominator  1657 non-null   float64            \n",
      " 7   name                1657 non-null   object             \n",
      " 8   doggo               1657 non-null   int64              \n",
      " 9   floofer             1657 non-null   int64              \n",
      " 10  pupper              1657 non-null   int64              \n",
      " 11  puppo               1657 non-null   int64              \n",
      " 12  number_categories   1657 non-null   int64              \n",
      " 13  rating              1657 non-null   object             \n",
      " 14  num                 1657 non-null   object             \n",
      " 15  denom               1657 non-null   object             \n",
      " 16  check_num           1657 non-null   bool               \n",
      " 17  check_denom         1657 non-null   bool               \n",
      " 18  count               1657 non-null   int64              \n",
      " 19  jpg_url             1657 non-null   object             \n",
      " 20  img_num             1657 non-null   int64              \n",
      " 21  p1                  1657 non-null   object             \n",
      " 22  p1_conf             1657 non-null   float64            \n",
      " 23  p1_dog              1657 non-null   object             \n",
      " 24  p2                  1657 non-null   object             \n",
      " 25  p2_conf             1657 non-null   float64            \n",
      " 26  p2_dog              1657 non-null   object             \n",
      " 27  p3                  1657 non-null   object             \n",
      " 28  p3_conf             1657 non-null   float64            \n",
      " 29  p3_dog              1657 non-null   object             \n",
      " 30  favorite_count      1657 non-null   int64              \n",
      " 31  retweet_count       1657 non-null   int64              \n",
      "dtypes: bool(2), datetime64[ns, UTC](1), float64(5), int64(9), object(15)\n",
      "memory usage: 469.1+ KB\n"
     ]
    }
   ],
   "source": [
    "df_master_clean.info()"
   ]
  },
  {
   "cell_type": "code",
   "execution_count": 89,
   "id": "d4595fd5",
   "metadata": {},
   "outputs": [
    {
     "name": "stdout",
     "output_type": "stream",
     "text": [
      "766     2\n",
      "1007    2\n",
      "1068    2\n",
      "1165    2\n",
      "1202    2\n",
      "1222    2\n",
      "1359    2\n",
      "1465    2\n",
      "1508    2\n",
      "1525    2\n",
      "1538    2\n",
      "1662    2\n",
      "1795    2\n",
      "1832    2\n",
      "1897    2\n",
      "1901    2\n",
      "1970    2\n",
      "2010    3\n",
      "2064    2\n",
      "2113    2\n",
      "2177    2\n",
      "2216    2\n",
      "2263    2\n",
      "2272    2\n",
      "2306    2\n",
      "2335    2\n",
      "Name: text, dtype: int64\n"
     ]
    }
   ],
   "source": [
    "#no more occurrences of the mentioned problem are left\n",
    "print(df_master_clean.text.str.count(pattern)[df_master_clean.text.str.count(pattern) != 1])"
   ]
  },
  {
   "cell_type": "markdown",
   "id": "c2409c39",
   "metadata": {},
   "source": [
    "**5. Extract the source from html code**"
   ]
  },
  {
   "cell_type": "markdown",
   "id": "2adf6439",
   "metadata": {},
   "source": [
    "Right now the source column is not giving us any useful information while looking at it. Because the relevant information is always between two \"> <\", the information will be easy to extract."
   ]
  },
  {
   "cell_type": "code",
   "execution_count": 90,
   "id": "6b249869",
   "metadata": {
    "scrolled": true
   },
   "outputs": [
    {
     "data": {
      "text/html": [
       "<div>\n",
       "<style scoped>\n",
       "    .dataframe tbody tr th:only-of-type {\n",
       "        vertical-align: middle;\n",
       "    }\n",
       "\n",
       "    .dataframe tbody tr th {\n",
       "        vertical-align: top;\n",
       "    }\n",
       "\n",
       "    .dataframe thead th {\n",
       "        text-align: right;\n",
       "    }\n",
       "</style>\n",
       "<table border=\"1\" class=\"dataframe\">\n",
       "  <thead>\n",
       "    <tr style=\"text-align: right;\">\n",
       "      <th></th>\n",
       "      <th>tweet_id</th>\n",
       "      <th>timestamp</th>\n",
       "      <th>source</th>\n",
       "      <th>text</th>\n",
       "      <th>expanded_urls</th>\n",
       "      <th>rating_numerator</th>\n",
       "      <th>rating_denominator</th>\n",
       "      <th>name</th>\n",
       "      <th>doggo</th>\n",
       "      <th>floofer</th>\n",
       "      <th>pupper</th>\n",
       "      <th>puppo</th>\n",
       "      <th>number_categories</th>\n",
       "      <th>rating</th>\n",
       "      <th>num</th>\n",
       "      <th>denom</th>\n",
       "      <th>check_num</th>\n",
       "      <th>check_denom</th>\n",
       "      <th>count</th>\n",
       "      <th>jpg_url</th>\n",
       "      <th>img_num</th>\n",
       "      <th>p1</th>\n",
       "      <th>p1_conf</th>\n",
       "      <th>p1_dog</th>\n",
       "      <th>p2</th>\n",
       "      <th>p2_conf</th>\n",
       "      <th>p2_dog</th>\n",
       "      <th>p3</th>\n",
       "      <th>p3_conf</th>\n",
       "      <th>p3_dog</th>\n",
       "      <th>favorite_count</th>\n",
       "      <th>retweet_count</th>\n",
       "    </tr>\n",
       "  </thead>\n",
       "  <tbody>\n",
       "    <tr>\n",
       "      <th>1</th>\n",
       "      <td>892177421306343426</td>\n",
       "      <td>2017-08-01 00:17:27+00:00</td>\n",
       "      <td>&lt;a href=\"http://twitter.com/download/iphone\" rel=\"nofollow\"&gt;Twitter for iPhone&lt;/a&gt;</td>\n",
       "      <td>This is Tilly. She's just checking pup on you. Hopes you're doing ok. If not, she's available for pats, snugs, boops, the whole bit. 13/10 https://t.co/0Xxu71qeIV</td>\n",
       "      <td>https://twitter.com/dog_rates/status/892177421306343426/photo/1</td>\n",
       "      <td>13.0</td>\n",
       "      <td>10.0</td>\n",
       "      <td>Tilly</td>\n",
       "      <td>0</td>\n",
       "      <td>0</td>\n",
       "      <td>0</td>\n",
       "      <td>0</td>\n",
       "      <td>0</td>\n",
       "      <td>13/10</td>\n",
       "      <td>13</td>\n",
       "      <td>10</td>\n",
       "      <td>True</td>\n",
       "      <td>True</td>\n",
       "      <td>1</td>\n",
       "      <td>https://pbs.twimg.com/media/DGGmoV4XsAAUL6n.jpg</td>\n",
       "      <td>1</td>\n",
       "      <td>Chihuahua</td>\n",
       "      <td>0.323581</td>\n",
       "      <td>True</td>\n",
       "      <td>Pekinese</td>\n",
       "      <td>0.090647</td>\n",
       "      <td>True</td>\n",
       "      <td>papillon</td>\n",
       "      <td>0.068957</td>\n",
       "      <td>True</td>\n",
       "      <td>29293</td>\n",
       "      <td>5293</td>\n",
       "    </tr>\n",
       "    <tr>\n",
       "      <th>2</th>\n",
       "      <td>891815181378084864</td>\n",
       "      <td>2017-07-31 00:18:03+00:00</td>\n",
       "      <td>&lt;a href=\"http://twitter.com/download/iphone\" rel=\"nofollow\"&gt;Twitter for iPhone&lt;/a&gt;</td>\n",
       "      <td>This is Archie. He is a rare Norwegian Pouncing Corgo. Lives in the tall grass. You never know when one may strike. 12/10 https://t.co/wUnZnhtVJB</td>\n",
       "      <td>https://twitter.com/dog_rates/status/891815181378084864/photo/1</td>\n",
       "      <td>12.0</td>\n",
       "      <td>10.0</td>\n",
       "      <td>Archie</td>\n",
       "      <td>0</td>\n",
       "      <td>0</td>\n",
       "      <td>0</td>\n",
       "      <td>0</td>\n",
       "      <td>0</td>\n",
       "      <td>12/10</td>\n",
       "      <td>12</td>\n",
       "      <td>10</td>\n",
       "      <td>True</td>\n",
       "      <td>True</td>\n",
       "      <td>1</td>\n",
       "      <td>https://pbs.twimg.com/media/DGBdLU1WsAANxJ9.jpg</td>\n",
       "      <td>1</td>\n",
       "      <td>Chihuahua</td>\n",
       "      <td>0.716012</td>\n",
       "      <td>True</td>\n",
       "      <td>malamute</td>\n",
       "      <td>0.078253</td>\n",
       "      <td>True</td>\n",
       "      <td>kelpie</td>\n",
       "      <td>0.031379</td>\n",
       "      <td>True</td>\n",
       "      <td>22031</td>\n",
       "      <td>3471</td>\n",
       "    </tr>\n",
       "  </tbody>\n",
       "</table>\n",
       "</div>"
      ],
      "text/plain": [
       "             tweet_id                 timestamp                                                                              source                                                                                                                                                                text                                                    expanded_urls  rating_numerator  rating_denominator    name  doggo  floofer  pupper  puppo  number_categories rating num denom  check_num  check_denom  count                                          jpg_url  img_num         p1   p1_conf p1_dog        p2   p2_conf p2_dog        p3   p3_conf p3_dog  favorite_count  retweet_count\n",
       "1  892177421306343426 2017-08-01 00:17:27+00:00  <a href=\"http://twitter.com/download/iphone\" rel=\"nofollow\">Twitter for iPhone</a>  This is Tilly. She's just checking pup on you. Hopes you're doing ok. If not, she's available for pats, snugs, boops, the whole bit. 13/10 https://t.co/0Xxu71qeIV  https://twitter.com/dog_rates/status/892177421306343426/photo/1              13.0                10.0   Tilly      0        0       0      0                  0  13/10  13    10       True         True      1  https://pbs.twimg.com/media/DGGmoV4XsAAUL6n.jpg        1  Chihuahua  0.323581   True  Pekinese  0.090647   True  papillon  0.068957   True           29293           5293\n",
       "2  891815181378084864 2017-07-31 00:18:03+00:00  <a href=\"http://twitter.com/download/iphone\" rel=\"nofollow\">Twitter for iPhone</a>                   This is Archie. He is a rare Norwegian Pouncing Corgo. Lives in the tall grass. You never know when one may strike. 12/10 https://t.co/wUnZnhtVJB  https://twitter.com/dog_rates/status/891815181378084864/photo/1              12.0                10.0  Archie      0        0       0      0                  0  12/10  12    10       True         True      1  https://pbs.twimg.com/media/DGBdLU1WsAANxJ9.jpg        1  Chihuahua  0.716012   True  malamute  0.078253   True    kelpie  0.031379   True           22031           3471"
      ]
     },
     "execution_count": 90,
     "metadata": {},
     "output_type": "execute_result"
    }
   ],
   "source": [
    "df_master_clean.head(2)"
   ]
  },
  {
   "cell_type": "code",
   "execution_count": 91,
   "id": "46f2ce53",
   "metadata": {},
   "outputs": [],
   "source": [
    "#https://stackoverflow.com/questions/3075130/what-is-the-difference-between-and-regular-expressions\n",
    "df_master_clean.source = df_master_clean.source.str.extract(\"\\>(.*?)\\<\", expand = True)"
   ]
  },
  {
   "cell_type": "code",
   "execution_count": 92,
   "id": "51725ba1",
   "metadata": {},
   "outputs": [
    {
     "data": {
      "text/html": [
       "<div>\n",
       "<style scoped>\n",
       "    .dataframe tbody tr th:only-of-type {\n",
       "        vertical-align: middle;\n",
       "    }\n",
       "\n",
       "    .dataframe tbody tr th {\n",
       "        vertical-align: top;\n",
       "    }\n",
       "\n",
       "    .dataframe thead th {\n",
       "        text-align: right;\n",
       "    }\n",
       "</style>\n",
       "<table border=\"1\" class=\"dataframe\">\n",
       "  <thead>\n",
       "    <tr style=\"text-align: right;\">\n",
       "      <th></th>\n",
       "      <th>tweet_id</th>\n",
       "      <th>timestamp</th>\n",
       "      <th>source</th>\n",
       "    </tr>\n",
       "  </thead>\n",
       "  <tbody>\n",
       "    <tr>\n",
       "      <th>1</th>\n",
       "      <td>892177421306343426</td>\n",
       "      <td>2017-08-01 00:17:27+00:00</td>\n",
       "      <td>Twitter for iPhone</td>\n",
       "    </tr>\n",
       "    <tr>\n",
       "      <th>2</th>\n",
       "      <td>891815181378084864</td>\n",
       "      <td>2017-07-31 00:18:03+00:00</td>\n",
       "      <td>Twitter for iPhone</td>\n",
       "    </tr>\n",
       "  </tbody>\n",
       "</table>\n",
       "</div>"
      ],
      "text/plain": [
       "             tweet_id                 timestamp              source\n",
       "1  892177421306343426 2017-08-01 00:17:27+00:00  Twitter for iPhone\n",
       "2  891815181378084864 2017-07-31 00:18:03+00:00  Twitter for iPhone"
      ]
     },
     "execution_count": 92,
     "metadata": {},
     "output_type": "execute_result"
    }
   ],
   "source": [
    "df_master_clean.iloc[:,:3].head(2)"
   ]
  },
  {
   "cell_type": "code",
   "execution_count": 93,
   "id": "eba32290",
   "metadata": {
    "scrolled": true
   },
   "outputs": [
    {
     "data": {
      "text/plain": [
       "Twitter for iPhone    1627\n",
       "Twitter Web Client      22\n",
       "TweetDeck                8\n",
       "Name: source, dtype: int64"
      ]
     },
     "execution_count": 93,
     "metadata": {},
     "output_type": "execute_result"
    }
   ],
   "source": [
    "df_master_clean.source.value_counts()"
   ]
  },
  {
   "cell_type": "markdown",
   "id": "561629ba",
   "metadata": {},
   "source": [
    "**7. Remove the \"None\" out of the doggo, floofer, pupper and puppo column and merge them into one column**"
   ]
  },
  {
   "cell_type": "markdown",
   "id": "418713ad",
   "metadata": {},
   "source": [
    "We want to reduce the columns into one for an easier analysis. For that we have to remove the None with \"\" at first to concat the columns together and afterswards with np.nan, so we could easily exclude these rows from a specific analysis."
   ]
  },
  {
   "cell_type": "code",
   "execution_count": 94,
   "id": "f6a42178",
   "metadata": {
    "scrolled": true
   },
   "outputs": [],
   "source": [
    "# read dog types from text column\n",
    "for index, column in df_master_clean.iterrows():\n",
    "    for word in ['puppo', 'pupper', 'doggo', 'floofer']:\n",
    "        if word.lower() in str(df_master_clean.loc[index, 'text']).lower():\n",
    "            df_master_clean.loc[index, 'dog_type'] = word.title()\n",
    "            \n",
    "# drop old columns\n",
    "df_master_clean.drop(['puppo',\n",
    "                       'pupper',\n",
    "                       'doggo',\n",
    "                       'floofer'],\n",
    "                      axis=1, inplace=True)\n",
    "                         "
   ]
  },
  {
   "cell_type": "code",
   "execution_count": 95,
   "id": "1f7d6f81",
   "metadata": {
    "scrolled": false
   },
   "outputs": [
    {
     "data": {
      "text/plain": [
       "Pupper     184\n",
       "Doggo       65\n",
       "Puppo       25\n",
       "Floofer      8\n",
       "Name: dog_type, dtype: int64"
      ]
     },
     "execution_count": 95,
     "metadata": {},
     "output_type": "execute_result"
    }
   ],
   "source": [
    "df_master_clean.dog_type.value_counts()"
   ]
  },
  {
   "cell_type": "markdown",
   "id": "f1d86e0f",
   "metadata": {},
   "source": [
    "**8. Remove the wrong names of name column**"
   ]
  },
  {
   "cell_type": "markdown",
   "id": "1c3832ef",
   "metadata": {},
   "source": [
    "Here we will also replace the wrong names with np.nan."
   ]
  },
  {
   "cell_type": "code",
   "execution_count": 96,
   "id": "a9a10478",
   "metadata": {},
   "outputs": [],
   "source": [
    "for x in [\"None\", \"a\", \"by\", \"the\"]:\n",
    "    df_master_clean[\"name\"].replace(x, np.nan, inplace = True)"
   ]
  },
  {
   "cell_type": "code",
   "execution_count": 97,
   "id": "f79822a8",
   "metadata": {
    "scrolled": true
   },
   "outputs": [
    {
     "data": {
      "text/plain": [
       "Cooper        9\n",
       "Charlie       9\n",
       "Tucker        9\n",
       "Oliver        9\n",
       "Lucy          9\n",
       "             ..\n",
       "Philbert      1\n",
       "Rupert        1\n",
       "Brudge        1\n",
       "Shadoe        1\n",
       "Christoper    1\n",
       "Name: name, Length: 846, dtype: int64"
      ]
     },
     "execution_count": 97,
     "metadata": {},
     "output_type": "execute_result"
    }
   ],
   "source": [
    "df_master_clean.name.value_counts()"
   ]
  },
  {
   "cell_type": "code",
   "execution_count": 98,
   "id": "6c19dcc2",
   "metadata": {
    "scrolled": false
   },
   "outputs": [
    {
     "data": {
      "text/html": [
       "<div>\n",
       "<style scoped>\n",
       "    .dataframe tbody tr th:only-of-type {\n",
       "        vertical-align: middle;\n",
       "    }\n",
       "\n",
       "    .dataframe tbody tr th {\n",
       "        vertical-align: top;\n",
       "    }\n",
       "\n",
       "    .dataframe thead th {\n",
       "        text-align: right;\n",
       "    }\n",
       "</style>\n",
       "<table border=\"1\" class=\"dataframe\">\n",
       "  <thead>\n",
       "    <tr style=\"text-align: right;\">\n",
       "      <th></th>\n",
       "      <th>tweet_id</th>\n",
       "      <th>timestamp</th>\n",
       "      <th>source</th>\n",
       "      <th>text</th>\n",
       "      <th>expanded_urls</th>\n",
       "      <th>rating_numerator</th>\n",
       "      <th>rating_denominator</th>\n",
       "      <th>name</th>\n",
       "      <th>number_categories</th>\n",
       "      <th>rating</th>\n",
       "      <th>num</th>\n",
       "      <th>denom</th>\n",
       "      <th>check_num</th>\n",
       "      <th>check_denom</th>\n",
       "      <th>count</th>\n",
       "      <th>jpg_url</th>\n",
       "      <th>img_num</th>\n",
       "      <th>p1</th>\n",
       "      <th>p1_conf</th>\n",
       "      <th>p1_dog</th>\n",
       "      <th>p2</th>\n",
       "      <th>p2_conf</th>\n",
       "      <th>p2_dog</th>\n",
       "      <th>p3</th>\n",
       "      <th>p3_conf</th>\n",
       "      <th>p3_dog</th>\n",
       "      <th>favorite_count</th>\n",
       "      <th>retweet_count</th>\n",
       "      <th>dog_type</th>\n",
       "    </tr>\n",
       "  </thead>\n",
       "  <tbody>\n",
       "    <tr>\n",
       "      <th>1</th>\n",
       "      <td>892177421306343426</td>\n",
       "      <td>2017-08-01 00:17:27+00:00</td>\n",
       "      <td>Twitter for iPhone</td>\n",
       "      <td>This is Tilly. She's just checking pup on you. Hopes you're doing ok. If not, she's available for pats, snugs, boops, the whole bit. 13/10 https://t.co/0Xxu71qeIV</td>\n",
       "      <td>https://twitter.com/dog_rates/status/892177421306343426/photo/1</td>\n",
       "      <td>13.0</td>\n",
       "      <td>10.0</td>\n",
       "      <td>Tilly</td>\n",
       "      <td>0</td>\n",
       "      <td>13/10</td>\n",
       "      <td>13</td>\n",
       "      <td>10</td>\n",
       "      <td>True</td>\n",
       "      <td>True</td>\n",
       "      <td>1</td>\n",
       "      <td>https://pbs.twimg.com/media/DGGmoV4XsAAUL6n.jpg</td>\n",
       "      <td>1</td>\n",
       "      <td>Chihuahua</td>\n",
       "      <td>0.323581</td>\n",
       "      <td>True</td>\n",
       "      <td>Pekinese</td>\n",
       "      <td>0.090647</td>\n",
       "      <td>True</td>\n",
       "      <td>papillon</td>\n",
       "      <td>0.068957</td>\n",
       "      <td>True</td>\n",
       "      <td>29293</td>\n",
       "      <td>5293</td>\n",
       "      <td>NaN</td>\n",
       "    </tr>\n",
       "    <tr>\n",
       "      <th>2</th>\n",
       "      <td>891815181378084864</td>\n",
       "      <td>2017-07-31 00:18:03+00:00</td>\n",
       "      <td>Twitter for iPhone</td>\n",
       "      <td>This is Archie. He is a rare Norwegian Pouncing Corgo. Lives in the tall grass. You never know when one may strike. 12/10 https://t.co/wUnZnhtVJB</td>\n",
       "      <td>https://twitter.com/dog_rates/status/891815181378084864/photo/1</td>\n",
       "      <td>12.0</td>\n",
       "      <td>10.0</td>\n",
       "      <td>Archie</td>\n",
       "      <td>0</td>\n",
       "      <td>12/10</td>\n",
       "      <td>12</td>\n",
       "      <td>10</td>\n",
       "      <td>True</td>\n",
       "      <td>True</td>\n",
       "      <td>1</td>\n",
       "      <td>https://pbs.twimg.com/media/DGBdLU1WsAANxJ9.jpg</td>\n",
       "      <td>1</td>\n",
       "      <td>Chihuahua</td>\n",
       "      <td>0.716012</td>\n",
       "      <td>True</td>\n",
       "      <td>malamute</td>\n",
       "      <td>0.078253</td>\n",
       "      <td>True</td>\n",
       "      <td>kelpie</td>\n",
       "      <td>0.031379</td>\n",
       "      <td>True</td>\n",
       "      <td>22031</td>\n",
       "      <td>3471</td>\n",
       "      <td>NaN</td>\n",
       "    </tr>\n",
       "  </tbody>\n",
       "</table>\n",
       "</div>"
      ],
      "text/plain": [
       "             tweet_id                 timestamp              source                                                                                                                                                                text                                                    expanded_urls  rating_numerator  rating_denominator    name  number_categories rating num denom  check_num  check_denom  count                                          jpg_url  img_num         p1   p1_conf p1_dog        p2   p2_conf p2_dog        p3   p3_conf p3_dog  favorite_count  retweet_count dog_type\n",
       "1  892177421306343426 2017-08-01 00:17:27+00:00  Twitter for iPhone  This is Tilly. She's just checking pup on you. Hopes you're doing ok. If not, she's available for pats, snugs, boops, the whole bit. 13/10 https://t.co/0Xxu71qeIV  https://twitter.com/dog_rates/status/892177421306343426/photo/1              13.0                10.0   Tilly                  0  13/10  13    10       True         True      1  https://pbs.twimg.com/media/DGGmoV4XsAAUL6n.jpg        1  Chihuahua  0.323581   True  Pekinese  0.090647   True  papillon  0.068957   True           29293           5293      NaN\n",
       "2  891815181378084864 2017-07-31 00:18:03+00:00  Twitter for iPhone                   This is Archie. He is a rare Norwegian Pouncing Corgo. Lives in the tall grass. You never know when one may strike. 12/10 https://t.co/wUnZnhtVJB  https://twitter.com/dog_rates/status/891815181378084864/photo/1              12.0                10.0  Archie                  0  12/10  12    10       True         True      1  https://pbs.twimg.com/media/DGBdLU1WsAANxJ9.jpg        1  Chihuahua  0.716012   True  malamute  0.078253   True    kelpie  0.031379   True           22031           3471      NaN"
      ]
     },
     "execution_count": 98,
     "metadata": {},
     "output_type": "execute_result"
    }
   ],
   "source": [
    "df_master_clean.head(2)"
   ]
  },
  {
   "cell_type": "markdown",
   "id": "3cb76778",
   "metadata": {},
   "source": [
    "**9. Reduce the prediction columns into two - breed and conf**"
   ]
  },
  {
   "cell_type": "markdown",
   "id": "fca0b7eb",
   "metadata": {},
   "source": [
    "In the next step we want to reduce the prediction columns into two - breed and confidence. The columns are already sorted by confidence. We will take the most likely prediction for each row which is supposed to be a dog."
   ]
  },
  {
   "cell_type": "code",
   "execution_count": 99,
   "id": "b20a2e5a",
   "metadata": {
    "scrolled": true
   },
   "outputs": [
    {
     "data": {
      "text/html": [
       "<div>\n",
       "<style scoped>\n",
       "    .dataframe tbody tr th:only-of-type {\n",
       "        vertical-align: middle;\n",
       "    }\n",
       "\n",
       "    .dataframe tbody tr th {\n",
       "        vertical-align: top;\n",
       "    }\n",
       "\n",
       "    .dataframe thead th {\n",
       "        text-align: right;\n",
       "    }\n",
       "</style>\n",
       "<table border=\"1\" class=\"dataframe\">\n",
       "  <thead>\n",
       "    <tr style=\"text-align: right;\">\n",
       "      <th></th>\n",
       "      <th>tweet_id</th>\n",
       "      <th>timestamp</th>\n",
       "      <th>source</th>\n",
       "      <th>text</th>\n",
       "      <th>expanded_urls</th>\n",
       "      <th>rating_numerator</th>\n",
       "      <th>rating_denominator</th>\n",
       "      <th>name</th>\n",
       "      <th>number_categories</th>\n",
       "      <th>rating</th>\n",
       "      <th>num</th>\n",
       "      <th>denom</th>\n",
       "      <th>check_num</th>\n",
       "      <th>check_denom</th>\n",
       "      <th>count</th>\n",
       "      <th>jpg_url</th>\n",
       "      <th>img_num</th>\n",
       "      <th>p1</th>\n",
       "      <th>p1_conf</th>\n",
       "      <th>p1_dog</th>\n",
       "      <th>p2</th>\n",
       "      <th>p2_conf</th>\n",
       "      <th>p2_dog</th>\n",
       "      <th>p3</th>\n",
       "      <th>p3_conf</th>\n",
       "      <th>p3_dog</th>\n",
       "      <th>favorite_count</th>\n",
       "      <th>retweet_count</th>\n",
       "      <th>dog_type</th>\n",
       "    </tr>\n",
       "  </thead>\n",
       "  <tbody>\n",
       "  </tbody>\n",
       "</table>\n",
       "</div>"
      ],
      "text/plain": [
       "Empty DataFrame\n",
       "Columns: [tweet_id, timestamp, source, text, expanded_urls, rating_numerator, rating_denominator, name, number_categories, rating, num, denom, check_num, check_denom, count, jpg_url, img_num, p1, p1_conf, p1_dog, p2, p2_conf, p2_dog, p3, p3_conf, p3_dog, favorite_count, retweet_count, dog_type]\n",
       "Index: []"
      ]
     },
     "execution_count": 99,
     "metadata": {},
     "output_type": "execute_result"
    }
   ],
   "source": [
    "df_master_clean.query(\"p2_conf > p1_conf\")"
   ]
  },
  {
   "cell_type": "code",
   "execution_count": 100,
   "id": "51c9bd4d",
   "metadata": {
    "scrolled": true
   },
   "outputs": [
    {
     "data": {
      "text/html": [
       "<div>\n",
       "<style scoped>\n",
       "    .dataframe tbody tr th:only-of-type {\n",
       "        vertical-align: middle;\n",
       "    }\n",
       "\n",
       "    .dataframe tbody tr th {\n",
       "        vertical-align: top;\n",
       "    }\n",
       "\n",
       "    .dataframe thead th {\n",
       "        text-align: right;\n",
       "    }\n",
       "</style>\n",
       "<table border=\"1\" class=\"dataframe\">\n",
       "  <thead>\n",
       "    <tr style=\"text-align: right;\">\n",
       "      <th></th>\n",
       "      <th>tweet_id</th>\n",
       "      <th>timestamp</th>\n",
       "      <th>source</th>\n",
       "      <th>text</th>\n",
       "      <th>expanded_urls</th>\n",
       "      <th>rating_numerator</th>\n",
       "      <th>rating_denominator</th>\n",
       "      <th>name</th>\n",
       "      <th>number_categories</th>\n",
       "      <th>rating</th>\n",
       "      <th>num</th>\n",
       "      <th>denom</th>\n",
       "      <th>check_num</th>\n",
       "      <th>check_denom</th>\n",
       "      <th>count</th>\n",
       "      <th>jpg_url</th>\n",
       "      <th>img_num</th>\n",
       "      <th>p1</th>\n",
       "      <th>p1_conf</th>\n",
       "      <th>p1_dog</th>\n",
       "      <th>p2</th>\n",
       "      <th>p2_conf</th>\n",
       "      <th>p2_dog</th>\n",
       "      <th>p3</th>\n",
       "      <th>p3_conf</th>\n",
       "      <th>p3_dog</th>\n",
       "      <th>favorite_count</th>\n",
       "      <th>retweet_count</th>\n",
       "      <th>dog_type</th>\n",
       "    </tr>\n",
       "  </thead>\n",
       "  <tbody>\n",
       "  </tbody>\n",
       "</table>\n",
       "</div>"
      ],
      "text/plain": [
       "Empty DataFrame\n",
       "Columns: [tweet_id, timestamp, source, text, expanded_urls, rating_numerator, rating_denominator, name, number_categories, rating, num, denom, check_num, check_denom, count, jpg_url, img_num, p1, p1_conf, p1_dog, p2, p2_conf, p2_dog, p3, p3_conf, p3_dog, favorite_count, retweet_count, dog_type]\n",
       "Index: []"
      ]
     },
     "execution_count": 100,
     "metadata": {},
     "output_type": "execute_result"
    }
   ],
   "source": [
    "df_master_clean.query(\"p3_conf > p1_conf\")"
   ]
  },
  {
   "cell_type": "code",
   "execution_count": 101,
   "id": "49e5f1f0",
   "metadata": {
    "scrolled": true
   },
   "outputs": [
    {
     "data": {
      "text/html": [
       "<div>\n",
       "<style scoped>\n",
       "    .dataframe tbody tr th:only-of-type {\n",
       "        vertical-align: middle;\n",
       "    }\n",
       "\n",
       "    .dataframe tbody tr th {\n",
       "        vertical-align: top;\n",
       "    }\n",
       "\n",
       "    .dataframe thead th {\n",
       "        text-align: right;\n",
       "    }\n",
       "</style>\n",
       "<table border=\"1\" class=\"dataframe\">\n",
       "  <thead>\n",
       "    <tr style=\"text-align: right;\">\n",
       "      <th></th>\n",
       "      <th>tweet_id</th>\n",
       "      <th>timestamp</th>\n",
       "      <th>source</th>\n",
       "      <th>text</th>\n",
       "      <th>expanded_urls</th>\n",
       "      <th>rating_numerator</th>\n",
       "      <th>rating_denominator</th>\n",
       "      <th>name</th>\n",
       "      <th>number_categories</th>\n",
       "      <th>rating</th>\n",
       "      <th>num</th>\n",
       "      <th>denom</th>\n",
       "      <th>check_num</th>\n",
       "      <th>check_denom</th>\n",
       "      <th>count</th>\n",
       "      <th>jpg_url</th>\n",
       "      <th>img_num</th>\n",
       "      <th>p1</th>\n",
       "      <th>p1_conf</th>\n",
       "      <th>p1_dog</th>\n",
       "      <th>p2</th>\n",
       "      <th>p2_conf</th>\n",
       "      <th>p2_dog</th>\n",
       "      <th>p3</th>\n",
       "      <th>p3_conf</th>\n",
       "      <th>p3_dog</th>\n",
       "      <th>favorite_count</th>\n",
       "      <th>retweet_count</th>\n",
       "      <th>dog_type</th>\n",
       "    </tr>\n",
       "  </thead>\n",
       "  <tbody>\n",
       "  </tbody>\n",
       "</table>\n",
       "</div>"
      ],
      "text/plain": [
       "Empty DataFrame\n",
       "Columns: [tweet_id, timestamp, source, text, expanded_urls, rating_numerator, rating_denominator, name, number_categories, rating, num, denom, check_num, check_denom, count, jpg_url, img_num, p1, p1_conf, p1_dog, p2, p2_conf, p2_dog, p3, p3_conf, p3_dog, favorite_count, retweet_count, dog_type]\n",
       "Index: []"
      ]
     },
     "execution_count": 101,
     "metadata": {},
     "output_type": "execute_result"
    }
   ],
   "source": [
    "df_master_clean.query(\"p3_conf > p2_conf\")"
   ]
  },
  {
   "cell_type": "markdown",
   "id": "c370d00c",
   "metadata": {},
   "source": [
    "The order is correct."
   ]
  },
  {
   "cell_type": "code",
   "execution_count": 102,
   "id": "c83e6040",
   "metadata": {},
   "outputs": [],
   "source": [
    "#extract the most likely prediction which is a dog\n",
    "def get_attr(x):\n",
    "    \"\"\"\n",
    "    INPUT: \n",
    "        Columns in this order: Check1, Result1, Check2, Result2, Result3\n",
    "    OUTPUT:\n",
    "        Results based on the check in this columns\n",
    "    \"\"\"\n",
    "    if x[0] == True:\n",
    "        return x[1]\n",
    "    elif x[2] == True:\n",
    "        return x[3]\n",
    "    else:\n",
    "        return x[4]\n",
    "    \n",
    "df_master_clean[\"breed\"] = df_master_clean[[\"p1_dog\", \"p1\", \"p2_dog\", \"p2\", \"p3\"]].apply(get_attr, axis = 1)\n",
    "df_master_clean[\"conf\"] = df_master_clean[[\"p1_dog\", \"p1_conf\", \"p2_dog\", \"p2_conf\", \"p3_conf\"]].apply(get_attr, axis = 1)"
   ]
  },
  {
   "cell_type": "code",
   "execution_count": 103,
   "id": "6ae1c318",
   "metadata": {
    "scrolled": true
   },
   "outputs": [
    {
     "data": {
      "text/html": [
       "<div>\n",
       "<style scoped>\n",
       "    .dataframe tbody tr th:only-of-type {\n",
       "        vertical-align: middle;\n",
       "    }\n",
       "\n",
       "    .dataframe tbody tr th {\n",
       "        vertical-align: top;\n",
       "    }\n",
       "\n",
       "    .dataframe thead th {\n",
       "        text-align: right;\n",
       "    }\n",
       "</style>\n",
       "<table border=\"1\" class=\"dataframe\">\n",
       "  <thead>\n",
       "    <tr style=\"text-align: right;\">\n",
       "      <th></th>\n",
       "      <th>check_num</th>\n",
       "      <th>check_denom</th>\n",
       "      <th>count</th>\n",
       "      <th>jpg_url</th>\n",
       "      <th>img_num</th>\n",
       "      <th>p1</th>\n",
       "      <th>p1_conf</th>\n",
       "      <th>p1_dog</th>\n",
       "      <th>p2</th>\n",
       "      <th>p2_conf</th>\n",
       "      <th>p2_dog</th>\n",
       "      <th>p3</th>\n",
       "      <th>p3_conf</th>\n",
       "      <th>p3_dog</th>\n",
       "      <th>favorite_count</th>\n",
       "      <th>retweet_count</th>\n",
       "      <th>dog_type</th>\n",
       "      <th>breed</th>\n",
       "      <th>conf</th>\n",
       "    </tr>\n",
       "  </thead>\n",
       "  <tbody>\n",
       "    <tr>\n",
       "      <th>1</th>\n",
       "      <td>True</td>\n",
       "      <td>True</td>\n",
       "      <td>1</td>\n",
       "      <td>https://pbs.twimg.com/media/DGGmoV4XsAAUL6n.jpg</td>\n",
       "      <td>1</td>\n",
       "      <td>Chihuahua</td>\n",
       "      <td>0.323581</td>\n",
       "      <td>True</td>\n",
       "      <td>Pekinese</td>\n",
       "      <td>0.090647</td>\n",
       "      <td>True</td>\n",
       "      <td>papillon</td>\n",
       "      <td>0.068957</td>\n",
       "      <td>True</td>\n",
       "      <td>29293</td>\n",
       "      <td>5293</td>\n",
       "      <td>NaN</td>\n",
       "      <td>Chihuahua</td>\n",
       "      <td>0.323581</td>\n",
       "    </tr>\n",
       "    <tr>\n",
       "      <th>2</th>\n",
       "      <td>True</td>\n",
       "      <td>True</td>\n",
       "      <td>1</td>\n",
       "      <td>https://pbs.twimg.com/media/DGBdLU1WsAANxJ9.jpg</td>\n",
       "      <td>1</td>\n",
       "      <td>Chihuahua</td>\n",
       "      <td>0.716012</td>\n",
       "      <td>True</td>\n",
       "      <td>malamute</td>\n",
       "      <td>0.078253</td>\n",
       "      <td>True</td>\n",
       "      <td>kelpie</td>\n",
       "      <td>0.031379</td>\n",
       "      <td>True</td>\n",
       "      <td>22031</td>\n",
       "      <td>3471</td>\n",
       "      <td>NaN</td>\n",
       "      <td>Chihuahua</td>\n",
       "      <td>0.716012</td>\n",
       "    </tr>\n",
       "    <tr>\n",
       "      <th>3</th>\n",
       "      <td>True</td>\n",
       "      <td>True</td>\n",
       "      <td>1</td>\n",
       "      <td>https://pbs.twimg.com/media/DF_q7IAWsAEuuN8.jpg</td>\n",
       "      <td>1</td>\n",
       "      <td>paper_towel</td>\n",
       "      <td>0.170278</td>\n",
       "      <td>False</td>\n",
       "      <td>Labrador_retriever</td>\n",
       "      <td>0.168086</td>\n",
       "      <td>True</td>\n",
       "      <td>spatula</td>\n",
       "      <td>0.040836</td>\n",
       "      <td>False</td>\n",
       "      <td>36888</td>\n",
       "      <td>7216</td>\n",
       "      <td>NaN</td>\n",
       "      <td>Labrador_retriever</td>\n",
       "      <td>0.168086</td>\n",
       "    </tr>\n",
       "    <tr>\n",
       "      <th>4</th>\n",
       "      <td>True</td>\n",
       "      <td>True</td>\n",
       "      <td>1</td>\n",
       "      <td>https://pbs.twimg.com/media/DF6hr6BUMAAzZgT.jpg</td>\n",
       "      <td>2</td>\n",
       "      <td>basset</td>\n",
       "      <td>0.555712</td>\n",
       "      <td>True</td>\n",
       "      <td>English_springer</td>\n",
       "      <td>0.225770</td>\n",
       "      <td>True</td>\n",
       "      <td>German_short-haired_pointer</td>\n",
       "      <td>0.175219</td>\n",
       "      <td>True</td>\n",
       "      <td>35273</td>\n",
       "      <td>7743</td>\n",
       "      <td>NaN</td>\n",
       "      <td>basset</td>\n",
       "      <td>0.555712</td>\n",
       "    </tr>\n",
       "    <tr>\n",
       "      <th>5</th>\n",
       "      <td>True</td>\n",
       "      <td>True</td>\n",
       "      <td>1</td>\n",
       "      <td>https://pbs.twimg.com/media/DF3HwyEWsAABqE6.jpg</td>\n",
       "      <td>1</td>\n",
       "      <td>Chesapeake_Bay_retriever</td>\n",
       "      <td>0.425595</td>\n",
       "      <td>True</td>\n",
       "      <td>Irish_terrier</td>\n",
       "      <td>0.116317</td>\n",
       "      <td>True</td>\n",
       "      <td>Indian_elephant</td>\n",
       "      <td>0.076902</td>\n",
       "      <td>False</td>\n",
       "      <td>17787</td>\n",
       "      <td>2595</td>\n",
       "      <td>NaN</td>\n",
       "      <td>Chesapeake_Bay_retriever</td>\n",
       "      <td>0.425595</td>\n",
       "    </tr>\n",
       "    <tr>\n",
       "      <th>...</th>\n",
       "      <td>...</td>\n",
       "      <td>...</td>\n",
       "      <td>...</td>\n",
       "      <td>...</td>\n",
       "      <td>...</td>\n",
       "      <td>...</td>\n",
       "      <td>...</td>\n",
       "      <td>...</td>\n",
       "      <td>...</td>\n",
       "      <td>...</td>\n",
       "      <td>...</td>\n",
       "      <td>...</td>\n",
       "      <td>...</td>\n",
       "      <td>...</td>\n",
       "      <td>...</td>\n",
       "      <td>...</td>\n",
       "      <td>...</td>\n",
       "      <td>...</td>\n",
       "      <td>...</td>\n",
       "    </tr>\n",
       "    <tr>\n",
       "      <th>2351</th>\n",
       "      <td>True</td>\n",
       "      <td>True</td>\n",
       "      <td>1</td>\n",
       "      <td>https://pbs.twimg.com/media/CT5IQmsXIAAKY4A.jpg</td>\n",
       "      <td>1</td>\n",
       "      <td>miniature_pinscher</td>\n",
       "      <td>0.560311</td>\n",
       "      <td>True</td>\n",
       "      <td>Rottweiler</td>\n",
       "      <td>0.243682</td>\n",
       "      <td>True</td>\n",
       "      <td>Doberman</td>\n",
       "      <td>0.154629</td>\n",
       "      <td>True</td>\n",
       "      <td>88</td>\n",
       "      <td>36</td>\n",
       "      <td>NaN</td>\n",
       "      <td>miniature_pinscher</td>\n",
       "      <td>0.560311</td>\n",
       "    </tr>\n",
       "    <tr>\n",
       "      <th>2352</th>\n",
       "      <td>True</td>\n",
       "      <td>True</td>\n",
       "      <td>1</td>\n",
       "      <td>https://pbs.twimg.com/media/CT5Dr8HUEAA-lEu.jpg</td>\n",
       "      <td>1</td>\n",
       "      <td>Rhodesian_ridgeback</td>\n",
       "      <td>0.408143</td>\n",
       "      <td>True</td>\n",
       "      <td>redbone</td>\n",
       "      <td>0.360687</td>\n",
       "      <td>True</td>\n",
       "      <td>miniature_pinscher</td>\n",
       "      <td>0.222752</td>\n",
       "      <td>True</td>\n",
       "      <td>247</td>\n",
       "      <td>115</td>\n",
       "      <td>NaN</td>\n",
       "      <td>Rhodesian_ridgeback</td>\n",
       "      <td>0.408143</td>\n",
       "    </tr>\n",
       "    <tr>\n",
       "      <th>2353</th>\n",
       "      <td>True</td>\n",
       "      <td>True</td>\n",
       "      <td>1</td>\n",
       "      <td>https://pbs.twimg.com/media/CT4521TWwAEvMyu.jpg</td>\n",
       "      <td>1</td>\n",
       "      <td>German_shepherd</td>\n",
       "      <td>0.596461</td>\n",
       "      <td>True</td>\n",
       "      <td>malinois</td>\n",
       "      <td>0.138584</td>\n",
       "      <td>True</td>\n",
       "      <td>bloodhound</td>\n",
       "      <td>0.116197</td>\n",
       "      <td>True</td>\n",
       "      <td>100</td>\n",
       "      <td>36</td>\n",
       "      <td>NaN</td>\n",
       "      <td>German_shepherd</td>\n",
       "      <td>0.596461</td>\n",
       "    </tr>\n",
       "    <tr>\n",
       "      <th>2354</th>\n",
       "      <td>True</td>\n",
       "      <td>True</td>\n",
       "      <td>1</td>\n",
       "      <td>https://pbs.twimg.com/media/CT42GRgUYAA5iDo.jpg</td>\n",
       "      <td>1</td>\n",
       "      <td>redbone</td>\n",
       "      <td>0.506826</td>\n",
       "      <td>True</td>\n",
       "      <td>miniature_pinscher</td>\n",
       "      <td>0.074192</td>\n",
       "      <td>True</td>\n",
       "      <td>Rhodesian_ridgeback</td>\n",
       "      <td>0.072010</td>\n",
       "      <td>True</td>\n",
       "      <td>112</td>\n",
       "      <td>39</td>\n",
       "      <td>NaN</td>\n",
       "      <td>redbone</td>\n",
       "      <td>0.506826</td>\n",
       "    </tr>\n",
       "    <tr>\n",
       "      <th>2355</th>\n",
       "      <td>True</td>\n",
       "      <td>True</td>\n",
       "      <td>1</td>\n",
       "      <td>https://pbs.twimg.com/media/CT4udn0WwAA0aMy.jpg</td>\n",
       "      <td>1</td>\n",
       "      <td>Welsh_springer_spaniel</td>\n",
       "      <td>0.465074</td>\n",
       "      <td>True</td>\n",
       "      <td>collie</td>\n",
       "      <td>0.156665</td>\n",
       "      <td>True</td>\n",
       "      <td>Shetland_sheepdog</td>\n",
       "      <td>0.061428</td>\n",
       "      <td>True</td>\n",
       "      <td>2289</td>\n",
       "      <td>422</td>\n",
       "      <td>NaN</td>\n",
       "      <td>Welsh_springer_spaniel</td>\n",
       "      <td>0.465074</td>\n",
       "    </tr>\n",
       "  </tbody>\n",
       "</table>\n",
       "<p>1657 rows × 19 columns</p>\n",
       "</div>"
      ],
      "text/plain": [
       "      check_num  check_denom  count                                          jpg_url  img_num                        p1   p1_conf p1_dog                  p2   p2_conf p2_dog                           p3   p3_conf p3_dog  favorite_count  retweet_count dog_type                     breed      conf\n",
       "1          True         True      1  https://pbs.twimg.com/media/DGGmoV4XsAAUL6n.jpg        1                 Chihuahua  0.323581   True            Pekinese  0.090647   True                     papillon  0.068957   True           29293           5293      NaN                 Chihuahua  0.323581\n",
       "2          True         True      1  https://pbs.twimg.com/media/DGBdLU1WsAANxJ9.jpg        1                 Chihuahua  0.716012   True            malamute  0.078253   True                       kelpie  0.031379   True           22031           3471      NaN                 Chihuahua  0.716012\n",
       "3          True         True      1  https://pbs.twimg.com/media/DF_q7IAWsAEuuN8.jpg        1               paper_towel  0.170278  False  Labrador_retriever  0.168086   True                      spatula  0.040836  False           36888           7216      NaN        Labrador_retriever  0.168086\n",
       "4          True         True      1  https://pbs.twimg.com/media/DF6hr6BUMAAzZgT.jpg        2                    basset  0.555712   True    English_springer  0.225770   True  German_short-haired_pointer  0.175219   True           35273           7743      NaN                    basset  0.555712\n",
       "5          True         True      1  https://pbs.twimg.com/media/DF3HwyEWsAABqE6.jpg        1  Chesapeake_Bay_retriever  0.425595   True       Irish_terrier  0.116317   True              Indian_elephant  0.076902  False           17787           2595      NaN  Chesapeake_Bay_retriever  0.425595\n",
       "...         ...          ...    ...                                              ...      ...                       ...       ...    ...                 ...       ...    ...                          ...       ...    ...             ...            ...      ...                       ...       ...\n",
       "2351       True         True      1  https://pbs.twimg.com/media/CT5IQmsXIAAKY4A.jpg        1        miniature_pinscher  0.560311   True          Rottweiler  0.243682   True                     Doberman  0.154629   True              88             36      NaN        miniature_pinscher  0.560311\n",
       "2352       True         True      1  https://pbs.twimg.com/media/CT5Dr8HUEAA-lEu.jpg        1       Rhodesian_ridgeback  0.408143   True             redbone  0.360687   True           miniature_pinscher  0.222752   True             247            115      NaN       Rhodesian_ridgeback  0.408143\n",
       "2353       True         True      1  https://pbs.twimg.com/media/CT4521TWwAEvMyu.jpg        1           German_shepherd  0.596461   True            malinois  0.138584   True                   bloodhound  0.116197   True             100             36      NaN           German_shepherd  0.596461\n",
       "2354       True         True      1  https://pbs.twimg.com/media/CT42GRgUYAA5iDo.jpg        1                   redbone  0.506826   True  miniature_pinscher  0.074192   True          Rhodesian_ridgeback  0.072010   True             112             39      NaN                   redbone  0.506826\n",
       "2355       True         True      1  https://pbs.twimg.com/media/CT4udn0WwAA0aMy.jpg        1    Welsh_springer_spaniel  0.465074   True              collie  0.156665   True            Shetland_sheepdog  0.061428   True            2289            422      NaN    Welsh_springer_spaniel  0.465074\n",
       "\n",
       "[1657 rows x 19 columns]"
      ]
     },
     "execution_count": 103,
     "metadata": {},
     "output_type": "execute_result"
    }
   ],
   "source": [
    "df_master_clean.iloc[:, 12:]"
   ]
  },
  {
   "cell_type": "code",
   "execution_count": 104,
   "id": "6190bece",
   "metadata": {},
   "outputs": [],
   "source": [
    "#drop the reduced columns\n",
    "df_master_clean.drop(df_master_clean.columns[12:20], inplace = True, axis = 1)"
   ]
  },
  {
   "cell_type": "code",
   "execution_count": 105,
   "id": "d318fcde",
   "metadata": {
    "scrolled": true
   },
   "outputs": [
    {
     "data": {
      "text/html": [
       "<div>\n",
       "<style scoped>\n",
       "    .dataframe tbody tr th:only-of-type {\n",
       "        vertical-align: middle;\n",
       "    }\n",
       "\n",
       "    .dataframe tbody tr th {\n",
       "        vertical-align: top;\n",
       "    }\n",
       "\n",
       "    .dataframe thead th {\n",
       "        text-align: right;\n",
       "    }\n",
       "</style>\n",
       "<table border=\"1\" class=\"dataframe\">\n",
       "  <thead>\n",
       "    <tr style=\"text-align: right;\">\n",
       "      <th></th>\n",
       "      <th>tweet_id</th>\n",
       "      <th>timestamp</th>\n",
       "      <th>source</th>\n",
       "      <th>text</th>\n",
       "      <th>expanded_urls</th>\n",
       "      <th>rating_numerator</th>\n",
       "      <th>rating_denominator</th>\n",
       "      <th>name</th>\n",
       "      <th>number_categories</th>\n",
       "      <th>rating</th>\n",
       "      <th>num</th>\n",
       "      <th>denom</th>\n",
       "      <th>p2</th>\n",
       "      <th>p2_conf</th>\n",
       "      <th>p2_dog</th>\n",
       "      <th>p3</th>\n",
       "      <th>p3_conf</th>\n",
       "      <th>p3_dog</th>\n",
       "      <th>favorite_count</th>\n",
       "      <th>retweet_count</th>\n",
       "      <th>dog_type</th>\n",
       "      <th>breed</th>\n",
       "      <th>conf</th>\n",
       "    </tr>\n",
       "  </thead>\n",
       "  <tbody>\n",
       "    <tr>\n",
       "      <th>1</th>\n",
       "      <td>892177421306343426</td>\n",
       "      <td>2017-08-01 00:17:27+00:00</td>\n",
       "      <td>Twitter for iPhone</td>\n",
       "      <td>This is Tilly. She's just checking pup on you. Hopes you're doing ok. If not, she's available for pats, snugs, boops, the whole bit. 13/10 https://t.co/0Xxu71qeIV</td>\n",
       "      <td>https://twitter.com/dog_rates/status/892177421306343426/photo/1</td>\n",
       "      <td>13.0</td>\n",
       "      <td>10.0</td>\n",
       "      <td>Tilly</td>\n",
       "      <td>0</td>\n",
       "      <td>13/10</td>\n",
       "      <td>13</td>\n",
       "      <td>10</td>\n",
       "      <td>Pekinese</td>\n",
       "      <td>0.090647</td>\n",
       "      <td>True</td>\n",
       "      <td>papillon</td>\n",
       "      <td>0.068957</td>\n",
       "      <td>True</td>\n",
       "      <td>29293</td>\n",
       "      <td>5293</td>\n",
       "      <td>NaN</td>\n",
       "      <td>Chihuahua</td>\n",
       "      <td>0.323581</td>\n",
       "    </tr>\n",
       "    <tr>\n",
       "      <th>2</th>\n",
       "      <td>891815181378084864</td>\n",
       "      <td>2017-07-31 00:18:03+00:00</td>\n",
       "      <td>Twitter for iPhone</td>\n",
       "      <td>This is Archie. He is a rare Norwegian Pouncing Corgo. Lives in the tall grass. You never know when one may strike. 12/10 https://t.co/wUnZnhtVJB</td>\n",
       "      <td>https://twitter.com/dog_rates/status/891815181378084864/photo/1</td>\n",
       "      <td>12.0</td>\n",
       "      <td>10.0</td>\n",
       "      <td>Archie</td>\n",
       "      <td>0</td>\n",
       "      <td>12/10</td>\n",
       "      <td>12</td>\n",
       "      <td>10</td>\n",
       "      <td>malamute</td>\n",
       "      <td>0.078253</td>\n",
       "      <td>True</td>\n",
       "      <td>kelpie</td>\n",
       "      <td>0.031379</td>\n",
       "      <td>True</td>\n",
       "      <td>22031</td>\n",
       "      <td>3471</td>\n",
       "      <td>NaN</td>\n",
       "      <td>Chihuahua</td>\n",
       "      <td>0.716012</td>\n",
       "    </tr>\n",
       "    <tr>\n",
       "      <th>3</th>\n",
       "      <td>891689557279858688</td>\n",
       "      <td>2017-07-30 15:58:51+00:00</td>\n",
       "      <td>Twitter for iPhone</td>\n",
       "      <td>This is Darla. She commenced a snooze mid meal. 13/10 happens to the best of us https://t.co/tD36da7qLQ</td>\n",
       "      <td>https://twitter.com/dog_rates/status/891689557279858688/photo/1</td>\n",
       "      <td>13.0</td>\n",
       "      <td>10.0</td>\n",
       "      <td>Darla</td>\n",
       "      <td>0</td>\n",
       "      <td>13/10</td>\n",
       "      <td>13</td>\n",
       "      <td>10</td>\n",
       "      <td>Labrador_retriever</td>\n",
       "      <td>0.168086</td>\n",
       "      <td>True</td>\n",
       "      <td>spatula</td>\n",
       "      <td>0.040836</td>\n",
       "      <td>False</td>\n",
       "      <td>36888</td>\n",
       "      <td>7216</td>\n",
       "      <td>NaN</td>\n",
       "      <td>Labrador_retriever</td>\n",
       "      <td>0.168086</td>\n",
       "    </tr>\n",
       "    <tr>\n",
       "      <th>4</th>\n",
       "      <td>891327558926688256</td>\n",
       "      <td>2017-07-29 16:00:24+00:00</td>\n",
       "      <td>Twitter for iPhone</td>\n",
       "      <td>This is Franklin. He would like you to stop calling him \"cute.\" He is a very fierce shark and should be respected as such. 12/10 #BarkWeek https://t.co/AtUZn91f7f</td>\n",
       "      <td>https://twitter.com/dog_rates/status/891327558926688256/photo/1,https://twitter.com/dog_rates/status/891327558926688256/photo/1</td>\n",
       "      <td>12.0</td>\n",
       "      <td>10.0</td>\n",
       "      <td>Franklin</td>\n",
       "      <td>0</td>\n",
       "      <td>12/10</td>\n",
       "      <td>12</td>\n",
       "      <td>10</td>\n",
       "      <td>English_springer</td>\n",
       "      <td>0.225770</td>\n",
       "      <td>True</td>\n",
       "      <td>German_short-haired_pointer</td>\n",
       "      <td>0.175219</td>\n",
       "      <td>True</td>\n",
       "      <td>35273</td>\n",
       "      <td>7743</td>\n",
       "      <td>NaN</td>\n",
       "      <td>basset</td>\n",
       "      <td>0.555712</td>\n",
       "    </tr>\n",
       "    <tr>\n",
       "      <th>5</th>\n",
       "      <td>891087950875897856</td>\n",
       "      <td>2017-07-29 00:08:17+00:00</td>\n",
       "      <td>Twitter for iPhone</td>\n",
       "      <td>Here we have a majestic great white breaching off South Africa's coast. Absolutely h*ckin breathtaking. 13/10 (IG: tucker_marlo) #BarkWeek https://t.co/kQ04fDDRmh</td>\n",
       "      <td>https://twitter.com/dog_rates/status/891087950875897856/photo/1</td>\n",
       "      <td>13.0</td>\n",
       "      <td>10.0</td>\n",
       "      <td>NaN</td>\n",
       "      <td>0</td>\n",
       "      <td>13/10</td>\n",
       "      <td>13</td>\n",
       "      <td>10</td>\n",
       "      <td>Irish_terrier</td>\n",
       "      <td>0.116317</td>\n",
       "      <td>True</td>\n",
       "      <td>Indian_elephant</td>\n",
       "      <td>0.076902</td>\n",
       "      <td>False</td>\n",
       "      <td>17787</td>\n",
       "      <td>2595</td>\n",
       "      <td>NaN</td>\n",
       "      <td>Chesapeake_Bay_retriever</td>\n",
       "      <td>0.425595</td>\n",
       "    </tr>\n",
       "  </tbody>\n",
       "</table>\n",
       "</div>"
      ],
      "text/plain": [
       "             tweet_id                 timestamp              source                                                                                                                                                                text                                                                                                                    expanded_urls  rating_numerator  rating_denominator      name  number_categories rating num denom                  p2   p2_conf p2_dog                           p3   p3_conf p3_dog  favorite_count  retweet_count dog_type                     breed      conf\n",
       "1  892177421306343426 2017-08-01 00:17:27+00:00  Twitter for iPhone  This is Tilly. She's just checking pup on you. Hopes you're doing ok. If not, she's available for pats, snugs, boops, the whole bit. 13/10 https://t.co/0Xxu71qeIV                                                                  https://twitter.com/dog_rates/status/892177421306343426/photo/1              13.0                10.0     Tilly                  0  13/10  13    10            Pekinese  0.090647   True                     papillon  0.068957   True           29293           5293      NaN                 Chihuahua  0.323581\n",
       "2  891815181378084864 2017-07-31 00:18:03+00:00  Twitter for iPhone                   This is Archie. He is a rare Norwegian Pouncing Corgo. Lives in the tall grass. You never know when one may strike. 12/10 https://t.co/wUnZnhtVJB                                                                  https://twitter.com/dog_rates/status/891815181378084864/photo/1              12.0                10.0    Archie                  0  12/10  12    10            malamute  0.078253   True                       kelpie  0.031379   True           22031           3471      NaN                 Chihuahua  0.716012\n",
       "3  891689557279858688 2017-07-30 15:58:51+00:00  Twitter for iPhone                                                             This is Darla. She commenced a snooze mid meal. 13/10 happens to the best of us https://t.co/tD36da7qLQ                                                                  https://twitter.com/dog_rates/status/891689557279858688/photo/1              13.0                10.0     Darla                  0  13/10  13    10  Labrador_retriever  0.168086   True                      spatula  0.040836  False           36888           7216      NaN        Labrador_retriever  0.168086\n",
       "4  891327558926688256 2017-07-29 16:00:24+00:00  Twitter for iPhone  This is Franklin. He would like you to stop calling him \"cute.\" He is a very fierce shark and should be respected as such. 12/10 #BarkWeek https://t.co/AtUZn91f7f  https://twitter.com/dog_rates/status/891327558926688256/photo/1,https://twitter.com/dog_rates/status/891327558926688256/photo/1              12.0                10.0  Franklin                  0  12/10  12    10    English_springer  0.225770   True  German_short-haired_pointer  0.175219   True           35273           7743      NaN                    basset  0.555712\n",
       "5  891087950875897856 2017-07-29 00:08:17+00:00  Twitter for iPhone  Here we have a majestic great white breaching off South Africa's coast. Absolutely h*ckin breathtaking. 13/10 (IG: tucker_marlo) #BarkWeek https://t.co/kQ04fDDRmh                                                                  https://twitter.com/dog_rates/status/891087950875897856/photo/1              13.0                10.0       NaN                  0  13/10  13    10       Irish_terrier  0.116317   True              Indian_elephant  0.076902  False           17787           2595      NaN  Chesapeake_Bay_retriever  0.425595"
      ]
     },
     "execution_count": 105,
     "metadata": {},
     "output_type": "execute_result"
    }
   ],
   "source": [
    "df_master_clean.head()"
   ]
  },
  {
   "cell_type": "markdown",
   "id": "c947623c",
   "metadata": {},
   "source": [
    "**10. Clean the new breed column by replacing the \"_\" with a whitespace and make them all lowercase**"
   ]
  },
  {
   "cell_type": "markdown",
   "id": "9af15a9c",
   "metadata": {},
   "source": [
    "Now that we have our reduced column, we have to clean it for consistency."
   ]
  },
  {
   "cell_type": "code",
   "execution_count": 106,
   "id": "154deb6c",
   "metadata": {},
   "outputs": [],
   "source": [
    "#replace \"_\" with \" \"\n",
    "df_master_clean.breed = df_master_clean.breed.str.replace(\"_\", \" \")"
   ]
  },
  {
   "cell_type": "code",
   "execution_count": 107,
   "id": "a8c7bfb7",
   "metadata": {
    "scrolled": true
   },
   "outputs": [
    {
     "data": {
      "text/plain": [
       "1                      Chihuahua\n",
       "2                      Chihuahua\n",
       "3             Labrador retriever\n",
       "4                         basset\n",
       "5       Chesapeake Bay retriever\n",
       "                  ...           \n",
       "2351          miniature pinscher\n",
       "2352         Rhodesian ridgeback\n",
       "2353             German shepherd\n",
       "2354                     redbone\n",
       "2355      Welsh springer spaniel\n",
       "Name: breed, Length: 1657, dtype: object"
      ]
     },
     "execution_count": 107,
     "metadata": {},
     "output_type": "execute_result"
    }
   ],
   "source": [
    "df_master_clean.breed"
   ]
  },
  {
   "cell_type": "code",
   "execution_count": 108,
   "id": "bdc20288",
   "metadata": {},
   "outputs": [],
   "source": [
    "#https://stackoverflow.com/questions/22245171/how-to-lowercase-a-python-dataframe-string-column-if-it-has-missing-values\n",
    "#lower the strings\n",
    "df_master_clean.breed = df_master_clean.breed.str.lower()"
   ]
  },
  {
   "cell_type": "code",
   "execution_count": 109,
   "id": "91c463df",
   "metadata": {
    "scrolled": true
   },
   "outputs": [
    {
     "data": {
      "text/plain": [
       "golden retriever      156\n",
       "labrador retriever    103\n",
       "pembroke               94\n",
       "chihuahua              90\n",
       "pug                    62\n",
       "toy poodle             49\n",
       "chow                   48\n",
       "samoyed                41\n",
       "pomeranian             41\n",
       "malamute               32\n",
       "Name: breed, dtype: int64"
      ]
     },
     "execution_count": 109,
     "metadata": {},
     "output_type": "execute_result"
    }
   ],
   "source": [
    "df_master_clean.breed.value_counts().head(10)"
   ]
  },
  {
   "cell_type": "code",
   "execution_count": 110,
   "id": "c5aac137",
   "metadata": {},
   "outputs": [],
   "source": [
    "#reset index to match with the real amount of rows\n",
    "df_master_clean.reset_index(drop = True, inplace = True)"
   ]
  },
  {
   "cell_type": "code",
   "execution_count": 111,
   "id": "ba9095e7",
   "metadata": {
    "scrolled": true
   },
   "outputs": [
    {
     "name": "stdout",
     "output_type": "stream",
     "text": [
      "<class 'pandas.core.frame.DataFrame'>\n",
      "RangeIndex: 1657 entries, 0 to 1656\n",
      "Data columns (total 23 columns):\n",
      " #   Column              Non-Null Count  Dtype              \n",
      "---  ------              --------------  -----              \n",
      " 0   tweet_id            1657 non-null   object             \n",
      " 1   timestamp           1657 non-null   datetime64[ns, UTC]\n",
      " 2   source              1657 non-null   object             \n",
      " 3   text                1657 non-null   object             \n",
      " 4   expanded_urls       1657 non-null   object             \n",
      " 5   rating_numerator    1657 non-null   float64            \n",
      " 6   rating_denominator  1657 non-null   float64            \n",
      " 7   name                1205 non-null   object             \n",
      " 8   number_categories   1657 non-null   int64              \n",
      " 9   rating              1657 non-null   object             \n",
      " 10  num                 1657 non-null   object             \n",
      " 11  denom               1657 non-null   object             \n",
      " 12  p2                  1657 non-null   object             \n",
      " 13  p2_conf             1657 non-null   float64            \n",
      " 14  p2_dog              1657 non-null   object             \n",
      " 15  p3                  1657 non-null   object             \n",
      " 16  p3_conf             1657 non-null   float64            \n",
      " 17  p3_dog              1657 non-null   object             \n",
      " 18  favorite_count      1657 non-null   int64              \n",
      " 19  retweet_count       1657 non-null   int64              \n",
      " 20  dog_type            282 non-null    object             \n",
      " 21  breed               1657 non-null   object             \n",
      " 22  conf                1657 non-null   float64            \n",
      "dtypes: datetime64[ns, UTC](1), float64(5), int64(3), object(14)\n",
      "memory usage: 297.9+ KB\n"
     ]
    }
   ],
   "source": [
    "df_master_clean.info()"
   ]
  },
  {
   "cell_type": "code",
   "execution_count": 112,
   "id": "4dc4f48d",
   "metadata": {
    "scrolled": true
   },
   "outputs": [
    {
     "data": {
      "text/html": [
       "<div>\n",
       "<style scoped>\n",
       "    .dataframe tbody tr th:only-of-type {\n",
       "        vertical-align: middle;\n",
       "    }\n",
       "\n",
       "    .dataframe tbody tr th {\n",
       "        vertical-align: top;\n",
       "    }\n",
       "\n",
       "    .dataframe thead th {\n",
       "        text-align: right;\n",
       "    }\n",
       "</style>\n",
       "<table border=\"1\" class=\"dataframe\">\n",
       "  <thead>\n",
       "    <tr style=\"text-align: right;\">\n",
       "      <th></th>\n",
       "      <th>breed</th>\n",
       "      <th>conf</th>\n",
       "    </tr>\n",
       "  </thead>\n",
       "  <tbody>\n",
       "    <tr>\n",
       "      <th>0</th>\n",
       "      <td>chihuahua</td>\n",
       "      <td>0.323581</td>\n",
       "    </tr>\n",
       "    <tr>\n",
       "      <th>1</th>\n",
       "      <td>chihuahua</td>\n",
       "      <td>0.716012</td>\n",
       "    </tr>\n",
       "    <tr>\n",
       "      <th>2</th>\n",
       "      <td>labrador retriever</td>\n",
       "      <td>0.168086</td>\n",
       "    </tr>\n",
       "  </tbody>\n",
       "</table>\n",
       "</div>"
      ],
      "text/plain": [
       "                breed      conf\n",
       "0           chihuahua  0.323581\n",
       "1           chihuahua  0.716012\n",
       "2  labrador retriever  0.168086"
      ]
     },
     "execution_count": 112,
     "metadata": {},
     "output_type": "execute_result"
    }
   ],
   "source": [
    "df_master_clean[[\"breed\", \"conf\"]].head(3)"
   ]
  },
  {
   "cell_type": "code",
   "execution_count": 113,
   "id": "09ef4435",
   "metadata": {},
   "outputs": [],
   "source": [
    "#save the data to a *.csv file\n",
    "df_master_clean.to_csv('twitter_archive_master.csv', index = False)"
   ]
  },
  {
   "cell_type": "markdown",
   "id": "6b89f6a9",
   "metadata": {},
   "source": [
    "### 1. Insight one\n",
    "What is most popular breed dog?"
   ]
  },
  {
   "cell_type": "code",
   "execution_count": 114,
   "id": "7c7b19f0",
   "metadata": {},
   "outputs": [
    {
     "data": {
      "image/png": "[encoded data removed]",
      "text/plain": [
       "<Figure size 864x576 with 1 Axes>"
      ]
     },
     "metadata": {
      "needs_background": "light"
     },
     "output_type": "display_data"
    }
   ],
   "source": [
    "# grouping by breed_dog column and return the number of items in this grouped dataframe by dog breed \n",
    "popular_breed = df_master_clean.groupby('breed').filter(lambda x: len(x) >= 40)\n",
    "\n",
    "# plotting the value counting ascending of most popular dog breed\n",
    "count_breed = popular_breed.breed.value_counts(ascending = True)\n",
    "count_breed.plot(kind = 'barh', figsize = [12, 8], color='c')\n",
    "\n",
    "#display values for each bar\n",
    "for index, value in enumerate(count_breed):\n",
    "    plt.text(value, index, str(value))\n",
    "    \n",
    "plt.title('The most popular dog breed', fontsize = 16)\n",
    "plt.xlabel('Number of breeds tweeted in dataset', fontsize = 14)\n",
    "plt.ylabel('Breed of dog', fontsize = 14)\n",
    "plt.xlim(0, 175) # limiting the X axis on 175 \n",
    "\n",
    "# exporting the horizontal bar plot on png format \n",
    "plt.savefig('popular_breed.png', bbox_inches='tight');"
   ]
  },
  {
   "cell_type": "markdown",
   "id": "2a5f4c6e",
   "metadata": {},
   "source": [
    ">- We can see that golden retriver is the most popular dog breed"
   ]
  },
  {
   "cell_type": "markdown",
   "id": "7baa8a42",
   "metadata": {},
   "source": [
    "### Insight two\n",
    "Which dog breed got the most retweet?"
   ]
  },
  {
   "cell_type": "code",
   "execution_count": 119,
   "id": "cd84f2c6",
   "metadata": {
    "scrolled": true
   },
   "outputs": [
    {
     "data": {
      "image/png": "[encoded data removed]",
      "text/plain": [
       "<Figure size 864x576 with 1 Axes>"
      ]
     },
     "metadata": {
      "needs_background": "light"
     },
     "output_type": "display_data"
    }
   ],
   "source": [
    "# choose the 10 hight retweeted breed dogs \n",
    "high_retweet = df_master_clean.groupby('breed').retweet_count.mean().round(2).sort_values(ascending = False).iloc[:10]\n",
    "\n",
    "# plotting the high retweeted breed\n",
    "high_retweet.plot(kind='barh', figsize=[12, 8], color=\"g\")\n",
    "\n",
    "# adding the text values to each bar in chart \n",
    "for index, value in enumerate(high_retweet):\n",
    "    plt.text(value, index, float(value))\n",
    "\n",
    "plt.title('The most retweeted dog breed', fontsize = 16) \n",
    "plt.xlabel('Retweet mean', fontsize = 14)\n",
    "plt.ylabel('Dog breeds', fontsize = 14)\n",
    "plt.xlim(0, 8500) # limiting the X-axis on 8500 \n",
    "\n",
    "# exporting the bar plot on png format \n",
    "plt.savefig('high_retweet_breed.png', bbox_inches='tight');"
   ]
  },
  {
   "cell_type": "markdown",
   "id": "14443bce",
   "metadata": {},
   "source": [
    ">- bedlington is the dog breed with the most retweet"
   ]
  },
  {
   "cell_type": "markdown",
   "id": "1d82e11e",
   "metadata": {},
   "source": [
    "### Insight three\n",
    "The dog breed get the highest favorite count"
   ]
  },
  {
   "cell_type": "code",
   "execution_count": 116,
   "id": "b94adc73",
   "metadata": {
    "scrolled": true
   },
   "outputs": [
    {
     "data": {
      "image/png": "[encoded data removed]",
      "text/plain": [
       "<Figure size 864x576 with 1 Axes>"
      ]
     },
     "metadata": {
      "needs_background": "light"
     },
     "output_type": "display_data"
    }
   ],
   "source": [
    "# choose the 10 hight favorited breed dogs \n",
    "high_favorite = df_master_clean.groupby('breed').favorite_count.mean().round(2).sort_values(ascending = False).iloc[:10]\n",
    "\n",
    "# plotting the high retweeted breed\n",
    "high_favorite.plot(kind='barh', figsize=[12, 8])\n",
    "\n",
    "# adding the text values to each bar in chart\n",
    "for index, value in enumerate(high_favorite):\n",
    "    plt.text(value, index, float(value))\n",
    "    \n",
    "    \n",
    "plt.title('The most favorite dog breed', fontsize = 16)\n",
    "plt.xlabel('Dog breeds', fontsize = 14)\n",
    "plt.ylabel('Favorite count', fontsize = 14)\n",
    "plt.xlim(0, 33500) # limiting the Y-axis on 33500 \n",
    "\n",
    "# exporting the bar plot on png format \n",
    "plt.savefig('high_favorite_breed.png', bbox_inches='tight');"
   ]
  },
  {
   "cell_type": "markdown",
   "id": "96f07709",
   "metadata": {},
   "source": [
    " >- We can see, that the most favorited dog breed for @dog_rates page users is Bedlington terrier"
   ]
  },
  {
   "cell_type": "markdown",
   "id": "4748b96c",
   "metadata": {},
   "source": [
    "## Insight four\n",
    "\n",
    "The correlation between favorite count and retweet count for breed dogs"
   ]
  },
  {
   "cell_type": "code",
   "execution_count": 117,
   "id": "9dea6351",
   "metadata": {},
   "outputs": [
    {
     "data": {
      "image/png": "[encoded data removed]",
      "text/plain": [
       "<Figure size 640x640 with 1 Axes>"
      ]
     },
     "metadata": {
      "needs_background": "light"
     },
     "output_type": "display_data"
    }
   ],
   "source": [
    "# getting the mean of retweet by breed dog \n",
    "high_retweet2 = df_master_clean.groupby('breed').retweet_count.mean()\n",
    "\n",
    "# getting the mean of favorite by breed dog \n",
    "high_favorite2 = df_master_clean.groupby('breed').favorite_count.mean()\n",
    "\n",
    "# set up the figure size of plotting \n",
    "plt.figure(figsize=(8, 8), dpi=80)\n",
    "\n",
    "#plotting the scatter chart of two variables\n",
    "plt.scatter(x=high_retweet2, y=high_favorite2)\n",
    "\n",
    "plt.title('The corellation between retweet count and favorite ', fontsize = 16)\n",
    "plt.xlabel('Retweet count', fontsize = 14)\n",
    "plt.ylabel('Favorite count', fontsize = 14)\n",
    "plt.xlim(0, 9000) # limiting the X axis on 9000 \n",
    "plt.ylim(0, 30000) # limiting the  axis on 30000 \n",
    "\n",
    "# exporting the bar plot on png format \n",
    "plt.savefig('retweet_favorite_correlation.png', bbox_inches='tight');"
   ]
  },
  {
   "cell_type": "markdown",
   "id": "69b1c42e",
   "metadata": {},
   "source": [
    ">- The favorite count and retweet count had a positive correlation for almost all values, which is logical"
   ]
  },
  {
   "cell_type": "markdown",
   "id": "aa1cdf98",
   "metadata": {},
   "source": [
    "## Insight five\n",
    "\n",
    "The most used rating for all tweets"
   ]
  },
  {
   "cell_type": "code",
   "execution_count": 120,
   "id": "cdab4d76",
   "metadata": {},
   "outputs": [
    {
     "data": {
      "image/png": "[encoded data removed]",
      "text/plain": [
       "<Figure size 864x576 with 1 Axes>"
      ]
     },
     "metadata": {
      "needs_background": "light"
     },
     "output_type": "display_data"
    }
   ],
   "source": [
    "# get the rating count \n",
    "com_rate = df_master_clean.groupby('rating_numerator').tweet_id.count().sort_values(ascending=True)\n",
    "\n",
    "com_rate.plot(kind='barh', figsize=[12, 8])\n",
    "\n",
    "for index, value in enumerate(com_rate):\n",
    "    plt.text(value, index, float(value))\n",
    "    \n",
    "plt.title('The most rating used', fontsize = 16)\n",
    "plt.xlabel('Tweet count', fontsize = 14)\n",
    "plt.ylabel('Rating', fontsize = 14)\n",
    "plt.xlim(0, 600)# limiting the X-axis on 600\n",
    "\n",
    "# exporting the bar plot on png format \n",
    "plt.savefig('most_used_rate.png', bbox_inches='tight');"
   ]
  },
  {
   "cell_type": "markdown",
   "id": "9e95cea8",
   "metadata": {},
   "source": [
    ">- For @dog_rates page users, the most used rating for breed dog is 12 followed by 11 and 10, which mean almost all the users use a moderate rating"
   ]
  },
  {
   "cell_type": "markdown",
   "id": "ed066728",
   "metadata": {},
   "source": [
    "## Most popular dog category\n",
    "Dog Types\n",
    "\n",
    "WeRateDogs classifies dogs into one of four stages: doggo, pupper, puppo, and floof(er).Let's check how many dogs we have for each category."
   ]
  },
  {
   "cell_type": "code",
   "execution_count": 123,
   "id": "27da78d4",
   "metadata": {
    "scrolled": false
   },
   "outputs": [
    {
     "data": {
      "text/plain": [
       "Pupper     184\n",
       "Doggo       65\n",
       "Puppo       25\n",
       "Floofer      8\n",
       "Name: dog_type, dtype: int64"
      ]
     },
     "execution_count": 123,
     "metadata": {},
     "output_type": "execute_result"
    }
   ],
   "source": [
    "df_master_clean.dog_type.value_counts()"
   ]
  },
  {
   "cell_type": "code",
   "execution_count": 121,
   "id": "32cbfa9a",
   "metadata": {},
   "outputs": [],
   "source": [
    "# bar plot function\n",
    "def plot_bar(x, y, title=\"\", xlabel=\"\", ylabel=\"\", rotation=0, width=0.8):\n",
    "    \n",
    "    plt.figure(figsize=(9,6)) \n",
    "\n",
    "    bar_list = plt.bar(x, y, color=\"#173c8c\", edgecolor=\"k\", width=width)\n",
    "\n",
    "\n",
    "    plt.title(title,\n",
    "              fontsize=18)\n",
    "    \n",
    "    plt.xlabel(xlabel,\n",
    "               fontsize=15)\n",
    "    \n",
    "    plt.ylabel(ylabel,\n",
    "               fontsize=15)\n",
    "\n",
    "    return plt.show()"
   ]
  },
  {
   "cell_type": "code",
   "execution_count": 122,
   "id": "b72f985a",
   "metadata": {
    "scrolled": true
   },
   "outputs": [
    {
     "data": {
      "image/png": "[encoded data removed]",
      "text/plain": [
       "<Figure size 648x432 with 1 Axes>"
      ]
     },
     "metadata": {
      "needs_background": "light"
     },
     "output_type": "display_data"
    }
   ],
   "source": [
    "# plot dog types\n",
    "dog_types = pd.DataFrame(df_master_clean.dog_type.value_counts())\n",
    "\n",
    "plot_bar(dog_types.index,\n",
    "         dog_types.dog_type,\n",
    "         width=0.25, \n",
    "         title=\"Dog Types\",\n",
    "          ylabel=\"Count\")"
   ]
  },
  {
   "cell_type": "markdown",
   "id": "c853b049",
   "metadata": {},
   "source": [
    ">- Pupper is the most common dog category, followed by Doggo. Floofer is very rare."
   ]
  },
  {
   "cell_type": "markdown",
   "id": "ddebd737",
   "metadata": {},
   "source": [
    "## Conclusion"
   ]
  },
  {
   "cell_type": "markdown",
   "id": "d7e8242e",
   "metadata": {},
   "source": [
    "\n",
    "This project is for data wrangling of the @dog_rates Twitter account.\n",
    "\n",
    "First and foremost, The data gathering process involved three steps, downloading TSV file, gathering data from twitter API and gathering data from json file. \n",
    "\n",
    "Second, using the data gathered, I assessed common data issues in the dataset and documented it for cleaning and. In the data cleaning process, I fixed all the identified issues involving structural and as well as quality issues and merged the dataframe into one. Finaly, I stored dataframe in a csv file.\n",
    "\n",
    "Third, in the exploratory data analysis process, I explored and vizualized the data from cleaning stage, and tried to get some insights, we found strong evidence of:\n",
    "\n",
    "The most polular, most retweeted and favorited breed dogs.\n",
    "\n",
    "The correlation between favorited and retweeted counts is positive. The most breeds get a moderate rating between 10 and 12,\n"
   ]
  }
 ],
 "metadata": {
  "kernelspec": {
   "display_name": "Python 3 (ipykernel)",
   "language": "python",
   "name": "python3"
  },
  "language_info": {
   "codemirror_mode": {
    "name": "ipython",
    "version": 3
   },
   "file_extension": ".py",
   "mimetype": "text/x-python",
   "name": "python",
   "nbconvert_exporter": "python",
   "pygments_lexer": "ipython3",
   "version": "3.9.7"
  }
 },
 "nbformat": 4,
 "nbformat_minor": 5
}
